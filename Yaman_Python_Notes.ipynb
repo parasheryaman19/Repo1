{
  "nbformat": 4,
  "nbformat_minor": 0,
  "metadata": {
    "kernelspec": {
      "display_name": "Python 3",
      "language": "python",
      "name": "python3"
    },
    "language_info": {
      "codemirror_mode": {
        "name": "ipython",
        "version": 3
      },
      "file_extension": ".py",
      "mimetype": "text/x-python",
      "name": "python",
      "nbconvert_exporter": "python",
      "pygments_lexer": "ipython3",
      "version": "3.7.4"
    },
    "colab": {
      "name": "Yaman_Python_Notes.ipynb",
      "provenance": [],
      "include_colab_link": true
    }
  },
  "cells": [
    {
      "cell_type": "markdown",
      "metadata": {
        "id": "view-in-github",
        "colab_type": "text"
      },
      "source": [
        "<a href=\"https://colab.research.google.com/github/parasheryaman19/Repo1/blob/master/Yaman_Python_Notes.ipynb\" target=\"_parent\"><img src=\"https://colab.research.google.com/assets/colab-badge.svg\" alt=\"Open In Colab\"/></a>"
      ]
    },
    {
      "cell_type": "markdown",
      "metadata": {
        "id": "y8kwzwGx6-z4",
        "colab_type": "text"
      },
      "source": [
        "## Chapter 2 - Basics of Python "
      ]
    },
    {
      "cell_type": "markdown",
      "metadata": {
        "id": "AFBQYd3g6-z6",
        "colab_type": "text"
      },
      "source": [
        "### 2.1 Comments in Python \n",
        "\n",
        "- These are the statements which you want the python interpreter to ignore. \n",
        "- Comments are used to make the code more understandable. \n",
        "- Multiline comments serve as the documentation for others. "
      ]
    },
    {
      "cell_type": "code",
      "metadata": {
        "id": "GY81NHXL6-z7",
        "colab_type": "code",
        "colab": {
          "base_uri": "https://localhost:8080/",
          "height": 35
        },
        "outputId": "c7edab9a-bfd0-40bb-e5c3-3b7fe6daa6dc"
      },
      "source": [
        "# This is a single line comment created using the '# (hash)' symbol.\n",
        "\n",
        "'''\n",
        "This is a multiline comment created using the delimeter \n",
        "'''"
      ],
      "execution_count": null,
      "outputs": [
        {
          "output_type": "execute_result",
          "data": {
            "application/vnd.google.colaboratory.intrinsic": {
              "type": "string"
            },
            "text/plain": [
              "'\\nThis is a multiline comment created using the delimeter \\n'"
            ]
          },
          "metadata": {
            "tags": []
          },
          "execution_count": 1
        }
      ]
    },
    {
      "cell_type": "markdown",
      "metadata": {
        "id": "lnc6Oy2l6-0A",
        "colab_type": "text"
      },
      "source": [
        "### 2.2 Variables Part 1 \n",
        "\n",
        "- **Identifier** is the smallest identifying unit in the program. \n",
        "- Below are the identifiers \n",
        "  * Variables \n",
        "  * Types \n",
        "  * Labels \n",
        "  * Subroutines \n",
        "  * Functions and Packages \n",
        "- When the variables are created then some space in the memory (RAM) is reserved for them. \n",
        "- Execution of any program **HARD DISK ------> RAM --------> PROCESSOR** executes the program (ALU). \n",
        "- When we create a variable like **price = 100** this means **price -------> OBJECT=100 (memory location or ID)**.\n",
        "- Here price is the **reference variable** that contains the id or the memory location of the value it refers.\n",
        "- Variable naming rules \n",
        "  1. Can be combination of alphabet, digit and underscore. \n",
        "  2. Variable name cannot start with a digit. \n",
        "  3. Variable names are case sensitive. \n",
        "  4. Keywords cannot be used as the variable names. \n",
        "- Objective of any program is the **Data Processing**."
      ]
    },
    {
      "cell_type": "markdown",
      "metadata": {
        "id": "oS6G2kTx6-0A",
        "colab_type": "text"
      },
      "source": [
        "### 2.3 Variables Part 2\n",
        "\n",
        "- These are dynamically typed which can be understood by the below points. \n",
        "- Not only the value of a variable may change during the program execution but the type as well. \n",
        "- You can assign an integer value to a variable, use it as an integer for a while and then assign a string to the variable. "
      ]
    },
    {
      "cell_type": "code",
      "metadata": {
        "id": "H6GwNO1L6-0B",
        "colab_type": "code",
        "colab": {},
        "outputId": "483fd36a-badf-477c-d632-7e41f449e7ce"
      },
      "source": [
        "# Declare the variable x  \n",
        "x = 100 \n",
        "# Print the type of x \n",
        "print(type(x))\n",
        "# Change the type and value of x ----> Dynamically typed \n",
        "x = 'Sidharth'\n",
        "# Print the new type of x \n",
        "print(type(x))"
      ],
      "execution_count": null,
      "outputs": [
        {
          "output_type": "stream",
          "text": [
            "<class 'int'>\n",
            "<class 'str'>\n"
          ],
          "name": "stdout"
        }
      ]
    },
    {
      "cell_type": "code",
      "metadata": {
        "id": "ipOJobUs6-0G",
        "colab_type": "code",
        "colab": {},
        "outputId": "e9d15835-6611-403e-ab9f-0e3b9ec68277"
      },
      "source": [
        "# x is having the id of the object-value(3) it is refering to \n",
        "x =3 \n",
        "print(id(x))\n",
        "# y is also refering to the same object-value(3) which the x is refering to \n",
        "y = x \n",
        "print(id(y))"
      ],
      "execution_count": null,
      "outputs": [
        {
          "output_type": "stream",
          "text": [
            "140732020400592\n",
            "140732020400592\n"
          ],
          "name": "stdout"
        }
      ]
    },
    {
      "cell_type": "markdown",
      "metadata": {
        "id": "J_pBF2pf6-0K",
        "colab_type": "text"
      },
      "source": [
        "### 2.4 Keywords in Python \n",
        "\n",
        "- Keywords are predefined words or reserved words \n",
        "- They cannot be used as the variable names as their meaning is already reserved. \n",
        "- There are **35 Keywords** in python. "
      ]
    },
    {
      "cell_type": "code",
      "metadata": {
        "id": "F9kxxSxR6-0K",
        "colab_type": "code",
        "colab": {},
        "outputId": "7b21d47f-6d44-4aa7-8788-30e9390e564a"
      },
      "source": [
        "# Import the keyword module \n",
        "import keyword \n",
        "# Getting the list of all the keywords in python\n",
        "keywords_python= keyword.kwlist\n",
        "# Print the list of the keywords \n",
        "print(keywords_python)\n",
        "# Print the number of keywords in the list \n",
        "print(len(keywords_python))"
      ],
      "execution_count": null,
      "outputs": [
        {
          "output_type": "stream",
          "text": [
            "['False', 'None', 'True', 'and', 'as', 'assert', 'async', 'await', 'break', 'class', 'continue', 'def', 'del', 'elif', 'else', 'except', 'finally', 'for', 'from', 'global', 'if', 'import', 'in', 'is', 'lambda', 'nonlocal', 'not', 'or', 'pass', 'raise', 'return', 'try', 'while', 'with', 'yield']\n",
            "35\n"
          ],
          "name": "stdout"
        }
      ]
    },
    {
      "cell_type": "markdown",
      "metadata": {
        "id": "805dbFlT6-0N",
        "colab_type": "text"
      },
      "source": [
        "### 2.5 Data Type in Python \n",
        "\n",
        "- Data type is the category of the data \n",
        "- Why we need the data type \n",
        "  - Memory \n",
        "  - Operations on it \n",
        "  - Internal representation \n",
        "- List of built in data types \n",
        "  1. **int** \n",
        "  2. **float** \n",
        "  3. **complex** \n",
        "  4. **bool** \n",
        "  5. **str** \n",
        "  6. **bytes** \n",
        "  7. **byte array** \n",
        "  8. **range** \n",
        "  9. **list** \n",
        "  10. **tuple** \n",
        "  11. **set** \n",
        "  12. **frozen set** \n",
        "  13. **dict** \n",
        "  14. **None Type** "
      ]
    },
    {
      "cell_type": "markdown",
      "metadata": {
        "id": "6S31H3Fl6-0O",
        "colab_type": "text"
      },
      "source": [
        "### 2.6 Type Conversion in Python \n",
        "- Python defines type conversion functions to directly convert one data type to another. \n",
        "- Below are the functions which change the type of the variable from one type to another. \n",
        "  1. **int()**\n",
        "  2. **float()**\n",
        "  3. **ord()** # returns the unicode \n",
        "  4. **str()**\n",
        "  5. **complex()**\n",
        "  6. **dict()**\n",
        "  7. **tuple()**\n",
        "  8. **list()**\n",
        "  9. **set()**"
      ]
    },
    {
      "cell_type": "code",
      "metadata": {
        "id": "RgBjYIL86-0P",
        "colab_type": "code",
        "colab": {},
        "outputId": "c0e6bfd2-ce66-4df4-a9ef-95b9db577a49"
      },
      "source": [
        "x = 'a'\n",
        "y = ord(x)\n",
        "print(y)"
      ],
      "execution_count": null,
      "outputs": [
        {
          "output_type": "stream",
          "text": [
            "97\n"
          ],
          "name": "stdout"
        }
      ]
    },
    {
      "cell_type": "markdown",
      "metadata": {
        "id": "GTc1bxyK6-0S",
        "colab_type": "text"
      },
      "source": [
        "### 2.7 Handling Number System in Python \n",
        "\n",
        "- Needs to be populated "
      ]
    },
    {
      "cell_type": "markdown",
      "metadata": {
        "id": "By07nhFP6-0S",
        "colab_type": "text"
      },
      "source": [
        "### 2.8 Operators in Python \n",
        "\n",
        "- Special symbols in python that carry out the arithmetic or logical computation. \n",
        "- Operator require operands (data) to perform its job. \n",
        "- Below is the list of the Operators \n",
        "  1. **Arithmetic Operators** \n",
        "  2. **Relational Operators** \n",
        "  3. **Logical Operators** \n",
        "  4. **Bitwise Operators** \n",
        "  5. **Assignment Operators** \n",
        "  6. **Identity Operators** \n",
        "  7. **Membership Operators** \n",
        "  \n",
        "#### NOTE:\n",
        "* No pre and post increment/decrement operator in python \n",
        "* No conditional operator in python ( ? : ) "
      ]
    },
    {
      "cell_type": "markdown",
      "metadata": {
        "id": "SQi_jZZu6-0T",
        "colab_type": "text"
      },
      "source": [
        "### 2.9 Arithmetic Operators \n",
        "\n",
        "#### 1) ******  Exponent \n",
        "#### 2) **/**        Divide (Float) \n",
        "#### 3) **//**       Divide (Floor) \n",
        "#### 4) *****       Multiply \n",
        "#### 5) **%**      Modulus\n",
        "#### 6) **+**      Addition \n",
        "#### 7) **-**      Substraction "
      ]
    },
    {
      "cell_type": "markdown",
      "metadata": {
        "id": "WExn6ceD6-0V",
        "colab_type": "text"
      },
      "source": [
        "### 2.10 Relational Operators \n",
        "\n",
        "#### 1)  >  Greater than \n",
        "#### 2) <     Less than \n",
        "#### 3) >=  Greater than equal to \n",
        "#### 4) <=  Less than equal to \n",
        "#### 5) ==  Equal to \n",
        "#### 6) !=   Not equal to \n",
        "\n",
        "#### Some points \n",
        "- Relational operator always yield True or False as the result \n",
        "- When truth value converted to int, it becomes 0 or 1 \n",
        "- Relational operators can also be used to compare the strings. \n",
        "- Only == and != can work between the complex values. "
      ]
    },
    {
      "cell_type": "code",
      "metadata": {
        "id": "jKFSoY1h6-0W",
        "colab_type": "code",
        "colab": {},
        "outputId": "d27b010b-c3e8-488a-fb57-d525c890c23c"
      },
      "source": [
        "print(int(True))\n",
        "print(int(False))\n",
        "print(bool(4))\n",
        "print(bool(0))\n",
        "print('ABDER' > 'BS')\n",
        "print('ABC' == 'DEF')\n",
        "print('AB' == 'AB')"
      ],
      "execution_count": null,
      "outputs": [
        {
          "output_type": "stream",
          "text": [
            "1\n",
            "0\n",
            "True\n",
            "False\n",
            "False\n",
            "False\n",
            "True\n"
          ],
          "name": "stdout"
        }
      ]
    },
    {
      "cell_type": "code",
      "metadata": {
        "id": "8OXH9pfm6-0a",
        "colab_type": "code",
        "colab": {},
        "outputId": "e6d295cb-5891-446a-955f-347f419ca216"
      },
      "source": [
        "# Any other relational operator except == and != between the complex numbers will give error \n",
        "3+ 4j > 2+ 3j"
      ],
      "execution_count": null,
      "outputs": [
        {
          "output_type": "error",
          "ename": "TypeError",
          "evalue": "'>' not supported between instances of 'complex' and 'complex'",
          "traceback": [
            "\u001b[1;31m---------------------------------------------------------------------------\u001b[0m",
            "\u001b[1;31mTypeError\u001b[0m                                 Traceback (most recent call last)",
            "\u001b[1;32m<ipython-input-38-b174c95945c4>\u001b[0m in \u001b[0;36m<module>\u001b[1;34m\u001b[0m\n\u001b[0;32m      1\u001b[0m \u001b[1;31m# Any other relational operator except == and != between the complex numbers will give error\u001b[0m\u001b[1;33m\u001b[0m\u001b[1;33m\u001b[0m\u001b[1;33m\u001b[0m\u001b[0m\n\u001b[1;32m----> 2\u001b[1;33m \u001b[1;36m3\u001b[0m\u001b[1;33m+\u001b[0m \u001b[1;36m4j\u001b[0m \u001b[1;33m>\u001b[0m \u001b[1;36m2\u001b[0m\u001b[1;33m+\u001b[0m \u001b[1;36m3j\u001b[0m\u001b[1;33m\u001b[0m\u001b[1;33m\u001b[0m\u001b[0m\n\u001b[0m",
            "\u001b[1;31mTypeError\u001b[0m: '>' not supported between instances of 'complex' and 'complex'"
          ]
        }
      ]
    },
    {
      "cell_type": "code",
      "metadata": {
        "id": "yg-SAXMZ6-0f",
        "colab_type": "code",
        "colab": {},
        "outputId": "1830c257-480d-4963-f86e-f1fd81f093ce"
      },
      "source": [
        "print(3+4j == 2+3j) \n",
        "print(3+4j != 2+3j) "
      ],
      "execution_count": null,
      "outputs": [
        {
          "output_type": "stream",
          "text": [
            "False\n",
            "True\n"
          ],
          "name": "stdout"
        }
      ]
    },
    {
      "cell_type": "code",
      "metadata": {
        "id": "ZuuOmUTp6-0i",
        "colab_type": "code",
        "colab": {},
        "outputId": "64ce9bdd-b385-4072-8173-e05986585a73"
      },
      "source": [
        "print(True + 5)\n",
        "print(False + 5)\n",
        "print(True + 3.5)"
      ],
      "execution_count": null,
      "outputs": [
        {
          "output_type": "stream",
          "text": [
            "6\n",
            "5\n",
            "4.5\n"
          ],
          "name": "stdout"
        }
      ]
    },
    {
      "cell_type": "markdown",
      "metadata": {
        "id": "2K1RlmCA6-0l",
        "colab_type": "text"
      },
      "source": [
        "#### If we use equal relational operators between any datatype then it will not throw the error "
      ]
    },
    {
      "cell_type": "code",
      "metadata": {
        "id": "fmZAdKx26-0m",
        "colab_type": "code",
        "colab": {},
        "outputId": "3297f5b6-7261-4904-e202-02ce86ee74a1"
      },
      "source": [
        "# We are using another operator to compare the different types therefore will give error \n",
        "print('ab' > 4)  "
      ],
      "execution_count": null,
      "outputs": [
        {
          "output_type": "error",
          "ename": "TypeError",
          "evalue": "'>' not supported between instances of 'str' and 'int'",
          "traceback": [
            "\u001b[1;31m---------------------------------------------------------------------------\u001b[0m",
            "\u001b[1;31mTypeError\u001b[0m                                 Traceback (most recent call last)",
            "\u001b[1;32m<ipython-input-48-7c406010bb40>\u001b[0m in \u001b[0;36m<module>\u001b[1;34m\u001b[0m\n\u001b[0;32m      1\u001b[0m \u001b[1;31m# We are using another operator to compare the different types therefore will give error\u001b[0m\u001b[1;33m\u001b[0m\u001b[1;33m\u001b[0m\u001b[1;33m\u001b[0m\u001b[0m\n\u001b[1;32m----> 2\u001b[1;33m \u001b[0mprint\u001b[0m\u001b[1;33m(\u001b[0m\u001b[1;34m'ab'\u001b[0m \u001b[1;33m>\u001b[0m \u001b[1;36m4\u001b[0m\u001b[1;33m)\u001b[0m\u001b[1;33m\u001b[0m\u001b[1;33m\u001b[0m\u001b[0m\n\u001b[0m",
            "\u001b[1;31mTypeError\u001b[0m: '>' not supported between instances of 'str' and 'int'"
          ]
        }
      ]
    },
    {
      "cell_type": "code",
      "metadata": {
        "id": "WRrmuLj96-0q",
        "colab_type": "code",
        "colab": {},
        "outputId": "f2d7088e-f083-402a-8718-281edab51113"
      },
      "source": [
        "print('ab' == 4)\n",
        "print('ab' != 4)"
      ],
      "execution_count": null,
      "outputs": [
        {
          "output_type": "stream",
          "text": [
            "False\n",
            "True\n"
          ],
          "name": "stdout"
        }
      ]
    },
    {
      "cell_type": "markdown",
      "metadata": {
        "id": "Oq1gO2e66-0s",
        "colab_type": "text"
      },
      "source": [
        "### 2.11 Logical Operators \n",
        "1. **and** ------------>  When both operands are True, result will be True \n",
        "2. **or**  ------------>  When both operands are False, result will be False \n",
        "3. **not** ------------>  Invert the result "
      ]
    },
    {
      "cell_type": "markdown",
      "metadata": {
        "id": "SDRo3fJV6-0t",
        "colab_type": "text"
      },
      "source": [
        "- Logical operators must be written in **lowercase** only. \n",
        "- **Non-zero** operand will be treated as **True** and **Zero** will be treated as **False**\n",
        "- **Empty string** is always treated as **False** and **Non-empty string** is always **True**"
      ]
    },
    {
      "cell_type": "markdown",
      "metadata": {
        "id": "RjLzFiaY6-0t",
        "colab_type": "text"
      },
      "source": [
        "### Some Rules \n",
        "\n",
        "If x and y are non boolean then result is also non boolean.\n",
        "\n",
        "* x and y \n",
        "      if x is False then \n",
        "           result is x \n",
        "           otherwise y \n",
        "\n",
        "* x or y \n",
        "      if x is False then \n",
        "          result is y \n",
        "          otherwise x \n",
        "\n",
        "* not operator always returns the True or False "
      ]
    },
    {
      "cell_type": "code",
      "metadata": {
        "id": "qTKHJnvr6-0u",
        "colab_type": "code",
        "colab": {},
        "outputId": "5bef12cf-9227-42fe-fedc-b609417569db"
      },
      "source": [
        "print(3 and 3.4)\n",
        "print(3 and 'ab')\n",
        "print(3 or 4)\n",
        "print(0 or 5)"
      ],
      "execution_count": null,
      "outputs": [
        {
          "output_type": "stream",
          "text": [
            "3.4\n",
            "ab\n",
            "3\n",
            "5\n"
          ],
          "name": "stdout"
        }
      ]
    },
    {
      "cell_type": "code",
      "metadata": {
        "id": "R46DeCCI6-0x",
        "colab_type": "code",
        "colab": {},
        "outputId": "2754196b-794f-4e39-df14-ec050af8f512"
      },
      "source": [
        "print(not 3+4j)\n",
        "print(not 0+0j)"
      ],
      "execution_count": null,
      "outputs": [
        {
          "output_type": "stream",
          "text": [
            "False\n",
            "True\n"
          ],
          "name": "stdout"
        }
      ]
    },
    {
      "cell_type": "code",
      "metadata": {
        "id": "kGNh8IDp6-01",
        "colab_type": "code",
        "colab": {},
        "outputId": "604b5688-4c60-4592-d778-85950124922a"
      },
      "source": [
        "print(not 'sid')\n",
        "print(not '')"
      ],
      "execution_count": null,
      "outputs": [
        {
          "output_type": "stream",
          "text": [
            "False\n",
            "True\n"
          ],
          "name": "stdout"
        }
      ]
    },
    {
      "cell_type": "code",
      "metadata": {
        "id": "IucI4Hcg6-03",
        "colab_type": "code",
        "colab": {},
        "outputId": "e7dd649a-4430-43ad-93d3-e16fed7d3d5b"
      },
      "source": [
        "print('ram' and 'shyam')\n",
        "print(3 and 4>2)\n",
        "print(3 and 3+4)\n",
        "# print(3 and x=4) ---------> GIVES THE ERROR \n",
        "x=5\n",
        "print(3 and x==4)\n",
        "# print(5/0)  -------------> GIVES THE ERROR \n",
        "print(3 or 5/0)\n",
        "# print(3 and 5/0) -------------> GIVES THE ERROR "
      ],
      "execution_count": null,
      "outputs": [
        {
          "output_type": "stream",
          "text": [
            "shyam\n",
            "True\n",
            "7\n",
            "False\n",
            "3\n"
          ],
          "name": "stdout"
        }
      ]
    },
    {
      "cell_type": "markdown",
      "metadata": {
        "id": "zHhP48bC6-07",
        "colab_type": "text"
      },
      "source": [
        "### 2.12 Bitwise Operators \n",
        "\n",
        "#1. & (and)\n",
        "#2. | (or)\n",
        "#3. ~ (not)\n",
        "#4. ^ (xor)\n",
        "#5. >> (RS)\n",
        "#6. << (LS)"
      ]
    },
    {
      "cell_type": "markdown",
      "metadata": {
        "id": "Q5OMAT2q6-07",
        "colab_type": "text"
      },
      "source": [
        "### 2.13 Assignment Operators \n",
        "\n",
        "#### 1. =\n",
        "#### 2. +=,   -=,   *=,    /=,   %=\n",
        "#### 3. //=,   **=\n",
        "#### 4. &=,   |=,   ^=\n",
        "#### 5. >>=,   <<="
      ]
    },
    {
      "cell_type": "code",
      "metadata": {
        "id": "WPDJhQLY6-08",
        "colab_type": "code",
        "colab": {},
        "outputId": "59ba0412-7169-4c11-b5b2-f82624e8fb62"
      },
      "source": [
        "x=5\n",
        "x*=3 # x=x*3\n",
        "print(\"The value of x is {}\".format(x))"
      ],
      "execution_count": null,
      "outputs": [
        {
          "output_type": "stream",
          "text": [
            "The value of x is 15\n"
          ],
          "name": "stdout"
        }
      ]
    },
    {
      "cell_type": "markdown",
      "metadata": {
        "id": "pjBxD_LP6-0_",
        "colab_type": "text"
      },
      "source": [
        "### Note : Priority of Arithmetic operators are more than assignment operators. "
      ]
    },
    {
      "cell_type": "code",
      "metadata": {
        "id": "vg1KuRNJ6-1A",
        "colab_type": "code",
        "colab": {},
        "outputId": "d761a38b-f973-45ca-b456-080a3160ebe7"
      },
      "source": [
        "x=5\n",
        "x*=3+4 # First the addition will take place and then the assignment operator will work. \n",
        "print(x)"
      ],
      "execution_count": null,
      "outputs": [
        {
          "output_type": "stream",
          "text": [
            "35\n"
          ],
          "name": "stdout"
        }
      ]
    },
    {
      "cell_type": "markdown",
      "metadata": {
        "id": "tt2N3Jn66-1C",
        "colab_type": "text"
      },
      "source": [
        "### 2.14 Identity Operators \n",
        "\n",
        "1) **is operator** \n",
        "        \n",
        "       returns true if both variables point to the same object \n",
        "\n",
        "2) **is not operator**\n",
        "\n",
        "       returns false if both variables point to the same object \n",
        "      \n",
        "#### Some Points \n",
        "\n",
        "* Every variable in python is an object. \n",
        "* Objects are created dynamically. \n",
        "* Object do not have names but references.\n",
        "* One reference variable cannot point to more than one object. "
      ]
    },
    {
      "cell_type": "code",
      "metadata": {
        "id": "IX5s0_bH6-1D",
        "colab_type": "code",
        "colab": {},
        "outputId": "a2a656e8-73c1-436e-b2d4-a42de8859fb3"
      },
      "source": [
        "x=5\n",
        "y=5\n",
        "print(x==y) #checks the content and datatype as well.\n",
        "print(x is y) #checks whether both the variable points to the same object or not.\n",
        "print(id(x))\n",
        "print(id(y))"
      ],
      "execution_count": null,
      "outputs": [
        {
          "output_type": "stream",
          "text": [
            "True\n",
            "True\n",
            "140731979440656\n",
            "140731979440656\n"
          ],
          "name": "stdout"
        }
      ]
    },
    {
      "cell_type": "code",
      "metadata": {
        "id": "LcAccsPZ6-1F",
        "colab_type": "code",
        "colab": {},
        "outputId": "471e5170-618a-4039-f1ef-5be33244cdf3"
      },
      "source": [
        "x=5\n",
        "y=5.0\n",
        "print(x==y) \n",
        "print(x is y) \n",
        "print(id(x))\n",
        "print(id(y))"
      ],
      "execution_count": null,
      "outputs": [
        {
          "output_type": "stream",
          "text": [
            "True\n",
            "False\n",
            "140731979440656\n",
            "560237040592\n"
          ],
          "name": "stdout"
        }
      ]
    },
    {
      "cell_type": "markdown",
      "metadata": {
        "id": "YrQm0yFt6-1I",
        "colab_type": "text"
      },
      "source": [
        "### 2.15 Membership Operators \n",
        "\n",
        "1) The in operator \n",
        "\n",
        "       returns True if a sequence with the specified value is present in the object. \n",
        "       \n",
        "2) The not in operator \n",
        "\n",
        "       returns False if a sequence with the specified value is present in the object. \n",
        "       "
      ]
    },
    {
      "cell_type": "code",
      "metadata": {
        "id": "GjzxKwjF6-1I",
        "colab_type": "code",
        "colab": {},
        "outputId": "17254294-65c8-4456-d3a5-8afd03e62b11"
      },
      "source": [
        "x='abc' # x should be iterable and can list, tuple and strings \n",
        "print('a' in x)\n",
        "print('d' in x)"
      ],
      "execution_count": null,
      "outputs": [
        {
          "output_type": "stream",
          "text": [
            "True\n",
            "False\n"
          ],
          "name": "stdout"
        }
      ]
    },
    {
      "cell_type": "code",
      "metadata": {
        "id": "eV0BUQfA6-1M",
        "colab_type": "code",
        "colab": {},
        "outputId": "341a1e38-ff08-4704-823b-71b6e3b00161"
      },
      "source": [
        "x=256 \n",
        "print(5 in x)\n",
        "# it is not iterable so the below code will give error "
      ],
      "execution_count": null,
      "outputs": [
        {
          "output_type": "error",
          "ename": "TypeError",
          "evalue": "argument of type 'int' is not iterable",
          "traceback": [
            "\u001b[1;31m---------------------------------------------------------------------------\u001b[0m",
            "\u001b[1;31mTypeError\u001b[0m                                 Traceback (most recent call last)",
            "\u001b[1;32m<ipython-input-1-218ac4488a1a>\u001b[0m in \u001b[0;36m<module>\u001b[1;34m\u001b[0m\n\u001b[0;32m      1\u001b[0m \u001b[0mx\u001b[0m\u001b[1;33m=\u001b[0m\u001b[1;36m256\u001b[0m\u001b[1;33m\u001b[0m\u001b[1;33m\u001b[0m\u001b[0m\n\u001b[1;32m----> 2\u001b[1;33m \u001b[0mprint\u001b[0m\u001b[1;33m(\u001b[0m\u001b[1;36m5\u001b[0m \u001b[1;32min\u001b[0m \u001b[0mx\u001b[0m\u001b[1;33m)\u001b[0m\u001b[1;33m\u001b[0m\u001b[1;33m\u001b[0m\u001b[0m\n\u001b[0m\u001b[0;32m      3\u001b[0m \u001b[1;31m# it is not iterable so the below code will give error\u001b[0m\u001b[1;33m\u001b[0m\u001b[1;33m\u001b[0m\u001b[1;33m\u001b[0m\u001b[0m\n",
            "\u001b[1;31mTypeError\u001b[0m: argument of type 'int' is not iterable"
          ]
        }
      ]
    },
    {
      "cell_type": "code",
      "metadata": {
        "id": "za7rEfHf6-1P",
        "colab_type": "code",
        "colab": {},
        "outputId": "de84d957-c36e-45c4-a4e7-e5a5a79de4fe"
      },
      "source": [
        "x='256' # This x becomes string\n",
        "print('5' in x)"
      ],
      "execution_count": null,
      "outputs": [
        {
          "output_type": "stream",
          "text": [
            "True\n"
          ],
          "name": "stdout"
        }
      ]
    },
    {
      "cell_type": "markdown",
      "metadata": {
        "id": "slI6Nbbc6-1S",
        "colab_type": "text"
      },
      "source": [
        "### 2.16 Taking input from user \n",
        "\n",
        "input () method \n",
        "\n",
        "1. This method takes a single optional argument \n",
        "2. It reads the line from input, converts the line to string by removing the trailing new line, and return it. \n",
        "3. We can input the values of various datatypes "
      ]
    },
    {
      "cell_type": "code",
      "metadata": {
        "id": "xfputtmT6-1S",
        "colab_type": "code",
        "colab": {},
        "outputId": "6c93d68c-1a34-438a-f987-ed417becbcd8"
      },
      "source": [
        "x=input('Enter your name ')\n",
        "print(x)"
      ],
      "execution_count": null,
      "outputs": [
        {
          "output_type": "stream",
          "text": [
            "Enter your name Sidharth Mehra \n",
            "Sidharth Mehra \n"
          ],
          "name": "stdout"
        }
      ]
    },
    {
      "cell_type": "code",
      "metadata": {
        "id": "1ow3uDpV6-1V",
        "colab_type": "code",
        "colab": {},
        "outputId": "c53b773d-c942-4f0b-e10f-81a1f877a87d"
      },
      "source": [
        "x=input('Enter a number') \n",
        "print(x)\n",
        "print(type(x)) # It converts the input to string "
      ],
      "execution_count": null,
      "outputs": [
        {
          "output_type": "stream",
          "text": [
            "Enter a number234\n",
            "234\n",
            "<class 'str'>\n"
          ],
          "name": "stdout"
        }
      ]
    },
    {
      "cell_type": "code",
      "metadata": {
        "id": "rWMsfS7U6-1Y",
        "colab_type": "code",
        "colab": {},
        "outputId": "3141da03-8191-4498-c71d-ef6d4531e9e0"
      },
      "source": [
        "x=input('Enter a number')\n",
        "print(x)\n",
        "y=int(x)\n",
        "print(type(x), type(y))"
      ],
      "execution_count": null,
      "outputs": [
        {
          "output_type": "stream",
          "text": [
            "Enter a number234\n",
            "234\n",
            "<class 'str'> <class 'int'>\n"
          ],
          "name": "stdout"
        }
      ]
    },
    {
      "cell_type": "code",
      "metadata": {
        "id": "bgl8aELd6-1a",
        "colab_type": "code",
        "colab": {},
        "outputId": "7c903918-10a9-4651-8197-16626010733d"
      },
      "source": [
        "# Program to add 2 numbers \n",
        "x=int(input('Enter 1st number'))\n",
        "y=int(input('Enter 2nd number'))\n",
        "z=x+y\n",
        "print(\"The sum of {} and {} is {}\".format(x, y, z))"
      ],
      "execution_count": null,
      "outputs": [
        {
          "output_type": "stream",
          "text": [
            "Enter 1st number12\n",
            "Enter 2nd number23\n",
            "The sum of 12 and 23 is 35\n"
          ],
          "name": "stdout"
        }
      ]
    },
    {
      "cell_type": "markdown",
      "metadata": {
        "id": "DNVVxp_h6-1d",
        "colab_type": "text"
      },
      "source": [
        "### 2.17 Use of import, as and from keywords \n",
        "\n",
        "* Module is a python file consisting of python code. \n",
        "* Module can define functions, classes and variables.\n",
        "* Python library has various built in modules."
      ]
    },
    {
      "cell_type": "code",
      "metadata": {
        "id": "wk-bWxtO6-1e",
        "colab_type": "code",
        "colab": {},
        "outputId": "3c361d67-4381-4315-9d82-f0273e842a54"
      },
      "source": [
        "# We have math module \n",
        "help('math') # shows the details of math module"
      ],
      "execution_count": null,
      "outputs": [
        {
          "output_type": "stream",
          "text": [
            "Help on built-in module math:\n",
            "\n",
            "NAME\n",
            "    math\n",
            "\n",
            "DESCRIPTION\n",
            "    This module provides access to the mathematical functions\n",
            "    defined by the C standard.\n",
            "\n",
            "FUNCTIONS\n",
            "    acos(x, /)\n",
            "        Return the arc cosine (measured in radians) of x.\n",
            "    \n",
            "    acosh(x, /)\n",
            "        Return the inverse hyperbolic cosine of x.\n",
            "    \n",
            "    asin(x, /)\n",
            "        Return the arc sine (measured in radians) of x.\n",
            "    \n",
            "    asinh(x, /)\n",
            "        Return the inverse hyperbolic sine of x.\n",
            "    \n",
            "    atan(x, /)\n",
            "        Return the arc tangent (measured in radians) of x.\n",
            "    \n",
            "    atan2(y, x, /)\n",
            "        Return the arc tangent (measured in radians) of y/x.\n",
            "        \n",
            "        Unlike atan(y/x), the signs of both x and y are considered.\n",
            "    \n",
            "    atanh(x, /)\n",
            "        Return the inverse hyperbolic tangent of x.\n",
            "    \n",
            "    ceil(x, /)\n",
            "        Return the ceiling of x as an Integral.\n",
            "        \n",
            "        This is the smallest integer >= x.\n",
            "    \n",
            "    copysign(x, y, /)\n",
            "        Return a float with the magnitude (absolute value) of x but the sign of y.\n",
            "        \n",
            "        On platforms that support signed zeros, copysign(1.0, -0.0)\n",
            "        returns -1.0.\n",
            "    \n",
            "    cos(x, /)\n",
            "        Return the cosine of x (measured in radians).\n",
            "    \n",
            "    cosh(x, /)\n",
            "        Return the hyperbolic cosine of x.\n",
            "    \n",
            "    degrees(x, /)\n",
            "        Convert angle x from radians to degrees.\n",
            "    \n",
            "    erf(x, /)\n",
            "        Error function at x.\n",
            "    \n",
            "    erfc(x, /)\n",
            "        Complementary error function at x.\n",
            "    \n",
            "    exp(x, /)\n",
            "        Return e raised to the power of x.\n",
            "    \n",
            "    expm1(x, /)\n",
            "        Return exp(x)-1.\n",
            "        \n",
            "        This function avoids the loss of precision involved in the direct evaluation of exp(x)-1 for small x.\n",
            "    \n",
            "    fabs(x, /)\n",
            "        Return the absolute value of the float x.\n",
            "    \n",
            "    factorial(x, /)\n",
            "        Find x!.\n",
            "        \n",
            "        Raise a ValueError if x is negative or non-integral.\n",
            "    \n",
            "    floor(x, /)\n",
            "        Return the floor of x as an Integral.\n",
            "        \n",
            "        This is the largest integer <= x.\n",
            "    \n",
            "    fmod(x, y, /)\n",
            "        Return fmod(x, y), according to platform C.\n",
            "        \n",
            "        x % y may differ.\n",
            "    \n",
            "    frexp(x, /)\n",
            "        Return the mantissa and exponent of x, as pair (m, e).\n",
            "        \n",
            "        m is a float and e is an int, such that x = m * 2.**e.\n",
            "        If x is 0, m and e are both 0.  Else 0.5 <= abs(m) < 1.0.\n",
            "    \n",
            "    fsum(seq, /)\n",
            "        Return an accurate floating point sum of values in the iterable seq.\n",
            "        \n",
            "        Assumes IEEE-754 floating point arithmetic.\n",
            "    \n",
            "    gamma(x, /)\n",
            "        Gamma function at x.\n",
            "    \n",
            "    gcd(x, y, /)\n",
            "        greatest common divisor of x and y\n",
            "    \n",
            "    hypot(x, y, /)\n",
            "        Return the Euclidean distance, sqrt(x*x + y*y).\n",
            "    \n",
            "    isclose(a, b, *, rel_tol=1e-09, abs_tol=0.0)\n",
            "        Determine whether two floating point numbers are close in value.\n",
            "        \n",
            "          rel_tol\n",
            "            maximum difference for being considered \"close\", relative to the\n",
            "            magnitude of the input values\n",
            "          abs_tol\n",
            "            maximum difference for being considered \"close\", regardless of the\n",
            "            magnitude of the input values\n",
            "        \n",
            "        Return True if a is close in value to b, and False otherwise.\n",
            "        \n",
            "        For the values to be considered close, the difference between them\n",
            "        must be smaller than at least one of the tolerances.\n",
            "        \n",
            "        -inf, inf and NaN behave similarly to the IEEE 754 Standard.  That\n",
            "        is, NaN is not close to anything, even itself.  inf and -inf are\n",
            "        only close to themselves.\n",
            "    \n",
            "    isfinite(x, /)\n",
            "        Return True if x is neither an infinity nor a NaN, and False otherwise.\n",
            "    \n",
            "    isinf(x, /)\n",
            "        Return True if x is a positive or negative infinity, and False otherwise.\n",
            "    \n",
            "    isnan(x, /)\n",
            "        Return True if x is a NaN (not a number), and False otherwise.\n",
            "    \n",
            "    ldexp(x, i, /)\n",
            "        Return x * (2**i).\n",
            "        \n",
            "        This is essentially the inverse of frexp().\n",
            "    \n",
            "    lgamma(x, /)\n",
            "        Natural logarithm of absolute value of Gamma function at x.\n",
            "    \n",
            "    log(...)\n",
            "        log(x, [base=math.e])\n",
            "        Return the logarithm of x to the given base.\n",
            "        \n",
            "        If the base not specified, returns the natural logarithm (base e) of x.\n",
            "    \n",
            "    log10(x, /)\n",
            "        Return the base 10 logarithm of x.\n",
            "    \n",
            "    log1p(x, /)\n",
            "        Return the natural logarithm of 1+x (base e).\n",
            "        \n",
            "        The result is computed in a way which is accurate for x near zero.\n",
            "    \n",
            "    log2(x, /)\n",
            "        Return the base 2 logarithm of x.\n",
            "    \n",
            "    modf(x, /)\n",
            "        Return the fractional and integer parts of x.\n",
            "        \n",
            "        Both results carry the sign of x and are floats.\n",
            "    \n",
            "    pow(x, y, /)\n",
            "        Return x**y (x to the power of y).\n",
            "    \n",
            "    radians(x, /)\n",
            "        Convert angle x from degrees to radians.\n",
            "    \n",
            "    remainder(x, y, /)\n",
            "        Difference between x and the closest integer multiple of y.\n",
            "        \n",
            "        Return x - n*y where n*y is the closest integer multiple of y.\n",
            "        In the case where x is exactly halfway between two multiples of\n",
            "        y, the nearest even value of n is used. The result is always exact.\n",
            "    \n",
            "    sin(x, /)\n",
            "        Return the sine of x (measured in radians).\n",
            "    \n",
            "    sinh(x, /)\n",
            "        Return the hyperbolic sine of x.\n",
            "    \n",
            "    sqrt(x, /)\n",
            "        Return the square root of x.\n",
            "    \n",
            "    tan(x, /)\n",
            "        Return the tangent of x (measured in radians).\n",
            "    \n",
            "    tanh(x, /)\n",
            "        Return the hyperbolic tangent of x.\n",
            "    \n",
            "    trunc(x, /)\n",
            "        Truncates the Real x to the nearest Integral toward 0.\n",
            "        \n",
            "        Uses the __trunc__ magic method.\n",
            "\n",
            "DATA\n",
            "    e = 2.718281828459045\n",
            "    inf = inf\n",
            "    nan = nan\n",
            "    pi = 3.141592653589793\n",
            "    tau = 6.283185307179586\n",
            "\n",
            "FILE\n",
            "    (built-in)\n",
            "\n",
            "\n"
          ],
          "name": "stdout"
        }
      ]
    },
    {
      "cell_type": "code",
      "metadata": {
        "id": "fAwfE4JQ6-1h",
        "colab_type": "code",
        "colab": {},
        "outputId": "4a486a3a-7438-45f0-ea4e-3f7753086747"
      },
      "source": [
        "import math as m \n",
        "m.factorial(5)"
      ],
      "execution_count": null,
      "outputs": [
        {
          "output_type": "execute_result",
          "data": {
            "text/plain": [
              "120"
            ]
          },
          "metadata": {
            "tags": []
          },
          "execution_count": 22
        }
      ]
    },
    {
      "cell_type": "code",
      "metadata": {
        "id": "p2EDztbZ6-1k",
        "colab_type": "code",
        "colab": {},
        "outputId": "9a25b3ea-999b-46fb-f2f1-ea126f776fed"
      },
      "source": [
        "import math \n",
        "factorial(5)"
      ],
      "execution_count": null,
      "outputs": [
        {
          "output_type": "error",
          "ename": "NameError",
          "evalue": "name 'factorial' is not defined",
          "traceback": [
            "\u001b[1;31m---------------------------------------------------------------------------\u001b[0m",
            "\u001b[1;31mNameError\u001b[0m                                 Traceback (most recent call last)",
            "\u001b[1;32m<ipython-input-23-89ed5f1c6a31>\u001b[0m in \u001b[0;36m<module>\u001b[1;34m\u001b[0m\n\u001b[0;32m      1\u001b[0m \u001b[1;32mimport\u001b[0m \u001b[0mmath\u001b[0m\u001b[1;33m\u001b[0m\u001b[1;33m\u001b[0m\u001b[0m\n\u001b[1;32m----> 2\u001b[1;33m \u001b[0mfactorial\u001b[0m\u001b[1;33m(\u001b[0m\u001b[1;36m5\u001b[0m\u001b[1;33m)\u001b[0m\u001b[1;33m\u001b[0m\u001b[1;33m\u001b[0m\u001b[0m\n\u001b[0m",
            "\u001b[1;31mNameError\u001b[0m: name 'factorial' is not defined"
          ]
        }
      ]
    },
    {
      "cell_type": "code",
      "metadata": {
        "id": "QLLe4nxB6-1m",
        "colab_type": "code",
        "colab": {},
        "outputId": "9d7e5072-207d-45d3-d8e1-14b89659b17c"
      },
      "source": [
        "from math import factorial \n",
        "factorial(5)"
      ],
      "execution_count": null,
      "outputs": [
        {
          "output_type": "execute_result",
          "data": {
            "text/plain": [
              "120"
            ]
          },
          "metadata": {
            "tags": []
          },
          "execution_count": 24
        }
      ]
    },
    {
      "cell_type": "markdown",
      "metadata": {
        "id": "Pc13mroE6-1p",
        "colab_type": "text"
      },
      "source": [
        "### NOTE:\n",
        "\n",
        "* Once we have used from keyword in our code, then we cannot call the function of that module using dot operator ( will give      \n",
        "  error ) , but have to use the function of that module directly. \n"
      ]
    },
    {
      "cell_type": "code",
      "metadata": {
        "id": "eNl_nC9h6-1p",
        "colab_type": "code",
        "colab": {},
        "outputId": "86180f5d-fa17-4053-d7e4-b286fe6a0fd3"
      },
      "source": [
        "from math import factorial,sqrt \n",
        "print(factorial(10))\n",
        "print(sqrt(64))"
      ],
      "execution_count": null,
      "outputs": [
        {
          "output_type": "stream",
          "text": [
            "3628800\n",
            "8.0\n"
          ],
          "name": "stdout"
        }
      ]
    },
    {
      "cell_type": "code",
      "metadata": {
        "id": "wGda37wW6-1r",
        "colab_type": "code",
        "colab": {}
      },
      "source": [
        "from math import * # import all the functions of math module. "
      ],
      "execution_count": null,
      "outputs": []
    },
    {
      "cell_type": "markdown",
      "metadata": {
        "id": "w7qRe4vQ6-1v",
        "colab_type": "text"
      },
      "source": [
        "### 2.18 More on output statements \n",
        "\n",
        "We will discuss the following points \n",
        "\n",
        "- Print variable value \n",
        "- Print multiple values \n",
        "- Print multiple values with sep \n",
        "- Print is like println of JAVA \n",
        "- end \n",
        "- sep and end together \n",
        "- Formatted string \n",
        "- Replacement operator "
      ]
    },
    {
      "cell_type": "code",
      "metadata": {
        "id": "11a_dYPd6-1v",
        "colab_type": "code",
        "colab": {},
        "outputId": "634bcb3e-873f-4b99-fef1-c878ed0c6886"
      },
      "source": [
        "x = 10 \n",
        "print(x)"
      ],
      "execution_count": null,
      "outputs": [
        {
          "output_type": "stream",
          "text": [
            "10\n"
          ],
          "name": "stdout"
        }
      ]
    },
    {
      "cell_type": "code",
      "metadata": {
        "id": "aSNqdN-e6-1y",
        "colab_type": "code",
        "colab": {},
        "outputId": "3f0a366e-3b30-4e23-e1e7-21b69caeea66"
      },
      "source": [
        "x= 10 \n",
        "y= 20 \n",
        "print(x, y) # By default seperator is SPACE"
      ],
      "execution_count": null,
      "outputs": [
        {
          "output_type": "stream",
          "text": [
            "10 20\n"
          ],
          "name": "stdout"
        }
      ]
    },
    {
      "cell_type": "code",
      "metadata": {
        "id": "nlc4DtnG6-11",
        "colab_type": "code",
        "colab": {},
        "outputId": "51d98f37-3ab9-419f-a798-c6908c187405"
      },
      "source": [
        "# Introducing the seperator argument \n",
        "print(x, y, sep= \",\")\n",
        "print(x, y, sep= \":\")"
      ],
      "execution_count": null,
      "outputs": [
        {
          "output_type": "stream",
          "text": [
            "10,20\n",
            "10:20\n"
          ],
          "name": "stdout"
        }
      ]
    },
    {
      "cell_type": "code",
      "metadata": {
        "id": "h_Ar_Gz86-14",
        "colab_type": "code",
        "colab": {},
        "outputId": "65779227-2376-408a-caad-e21214639fa4"
      },
      "source": [
        "print(\"AB\" + \"CD\")\n",
        "print(\"AB\", \"CD\")"
      ],
      "execution_count": null,
      "outputs": [
        {
          "output_type": "stream",
          "text": [
            "ABCD\n",
            "AB CD\n"
          ],
          "name": "stdout"
        }
      ]
    },
    {
      "cell_type": "code",
      "metadata": {
        "id": "ElBccxwT6-18",
        "colab_type": "code",
        "colab": {},
        "outputId": "3777e40e-e294-48e1-da76-8a8e965ca95d"
      },
      "source": [
        "# Can also pass new line in the sep argument of the print function \n",
        "print(x, y, sep=\"\\n\")"
      ],
      "execution_count": null,
      "outputs": [
        {
          "output_type": "stream",
          "text": [
            "10\n",
            "20\n"
          ],
          "name": "stdout"
        }
      ]
    },
    {
      "cell_type": "code",
      "metadata": {
        "id": "peoJD4ct6-2A",
        "colab_type": "code",
        "colab": {},
        "outputId": "7faa1aff-8222-4808-92db-a22084b92828"
      },
      "source": [
        "# Each line will end with the new line character \n",
        "print(\"Hello\")\n",
        "print(\"Students\")\n",
        "print(\"Learn Python\")"
      ],
      "execution_count": null,
      "outputs": [
        {
          "output_type": "stream",
          "text": [
            "Hello\n",
            "Students\n",
            "Learn Python\n"
          ],
          "name": "stdout"
        }
      ]
    },
    {
      "cell_type": "code",
      "metadata": {
        "id": "-2bHnbd96-2D",
        "colab_type": "code",
        "colab": {},
        "outputId": "cf2d2089-382a-4e97-a58e-d95478c3fdc8"
      },
      "source": [
        "# Introducing the end argument of the print function \n",
        "print(\"Hello\", end= \" \")\n",
        "print(\"Students\")\n",
        "print(\"Learn Python\")"
      ],
      "execution_count": null,
      "outputs": [
        {
          "output_type": "stream",
          "text": [
            "Hello Students\n",
            "Learn Python\n"
          ],
          "name": "stdout"
        }
      ]
    },
    {
      "cell_type": "code",
      "metadata": {
        "id": "5FYIFwYl6-2H",
        "colab_type": "code",
        "colab": {},
        "outputId": "be32c787-17a8-4086-aff3-e73436d95ba6"
      },
      "source": [
        "# We can also put the dot in the end argument \n",
        "print(\"Hello\", end=\".\")\n",
        "print(\"Students\", end= \"...\")\n",
        "print(\"Learn Python\")"
      ],
      "execution_count": null,
      "outputs": [
        {
          "output_type": "stream",
          "text": [
            "Hello.Students...Learn Python\n"
          ],
          "name": "stdout"
        }
      ]
    },
    {
      "cell_type": "code",
      "metadata": {
        "id": "00IchTSy6-2K",
        "colab_type": "code",
        "colab": {},
        "outputId": "67537fda-9a9d-4452-cfcf-c01e6bcefda3"
      },
      "source": [
        "x= 10 \n",
        "y= 20\n",
        "z= 30\n",
        "print(x, y, z, end=' END', sep=':')"
      ],
      "execution_count": null,
      "outputs": [
        {
          "output_type": "stream",
          "text": [
            "10:20:30 END"
          ],
          "name": "stdout"
        }
      ]
    },
    {
      "cell_type": "code",
      "metadata": {
        "id": "pRtIrT2S6-2Q",
        "colab_type": "code",
        "colab": {},
        "outputId": "dbf740ec-57b6-4fef-dbf2-897a84c99317"
      },
      "source": [
        "x =10 \n",
        "y= 3.5 \n",
        "z = \"Sid\"\n",
        "print(\"Hello {2} x={0} y={1}\".format(x, y, z))"
      ],
      "execution_count": null,
      "outputs": [
        {
          "output_type": "stream",
          "text": [
            "Hello Sid x=10 y=3.5\n"
          ],
          "name": "stdout"
        }
      ]
    },
    {
      "cell_type": "markdown",
      "metadata": {
        "id": "Td0bwz9-6-2T",
        "colab_type": "text"
      },
      "source": [
        "#### Note: If we keep the curly braces blank then the order of the format is printed."
      ]
    },
    {
      "cell_type": "markdown",
      "metadata": {
        "id": "9qkqSkfu6-2T",
        "colab_type": "text"
      },
      "source": [
        "### 2.19 Decision Control Statements \n",
        "\n",
        "1. **Decision/ Selection Control Statements** - (if, if-else, if-elif-else)\n",
        "\n",
        "2. **Iterative Loop Statements** - (while, for) \n",
        "\n",
        "#### NOTE: \n",
        "  * **switch** is not available in python.   \n",
        "  * **do-while** is also not available in python. "
      ]
    },
    {
      "cell_type": "code",
      "metadata": {
        "id": "0RY0qCc06-2T",
        "colab_type": "code",
        "colab": {},
        "outputId": "e95c0809-4d57-4879-8d55-2360f83de2d4"
      },
      "source": [
        "num = int(input(\"Enter any number\"))\n",
        "if x>0:\n",
        "    print(\"Number is positive\")\n",
        "elif num == 0:\n",
        "    print(\"Number is zero\")\n",
        "else:\n",
        "    print(\"Number is negetive\")"
      ],
      "execution_count": null,
      "outputs": [
        {
          "output_type": "stream",
          "text": [
            "Enter any number23\n",
            "Number is negetive\n"
          ],
          "name": "stdout"
        }
      ]
    },
    {
      "cell_type": "markdown",
      "metadata": {
        "id": "hZQUzabU6-2W",
        "colab_type": "text"
      },
      "source": [
        "### 2.20 Ternery Operator in Python \n",
        "\n",
        "Several names of the ternery operator are \n",
        "  1. Single line if expression \n",
        "  2. Conditional Operator "
      ]
    },
    {
      "cell_type": "code",
      "metadata": {
        "id": "Nz4Y6q2S6-2W",
        "colab_type": "code",
        "colab": {},
        "outputId": "bcb7d447-9552-4100-83d0-dba9f875ecfa"
      },
      "source": [
        "# If True the print 'Hello' else print 'Bye'\n",
        "print(\"Hello\" if True else \"Bye\")"
      ],
      "execution_count": null,
      "outputs": [
        {
          "output_type": "stream",
          "text": [
            "Hello\n"
          ],
          "name": "stdout"
        }
      ]
    },
    {
      "cell_type": "code",
      "metadata": {
        "id": "5ilTDftE6-2Y",
        "colab_type": "code",
        "colab": {},
        "outputId": "22158780-a4b8-4549-f8e9-cddb2686c829"
      },
      "source": [
        "x = int(input(\"Enter 1st number\"))\n",
        "y= int(input(\"Enter 2nd number\"))\n",
        "z = x if x>y else y\n",
        "print(\"Greater value is {}\".format(z))"
      ],
      "execution_count": null,
      "outputs": [
        {
          "output_type": "stream",
          "text": [
            "Enter 1st number56\n",
            "Enter 2nd number76\n",
            "Greater value is 76\n"
          ],
          "name": "stdout"
        }
      ]
    },
    {
      "cell_type": "markdown",
      "metadata": {
        "id": "vAudFcno6-2a",
        "colab_type": "text"
      },
      "source": [
        "### 2.21 While loop \n",
        "\n",
        "This loop iterates the statements till some condition is True. \n",
        "\n",
        "   1. Initialization \n",
        "   2. Condition \n",
        "   3. Increment "
      ]
    },
    {
      "cell_type": "code",
      "metadata": {
        "id": "QPRP_QLe6-2b",
        "colab_type": "code",
        "colab": {},
        "outputId": "622d4ada-ede8-4997-fc36-bc53513079bb"
      },
      "source": [
        "x =1 \n",
        "while x <=5:\n",
        "    print(\"Now x is:\",x)\n",
        "    x+=1\n",
        "print(\"Now x is {} and condition is False so comming out of the WHILE loop\".format(x))"
      ],
      "execution_count": null,
      "outputs": [
        {
          "output_type": "stream",
          "text": [
            "Now x is: 1\n",
            "Now x is: 2\n",
            "Now x is: 3\n",
            "Now x is: 4\n",
            "Now x is: 5\n",
            "Now x is 6 and condition is False so comming out of the WHILE loop\n"
          ],
          "name": "stdout"
        }
      ]
    },
    {
      "cell_type": "markdown",
      "metadata": {
        "id": "U994RAxs6-2e",
        "colab_type": "text"
      },
      "source": [
        "### 2.22 For Loop\n",
        "\n",
        "    - Iterates statements for the number of elements in the sequence \n",
        "    - Number of iterations is known in advance. \n",
        "    \n",
        "**Syntax** of for loop\n",
        "\n",
        "      for element in iterable sequence:\n",
        "               perform action "
      ]
    },
    {
      "cell_type": "code",
      "metadata": {
        "id": "QX0PAXmX6-2e",
        "colab_type": "code",
        "colab": {},
        "outputId": "f924c5f3-c328-40a5-c1fa-e3112defa994"
      },
      "source": [
        "len = 0 \n",
        "name = input(\"Enter your name\\n\")\n",
        "for char in name:\n",
        "    print(char)\n",
        "    len+=1\n",
        "print(\"The length of your name is:\",len)"
      ],
      "execution_count": null,
      "outputs": [
        {
          "output_type": "stream",
          "text": [
            "Enter your name\n",
            "Sidharth\n",
            "S\n",
            "i\n",
            "d\n",
            "h\n",
            "a\n",
            "r\n",
            "t\n",
            "h\n",
            "The length of your name is: 8\n"
          ],
          "name": "stdout"
        }
      ]
    },
    {
      "cell_type": "markdown",
      "metadata": {
        "id": "qEQsVk1-6-2i",
        "colab_type": "text"
      },
      "source": [
        "#### Notes: \n",
        "\n",
        "- For loop in PYTHON is similar to for-each in JAVA.\n",
        "- With for loop we can execute a set of statements, once for each item in a sequence. \n",
        "- The for loop does not require an indexing variable to set beforehand, as the for command itself allows for this. "
      ]
    },
    {
      "cell_type": "markdown",
      "metadata": {
        "id": "JRbSo1ay6-2i",
        "colab_type": "text"
      },
      "source": [
        "### 2.23 range() function \n",
        "\n",
        "- This function generates a sequence from 0 to n-1 \n",
        "- range(n) ----------> 0, 1, 2, 3, 4 ......... n-1 \n",
        "- The range() function returns a sequence of numbers, starting from 0 (default) and increment by 1 (default) and ends at a specified number. \n",
        "- 'for' loop can iterate over a sequence of numbers using the 'range' function. \n",
        "\n",
        "**Syntax** of range() function \n",
        "   \n",
        "        range(start, stop, step)\n",
        "              default start = 0 \n",
        "              stop is compulsory argument \n",
        "              default step = 1 "
      ]
    },
    {
      "cell_type": "code",
      "metadata": {
        "id": "0rSO3i_i6-2j",
        "colab_type": "code",
        "colab": {},
        "outputId": "7e4fcc3d-b203-4b48-9b40-d0413609c039"
      },
      "source": [
        "y= range(5)\n",
        "# y is the iterable object \n",
        "print(type(y))\n",
        "for i in y:\n",
        "    print(i+1)"
      ],
      "execution_count": null,
      "outputs": [
        {
          "output_type": "stream",
          "text": [
            "<class 'range'>\n",
            "1\n",
            "2\n",
            "3\n",
            "4\n",
            "5\n"
          ],
          "name": "stdout"
        }
      ]
    },
    {
      "cell_type": "code",
      "metadata": {
        "id": "uQL9NRVF6-2l",
        "colab_type": "code",
        "colab": {},
        "outputId": "f897103a-118b-497b-986b-eef995afd4f1"
      },
      "source": [
        "# Prints the value from 0 to 4 \n",
        "for element in range(5):\n",
        "    print(element)"
      ],
      "execution_count": null,
      "outputs": [
        {
          "output_type": "stream",
          "text": [
            "0\n",
            "1\n",
            "2\n",
            "3\n",
            "4\n"
          ],
          "name": "stdout"
        }
      ]
    },
    {
      "cell_type": "code",
      "metadata": {
        "id": "BHc1FJT16-2p",
        "colab_type": "code",
        "colab": {},
        "outputId": "06ad5541-86e1-40dc-917d-213786af9f19"
      },
      "source": [
        "# Loop will go from 1 uptill 19(stop-1) with an increment of 2 in each iteration. \n",
        "list = []\n",
        "for x in range(1,20,2):\n",
        "    list.append(x)\n",
        "print(list)"
      ],
      "execution_count": null,
      "outputs": [
        {
          "output_type": "stream",
          "text": [
            "[1, 3, 5, 7, 9, 11, 13, 15, 17, 19]\n"
          ],
          "name": "stdout"
        }
      ]
    },
    {
      "cell_type": "code",
      "metadata": {
        "id": "xvuaQ1Rr6-2u",
        "colab_type": "code",
        "colab": {},
        "outputId": "ba577ed1-51a9-45a0-e669-f58d5b537810"
      },
      "source": [
        "# Start value can be bigger than stop value \n",
        "list = [] \n",
        "for x in range(20,0,-2):\n",
        "    list.append(x)\n",
        "print(list)"
      ],
      "execution_count": null,
      "outputs": [
        {
          "output_type": "stream",
          "text": [
            "[20, 18, 16, 14, 12, 10, 8, 6, 4, 2]\n"
          ],
          "name": "stdout"
        }
      ]
    },
    {
      "cell_type": "markdown",
      "metadata": {
        "id": "0vNF2E3J6-2y",
        "colab_type": "text"
      },
      "source": [
        "### 2.24 Transfer statements in Python \n",
        "\n",
        "1. break \n",
        "2. continue \n",
        "3. pass\n",
        "\n",
        "       - With the break keyword we can stop the loop even if the while condition is True. It is used to come out of the \n",
        "         loop body. \n",
        "       - With the continue keyword we can stop the current iteration and continue with the next iteration. When the \n",
        "         control comes to continue it comes to the while condition. \n",
        "       - With the pass keyword we mention the null statement or an empty block. "
      ]
    },
    {
      "cell_type": "markdown",
      "metadata": {
        "id": "BYpSDdOe6-2z",
        "colab_type": "text"
      },
      "source": [
        "#### Break keyword "
      ]
    },
    {
      "cell_type": "code",
      "metadata": {
        "id": "_dNcL7br6-2z",
        "colab_type": "code",
        "colab": {},
        "outputId": "c6124bd5-5795-4e29-b07c-2bde61cf569d"
      },
      "source": [
        "chance = 1 \n",
        "while chance <=3:\n",
        "    x = int(input(\"Enter an even number\"))\n",
        "    if x % 2 == 0:\n",
        "        break \n",
        "    chance+=1\n",
        "if chance == 4:\n",
        "    print(\"You lost\")\n",
        "else:\n",
        "    print(\"You win\")"
      ],
      "execution_count": null,
      "outputs": [
        {
          "output_type": "stream",
          "text": [
            "Enter an even number4\n",
            "You win\n"
          ],
          "name": "stdout"
        }
      ]
    },
    {
      "cell_type": "markdown",
      "metadata": {
        "id": "m0oRzycw6-22",
        "colab_type": "text"
      },
      "source": [
        "#### Continue keyword "
      ]
    },
    {
      "cell_type": "code",
      "metadata": {
        "id": "qyKyRv2I6-23",
        "colab_type": "code",
        "colab": {},
        "outputId": "51cd2f20-185a-444f-d277-78c0c4f243b8"
      },
      "source": [
        "x = 1 \n",
        "list =[]\n",
        "while x<=24:\n",
        "    if x % 5 == 0:\n",
        "        x=x+1\n",
        "        continue \n",
        "    list.append(x)\n",
        "    x = x+1 \n",
        "print(list)"
      ],
      "execution_count": null,
      "outputs": [
        {
          "output_type": "stream",
          "text": [
            "[1, 2, 3, 4, 6, 7, 8, 9, 11, 12, 13, 14, 16, 17, 18, 19, 21, 22, 23, 24]\n"
          ],
          "name": "stdout"
        }
      ]
    },
    {
      "cell_type": "markdown",
      "metadata": {
        "id": "TF5SG9Ls6-26",
        "colab_type": "text"
      },
      "source": [
        "#### Pass keyword "
      ]
    },
    {
      "cell_type": "code",
      "metadata": {
        "id": "6YDghfCZ6-27",
        "colab_type": "code",
        "colab": {},
        "outputId": "0e76b983-6fe8-49e1-87bd-5b73be0a00de"
      },
      "source": [
        "x = 0 \n",
        "if x == 0:\n",
        "    pass\n",
        "print(\"Hello\")"
      ],
      "execution_count": null,
      "outputs": [
        {
          "output_type": "stream",
          "text": [
            "Hello\n"
          ],
          "name": "stdout"
        }
      ]
    },
    {
      "cell_type": "markdown",
      "metadata": {
        "id": "FwDh1ID36-2-",
        "colab_type": "text"
      },
      "source": [
        "### 2.25 Use of else with the loop \n",
        "\n",
        "1. while-else \n",
        "2. for-else "
      ]
    },
    {
      "cell_type": "code",
      "metadata": {
        "id": "Rcb7u_Z-6-2-",
        "colab_type": "code",
        "colab": {},
        "outputId": "7d5ad905-3080-46e9-fc0b-90b0ec4952b1"
      },
      "source": [
        "# else will execute only when the while condition becomes false and eventually we get out of the loop. \n",
        "# When there is break then we directly come out of the loop without going into the else block of while loop. \n",
        "i= 1 \n",
        "while i <3:\n",
        "    x = int(input(\"Enter an even number\"))\n",
        "    if x % 2 == 0:\n",
        "        print(\"You win\")\n",
        "        break\n",
        "    i+=1 \n",
        "else: \n",
        "    print(\"You lost\")\n",
        "print(\"Out of the loop\")"
      ],
      "execution_count": null,
      "outputs": [
        {
          "output_type": "stream",
          "text": [
            "Enter an even number1\n",
            "Enter an even number2\n",
            "You win\n",
            "Out of the loop\n"
          ],
          "name": "stdout"
        }
      ]
    },
    {
      "cell_type": "markdown",
      "metadata": {
        "id": "8F8pfvV46-3C",
        "colab_type": "text"
      },
      "source": [
        "#### Program to print the first prime number in the range entered by the user"
      ]
    },
    {
      "cell_type": "code",
      "metadata": {
        "id": "Wj_IEcAZ6-3D",
        "colab_type": "code",
        "colab": {},
        "outputId": "5c5c179c-b132-47c5-c277-fcfc3b66eb3d"
      },
      "source": [
        "# else will only execute when the sequence of the for loop has exhausted \n",
        "a = int(input(\"Enter smaller number\"))\n",
        "b = int(input(\"Enter greater number\"))\n",
        "s = range(a,b)\n",
        "for x in s: \n",
        "    for num in range(2, x):\n",
        "        if x% num == 0:\n",
        "            break \n",
        "    else: \n",
        "        print(\"{} is the first prime number in range [{}, {})\".format(x, a, b))\n",
        "        break "
      ],
      "execution_count": null,
      "outputs": [
        {
          "output_type": "stream",
          "text": [
            "Enter smaller number10\n",
            "Enter greater number20\n",
            "11 is the first prime number in range [10, 20)\n"
          ],
          "name": "stdout"
        }
      ]
    },
    {
      "cell_type": "markdown",
      "metadata": {
        "id": "Dt1Tdzha6-3H",
        "colab_type": "text"
      },
      "source": [
        "## Chapter 3- Sequences "
      ]
    },
    {
      "cell_type": "markdown",
      "metadata": {
        "id": "49RBsfTs6-3H",
        "colab_type": "text"
      },
      "source": [
        "### 3.1 List in python part 1\n",
        "\n",
        "- Similar to arrays \n",
        "- They can contain any type of variable and can contain as many variables as wish. \n",
        "- Lists can also be iterated over in a very simple manner. "
      ]
    },
    {
      "cell_type": "code",
      "metadata": {
        "id": "ABgrHFb_6-3I",
        "colab_type": "code",
        "colab": {},
        "outputId": "69da2d92-5a16-4f84-bcfc-ee9729d2a4a6"
      },
      "source": [
        "# Empty list \n",
        "list=[]\n",
        "list.append(10)\n",
        "list.append(20)\n",
        "list.append(30)\n",
        "print(list)"
      ],
      "execution_count": null,
      "outputs": [
        {
          "output_type": "stream",
          "text": [
            "[10, 20, 30]\n"
          ],
          "name": "stdout"
        }
      ]
    },
    {
      "cell_type": "code",
      "metadata": {
        "id": "PT8OjbYz6-3L",
        "colab_type": "code",
        "colab": {},
        "outputId": "9462cea0-9a5e-4ff3-e06a-34dd7b570b61"
      },
      "source": [
        "# Indexing on the list to get the individual elements. \n",
        "print(list[0]) \n",
        "print(list[1]) \n",
        "print(list[2]) "
      ],
      "execution_count": null,
      "outputs": [
        {
          "output_type": "stream",
          "text": [
            "10\n",
            "20\n",
            "30\n"
          ],
          "name": "stdout"
        }
      ]
    },
    {
      "cell_type": "code",
      "metadata": {
        "id": "owXgoYuq6-3N",
        "colab_type": "code",
        "colab": {},
        "outputId": "ad52e3f5-0367-4020-9097-aa31323e1663"
      },
      "source": [
        "# List can be also iterated over to get the individual elements. \n",
        "for element in list:\n",
        "    print(element)"
      ],
      "execution_count": null,
      "outputs": [
        {
          "output_type": "stream",
          "text": [
            "10\n",
            "20\n",
            "30\n"
          ],
          "name": "stdout"
        }
      ]
    },
    {
      "cell_type": "markdown",
      "metadata": {
        "id": "-gKyIwUO6-3P",
        "colab_type": "text"
      },
      "source": [
        "### 3.2 List in python part 2"
      ]
    },
    {
      "cell_type": "code",
      "metadata": {
        "id": "lZqHym4R6-3P",
        "colab_type": "code",
        "colab": {},
        "outputId": "ea86c23b-afec-4f8e-920a-b5bb23d730f4"
      },
      "source": [
        "# List can contain the strings \n",
        "cities=['Delhi', 'Jaipur', 'Bhopal']\n",
        "print(cities)\n",
        "print(type(list))"
      ],
      "execution_count": null,
      "outputs": [
        {
          "output_type": "stream",
          "text": [
            "['Delhi', 'Jaipur', 'Bhopal']\n",
            "<class 'list'>\n"
          ],
          "name": "stdout"
        }
      ]
    },
    {
      "cell_type": "code",
      "metadata": {
        "id": "gSAW4rxi6-3R",
        "colab_type": "code",
        "colab": {},
        "outputId": "28ce7726-f2e0-4f0e-9dc9-92982ae09e07"
      },
      "source": [
        "# List can contain the heterogenous data \n",
        "hetro_list= ['sid', 0.43, 4]\n",
        "print(hetro_list)\n",
        "print(type(list))"
      ],
      "execution_count": null,
      "outputs": [
        {
          "output_type": "stream",
          "text": [
            "['sid', 0.43, 4]\n",
            "<class 'list'>\n"
          ],
          "name": "stdout"
        }
      ]
    },
    {
      "cell_type": "code",
      "metadata": {
        "id": "n6SEkgE76-3T",
        "colab_type": "code",
        "colab": {},
        "outputId": "ff47359c-ce9e-4bb8-b583-18f421dc3870"
      },
      "source": [
        "# Exception when try to access the element out of range of the list \n",
        "list= [10, 20, 30]\n",
        "print(list[3])"
      ],
      "execution_count": null,
      "outputs": [
        {
          "output_type": "error",
          "ename": "IndexError",
          "evalue": "list index out of range",
          "traceback": [
            "\u001b[1;31m---------------------------------------------------------------------------\u001b[0m",
            "\u001b[1;31mIndexError\u001b[0m                                Traceback (most recent call last)",
            "\u001b[1;32m<ipython-input-10-3f9bcd960a57>\u001b[0m in \u001b[0;36m<module>\u001b[1;34m\u001b[0m\n\u001b[0;32m      1\u001b[0m \u001b[1;31m# Exception when try to access the element out of range of the list\u001b[0m\u001b[1;33m\u001b[0m\u001b[1;33m\u001b[0m\u001b[1;33m\u001b[0m\u001b[0m\n\u001b[0;32m      2\u001b[0m \u001b[0mlist\u001b[0m\u001b[1;33m=\u001b[0m \u001b[1;33m[\u001b[0m\u001b[1;36m10\u001b[0m\u001b[1;33m,\u001b[0m \u001b[1;36m20\u001b[0m\u001b[1;33m,\u001b[0m \u001b[1;36m30\u001b[0m\u001b[1;33m]\u001b[0m\u001b[1;33m\u001b[0m\u001b[1;33m\u001b[0m\u001b[0m\n\u001b[1;32m----> 3\u001b[1;33m \u001b[0mprint\u001b[0m\u001b[1;33m(\u001b[0m\u001b[0mlist\u001b[0m\u001b[1;33m[\u001b[0m\u001b[1;36m3\u001b[0m\u001b[1;33m]\u001b[0m\u001b[1;33m)\u001b[0m\u001b[1;33m\u001b[0m\u001b[1;33m\u001b[0m\u001b[0m\n\u001b[0m",
            "\u001b[1;31mIndexError\u001b[0m: list index out of range"
          ]
        }
      ]
    },
    {
      "cell_type": "code",
      "metadata": {
        "id": "KwGsnYDu6-3V",
        "colab_type": "code",
        "colab": {},
        "outputId": "ea7ee75d-ec24-4e0b-bfa8-664ea39e0168"
      },
      "source": [
        "# We cannot access the values of list by index before its creation but we can use the append method\n",
        "l=[]\n",
        "l[0]=1"
      ],
      "execution_count": null,
      "outputs": [
        {
          "output_type": "error",
          "ename": "IndexError",
          "evalue": "list assignment index out of range",
          "traceback": [
            "\u001b[1;31m---------------------------------------------------------------------------\u001b[0m",
            "\u001b[1;31mIndexError\u001b[0m                                Traceback (most recent call last)",
            "\u001b[1;32m<ipython-input-26-be1f64021954>\u001b[0m in \u001b[0;36m<module>\u001b[1;34m\u001b[0m\n\u001b[0;32m      1\u001b[0m \u001b[1;31m# We cannot access the values of list by index before its creation but we can use the append method\u001b[0m\u001b[1;33m\u001b[0m\u001b[1;33m\u001b[0m\u001b[1;33m\u001b[0m\u001b[0m\n\u001b[0;32m      2\u001b[0m \u001b[0ml\u001b[0m\u001b[1;33m=\u001b[0m\u001b[1;33m[\u001b[0m\u001b[1;33m]\u001b[0m\u001b[1;33m\u001b[0m\u001b[1;33m\u001b[0m\u001b[0m\n\u001b[1;32m----> 3\u001b[1;33m \u001b[0ml\u001b[0m\u001b[1;33m[\u001b[0m\u001b[1;36m0\u001b[0m\u001b[1;33m]\u001b[0m\u001b[1;33m=\u001b[0m\u001b[1;36m1\u001b[0m\u001b[1;33m\u001b[0m\u001b[1;33m\u001b[0m\u001b[0m\n\u001b[0m",
            "\u001b[1;31mIndexError\u001b[0m: list assignment index out of range"
          ]
        }
      ]
    },
    {
      "cell_type": "code",
      "metadata": {
        "id": "kgf9Nc656-3X",
        "colab_type": "code",
        "colab": {},
        "outputId": "7b45d21f-0485-4710-cf3e-b5bf7151c89a"
      },
      "source": [
        "# We can replace the old values in a list \n",
        "list=[10, 20, 30]\n",
        "print(list)\n",
        "list=[1, 2, 3]\n",
        "print(list)"
      ],
      "execution_count": null,
      "outputs": [
        {
          "output_type": "stream",
          "text": [
            "[10, 20, 30]\n",
            "[1, 2, 3]\n"
          ],
          "name": "stdout"
        }
      ]
    },
    {
      "cell_type": "code",
      "metadata": {
        "id": "VqqS9qvl6-3b",
        "colab_type": "code",
        "colab": {},
        "outputId": "92085b52-082b-44d2-a36b-2dc8b710e8c7"
      },
      "source": [
        "l=[]\n",
        "# appends always adds a value to the list at the end\n",
        "l.append(10)\n",
        "l.append(20)\n",
        "print(l)"
      ],
      "execution_count": null,
      "outputs": [
        {
          "output_type": "stream",
          "text": [
            "[10, 20]\n"
          ],
          "name": "stdout"
        }
      ]
    },
    {
      "cell_type": "code",
      "metadata": {
        "id": "D0ll-Rzd6-3c",
        "colab_type": "code",
        "colab": {},
        "outputId": "413d90a8-efac-4aee-e120-6f41f332ce7b"
      },
      "source": [
        "l.insert(2, 30)\n",
        "print(l)"
      ],
      "execution_count": null,
      "outputs": [
        {
          "output_type": "stream",
          "text": [
            "[10, 20, 30]\n"
          ],
          "name": "stdout"
        }
      ]
    },
    {
      "cell_type": "code",
      "metadata": {
        "id": "3hmd92CO6-3g",
        "colab_type": "code",
        "colab": {},
        "outputId": "bde27a05-3d67-44d5-d09b-3ca807b10b49"
      },
      "source": [
        "# No error in case we give the higher index \n",
        "# Here we do not give any value to the index 3 but insert method only adds the value to the index 3 only. \n",
        "l.insert(4, 40)\n",
        "print(l)"
      ],
      "execution_count": null,
      "outputs": [
        {
          "output_type": "stream",
          "text": [
            "[10, 20, 30, 40]\n"
          ],
          "name": "stdout"
        }
      ]
    },
    {
      "cell_type": "code",
      "metadata": {
        "id": "Z33MlBID6-3i",
        "colab_type": "code",
        "colab": {},
        "outputId": "578fb66d-d801-4404-bb36-fef5785027a8"
      },
      "source": [
        "# We can store the value in the middle of the list through the insert function. \n",
        "l.insert(1, 50)\n",
        "print(l)"
      ],
      "execution_count": null,
      "outputs": [
        {
          "output_type": "stream",
          "text": [
            "[10, 50, 20, 30, 40]\n"
          ],
          "name": "stdout"
        }
      ]
    },
    {
      "cell_type": "code",
      "metadata": {
        "id": "7rEdgjuh6-3k",
        "colab_type": "code",
        "colab": {},
        "outputId": "d7b04ace-91be-42ad-c1b3-bdb562e3710f"
      },
      "source": [
        "l.insert(-1, 60)\n",
        "print(l)"
      ],
      "execution_count": null,
      "outputs": [
        {
          "output_type": "stream",
          "text": [
            "[10, 50, 20, 30, 60, 40]\n"
          ],
          "name": "stdout"
        }
      ]
    },
    {
      "cell_type": "code",
      "metadata": {
        "id": "NybkHgz36-3m",
        "colab_type": "code",
        "colab": {},
        "outputId": "71dad81a-878b-4ba0-8b4b-de95c728b269"
      },
      "source": [
        "l.insert(-3, 100)\n",
        "print(l)"
      ],
      "execution_count": null,
      "outputs": [
        {
          "output_type": "stream",
          "text": [
            "[10, 50, 20, 100, 30, 60, 40]\n"
          ],
          "name": "stdout"
        }
      ]
    },
    {
      "cell_type": "code",
      "metadata": {
        "id": "OueICMGK6-3o",
        "colab_type": "code",
        "colab": {},
        "outputId": "272627f5-3c47-4329-8884-4118bc189d18"
      },
      "source": [
        "l1=[1, 2, 3]\n",
        "l2=[4, 5, 6]\n",
        "# The operator will put the elements of both the lists into the new list \n",
        "l3=l1+l2\n",
        "print(l3)"
      ],
      "execution_count": null,
      "outputs": [
        {
          "output_type": "stream",
          "text": [
            "[1, 2, 3, 4, 5, 6]\n"
          ],
          "name": "stdout"
        }
      ]
    },
    {
      "cell_type": "code",
      "metadata": {
        "id": "DxHImWs76-3q",
        "colab_type": "code",
        "colab": {},
        "outputId": "ee11f384-eda2-42cf-f935-66f819d905ad"
      },
      "source": [
        "# We cannot add the element in the list through the + operator \n",
        "l1+4"
      ],
      "execution_count": null,
      "outputs": [
        {
          "output_type": "error",
          "ename": "TypeError",
          "evalue": "can only concatenate list (not \"int\") to list",
          "traceback": [
            "\u001b[1;31m---------------------------------------------------------------------------\u001b[0m",
            "\u001b[1;31mTypeError\u001b[0m                                 Traceback (most recent call last)",
            "\u001b[1;32m<ipython-input-37-a45945cc704d>\u001b[0m in \u001b[0;36m<module>\u001b[1;34m\u001b[0m\n\u001b[0;32m      1\u001b[0m \u001b[1;31m# We cannot add the element in the list through the + operator\u001b[0m\u001b[1;33m\u001b[0m\u001b[1;33m\u001b[0m\u001b[1;33m\u001b[0m\u001b[0m\n\u001b[1;32m----> 2\u001b[1;33m \u001b[0ml1\u001b[0m\u001b[1;33m+\u001b[0m\u001b[1;36m4\u001b[0m\u001b[1;33m\u001b[0m\u001b[1;33m\u001b[0m\u001b[0m\n\u001b[0m",
            "\u001b[1;31mTypeError\u001b[0m: can only concatenate list (not \"int\") to list"
          ]
        }
      ]
    },
    {
      "cell_type": "code",
      "metadata": {
        "id": "GBkM5aOl6-3s",
        "colab_type": "code",
        "colab": {},
        "outputId": "e140adcd-a3bb-45ed-88bd-3dcac2b6e4db"
      },
      "source": [
        "# But we can add the element like this \n",
        "l1+[10]\n",
        "print(l1)"
      ],
      "execution_count": null,
      "outputs": [
        {
          "output_type": "stream",
          "text": [
            "[1, 2, 3]\n"
          ],
          "name": "stdout"
        }
      ]
    },
    {
      "cell_type": "code",
      "metadata": {
        "id": "H4hhUoXV6-3v",
        "colab_type": "code",
        "colab": {},
        "outputId": "39684436-651a-4db1-b4a2-afc414e77cf0"
      },
      "source": [
        "# If we want to assign the value 10 to l1 \n",
        "l1+=[10]\n",
        "print(l1)"
      ],
      "execution_count": null,
      "outputs": [
        {
          "output_type": "stream",
          "text": [
            "[1, 2, 3, 10]\n"
          ],
          "name": "stdout"
        }
      ]
    },
    {
      "cell_type": "code",
      "metadata": {
        "id": "l1ZIB-FN6-3w",
        "colab_type": "code",
        "colab": {},
        "outputId": "17ad3119-b96f-4019-a3e0-5082d5c0fb4c"
      },
      "source": [
        "# Repeating operator \n",
        "D=[10, 20]\n",
        "print(D*3)\n",
        "print(D)\n",
        "D*=3\n",
        "print(D)"
      ],
      "execution_count": null,
      "outputs": [
        {
          "output_type": "stream",
          "text": [
            "[10, 20, 10, 20, 10, 20]\n",
            "[10, 20]\n",
            "[10, 20, 10, 20, 10, 20]\n"
          ],
          "name": "stdout"
        }
      ]
    },
    {
      "cell_type": "markdown",
      "metadata": {
        "id": "DqvOjnuE6-31",
        "colab_type": "text"
      },
      "source": [
        "### 3.3 List in python part 3"
      ]
    },
    {
      "cell_type": "code",
      "metadata": {
        "id": "-lI7kD6e6-31",
        "colab_type": "code",
        "colab": {},
        "outputId": "be1572ed-54fa-4ef3-e732-af14ecd6d7c0"
      },
      "source": [
        "# Modify the element in the list\n",
        "list=[10, 20, 30]\n",
        "list[0]=100\n",
        "print(list)"
      ],
      "execution_count": null,
      "outputs": [
        {
          "output_type": "stream",
          "text": [
            "[100, 20, 30]\n"
          ],
          "name": "stdout"
        }
      ]
    },
    {
      "cell_type": "code",
      "metadata": {
        "id": "g7Z49-vW6-33",
        "colab_type": "code",
        "colab": {},
        "outputId": "89e85ee3-63f7-47ed-fb4f-9811aab44320"
      },
      "source": [
        "# Remove element from the list \n",
        "list=[10, 20, 30]\n",
        "list.remove(20)\n",
        "print(list)"
      ],
      "execution_count": null,
      "outputs": [
        {
          "output_type": "stream",
          "text": [
            "[10, 30]\n"
          ],
          "name": "stdout"
        }
      ]
    },
    {
      "cell_type": "code",
      "metadata": {
        "id": "DOZvZR4C6-36",
        "colab_type": "code",
        "colab": {},
        "outputId": "b9fce20b-5fec-41f3-9dec-a4e495e59abe"
      },
      "source": [
        "# Gives the error because 200 is not present in the list \n",
        "list.remove(200)"
      ],
      "execution_count": null,
      "outputs": [
        {
          "output_type": "error",
          "ename": "ValueError",
          "evalue": "list.remove(x): x not in list",
          "traceback": [
            "\u001b[1;31m---------------------------------------------------------------------------\u001b[0m",
            "\u001b[1;31mValueError\u001b[0m                                Traceback (most recent call last)",
            "\u001b[1;32m<ipython-input-50-9f499347617d>\u001b[0m in \u001b[0;36m<module>\u001b[1;34m\u001b[0m\n\u001b[0;32m      1\u001b[0m \u001b[1;31m# Gives the error because 200 is not present in the list\u001b[0m\u001b[1;33m\u001b[0m\u001b[1;33m\u001b[0m\u001b[1;33m\u001b[0m\u001b[0m\n\u001b[1;32m----> 2\u001b[1;33m \u001b[0mlist\u001b[0m\u001b[1;33m.\u001b[0m\u001b[0mremove\u001b[0m\u001b[1;33m(\u001b[0m\u001b[1;36m200\u001b[0m\u001b[1;33m)\u001b[0m\u001b[1;33m\u001b[0m\u001b[1;33m\u001b[0m\u001b[0m\n\u001b[0m",
            "\u001b[1;31mValueError\u001b[0m: list.remove(x): x not in list"
          ]
        }
      ]
    },
    {
      "cell_type": "code",
      "metadata": {
        "id": "fQGkT14K6-37",
        "colab_type": "code",
        "colab": {},
        "outputId": "14320148-4d41-46ab-93ca-cb77b7b901aa"
      },
      "source": [
        "list=[10, 20, 30]\n",
        "list*=3\n",
        "print(list)\n",
        "# Below statement only removes the first occurance of the given element in the repeating list not all the repeating elements.\n",
        "list.remove(20)\n",
        "print(list)"
      ],
      "execution_count": null,
      "outputs": [
        {
          "output_type": "stream",
          "text": [
            "[10, 20, 30, 10, 20, 30, 10, 20, 30]\n",
            "[10, 30, 10, 20, 30, 10, 20, 30]\n"
          ],
          "name": "stdout"
        }
      ]
    },
    {
      "cell_type": "code",
      "metadata": {
        "id": "Z3azGNaJ6-3-",
        "colab_type": "code",
        "colab": {}
      },
      "source": [
        "# List in python is an object and has many useful functions "
      ],
      "execution_count": null,
      "outputs": []
    },
    {
      "cell_type": "code",
      "metadata": {
        "id": "DhwPNy9k6-3_",
        "colab_type": "code",
        "colab": {},
        "outputId": "5c571cef-9523-4631-e516-6023a2553106"
      },
      "source": [
        "list=[10, 9, 30, 1, 40]\n",
        "# This sort() method sorts the elements of the list in the ascending order.  \n",
        "list.sort()\n",
        "print(list)"
      ],
      "execution_count": null,
      "outputs": [
        {
          "output_type": "stream",
          "text": [
            "[1, 9, 10, 30, 40]\n"
          ],
          "name": "stdout"
        }
      ]
    },
    {
      "cell_type": "code",
      "metadata": {
        "id": "rCPScd-Z6-4B",
        "colab_type": "code",
        "colab": {},
        "outputId": "fa7a717f-5ffd-45d5-b7b3-21a929a74e77"
      },
      "source": [
        "# If we want to remove all the values from the list \n",
        "print(list)\n",
        "list.clear()\n",
        "print(list)"
      ],
      "execution_count": null,
      "outputs": [
        {
          "output_type": "stream",
          "text": [
            "[1, 9, 10, 30, 40]\n",
            "[]\n"
          ],
          "name": "stdout"
        }
      ]
    },
    {
      "cell_type": "code",
      "metadata": {
        "id": "wUNR-QXX6-4C",
        "colab_type": "code",
        "colab": {},
        "outputId": "d5abe472-8b5f-4bbb-b504-76a7074c44ab"
      },
      "source": [
        "# If we want to reverse the elements of a list \n",
        "list=[1, 2, 3, 4, 5]\n",
        "print(list)\n",
        "list.reverse()\n",
        "print(list)"
      ],
      "execution_count": null,
      "outputs": [
        {
          "output_type": "stream",
          "text": [
            "[1, 2, 3, 4, 5]\n",
            "[5, 4, 3, 2, 1]\n"
          ],
          "name": "stdout"
        }
      ]
    },
    {
      "cell_type": "code",
      "metadata": {
        "id": "JZKTYqcr6-4G",
        "colab_type": "code",
        "colab": {},
        "outputId": "9580da67-74a4-470a-f3a9-59c30ab41402"
      },
      "source": [
        "# In remove() we pass the value to be removed from the list  \n",
        "# In pop() we pass the index of the value that needs to be removed from the list \n",
        "\n",
        "l=[1, 2, 3, 4]\n",
        "# Removes and deletes the last element from the list \n",
        "r= l.pop()\n",
        "print(r)\n",
        "print(l)"
      ],
      "execution_count": null,
      "outputs": [
        {
          "output_type": "stream",
          "text": [
            "4\n",
            "[1, 2, 3]\n"
          ],
          "name": "stdout"
        }
      ]
    },
    {
      "cell_type": "code",
      "metadata": {
        "id": "YYkcbL-c6-4I",
        "colab_type": "code",
        "colab": {},
        "outputId": "966df5f3-ceec-4db6-da70-ffea1c6ac5c1"
      },
      "source": [
        "# Returns and deletes the element at index 0 from the list \n",
        "print(l)\n",
        "l.pop(0)\n",
        "print(l)"
      ],
      "execution_count": null,
      "outputs": [
        {
          "output_type": "stream",
          "text": [
            "[1, 2, 3]\n",
            "[2, 3]\n"
          ],
          "name": "stdout"
        }
      ]
    },
    {
      "cell_type": "code",
      "metadata": {
        "id": "ju6aqOSm6-4K",
        "colab_type": "code",
        "colab": {},
        "outputId": "bcf0f69e-b1ed-4c28-e05d-607bfcf87d69"
      },
      "source": [
        "list=[10, 20, 30, 40, 50, 60]\n",
        "# We want to find the index of a particular element of the list \n",
        "i= list.index(20)\n",
        "print(i)"
      ],
      "execution_count": null,
      "outputs": [
        {
          "output_type": "stream",
          "text": [
            "1\n"
          ],
          "name": "stdout"
        }
      ]
    },
    {
      "cell_type": "code",
      "metadata": {
        "id": "s7eg9y686-4M",
        "colab_type": "code",
        "colab": {},
        "outputId": "cfb39751-d708-4509-c6fb-9470fdf327db"
      },
      "source": [
        "# 70 is not present in the list -------> Let's see whats happen \n",
        "i= list.index(70)\n",
        "print(i)"
      ],
      "execution_count": null,
      "outputs": [
        {
          "output_type": "error",
          "ename": "ValueError",
          "evalue": "70 is not in list",
          "traceback": [
            "\u001b[1;31m---------------------------------------------------------------------------\u001b[0m",
            "\u001b[1;31mValueError\u001b[0m                                Traceback (most recent call last)",
            "\u001b[1;32m<ipython-input-63-9e28660c12a6>\u001b[0m in \u001b[0;36m<module>\u001b[1;34m\u001b[0m\n\u001b[0;32m      1\u001b[0m \u001b[1;31m# 70 is not present in the list -------> Let's see whats happen\u001b[0m\u001b[1;33m\u001b[0m\u001b[1;33m\u001b[0m\u001b[1;33m\u001b[0m\u001b[0m\n\u001b[1;32m----> 2\u001b[1;33m \u001b[0mi\u001b[0m\u001b[1;33m=\u001b[0m \u001b[0mlist\u001b[0m\u001b[1;33m.\u001b[0m\u001b[0mindex\u001b[0m\u001b[1;33m(\u001b[0m\u001b[1;36m70\u001b[0m\u001b[1;33m)\u001b[0m\u001b[1;33m\u001b[0m\u001b[1;33m\u001b[0m\u001b[0m\n\u001b[0m\u001b[0;32m      3\u001b[0m \u001b[0mprint\u001b[0m\u001b[1;33m(\u001b[0m\u001b[0mi\u001b[0m\u001b[1;33m)\u001b[0m\u001b[1;33m\u001b[0m\u001b[1;33m\u001b[0m\u001b[0m\n",
            "\u001b[1;31mValueError\u001b[0m: 70 is not in list"
          ]
        }
      ]
    },
    {
      "cell_type": "code",
      "metadata": {
        "id": "LgsJ_vRz6-4Q",
        "colab_type": "code",
        "colab": {},
        "outputId": "4bad8a78-12d7-4d05-cbee-19049d3b048b"
      },
      "source": [
        "list=[10, 20, 10, 30, 40, 20, 30, 10]\n",
        "x= list.index(10)\n",
        "print(x)\n",
        "# Search the 10 element in the list from the index 1 \n",
        "y= list.index(10, 1)\n",
        "print(y)"
      ],
      "execution_count": null,
      "outputs": [
        {
          "output_type": "stream",
          "text": [
            "0\n",
            "2\n"
          ],
          "name": "stdout"
        }
      ]
    },
    {
      "cell_type": "code",
      "metadata": {
        "id": "5xQb5F6Z6-4U",
        "colab_type": "code",
        "colab": {},
        "outputId": "710ac955-87dc-4cc6-f280-b28aecafb4cc"
      },
      "source": [
        "# Search the element 10 in the list from the index 3 to 6\n",
        "# As 10 is not there in the specified range so it gives the error \n",
        "list.index(10, 3, 6)"
      ],
      "execution_count": null,
      "outputs": [
        {
          "output_type": "error",
          "ename": "ValueError",
          "evalue": "10 is not in list",
          "traceback": [
            "\u001b[1;31m---------------------------------------------------------------------------\u001b[0m",
            "\u001b[1;31mValueError\u001b[0m                                Traceback (most recent call last)",
            "\u001b[1;32m<ipython-input-70-6d519ebf1b2b>\u001b[0m in \u001b[0;36m<module>\u001b[1;34m\u001b[0m\n\u001b[0;32m      1\u001b[0m \u001b[1;31m# Search the element 10 in the list from the index 3 to 6\u001b[0m\u001b[1;33m\u001b[0m\u001b[1;33m\u001b[0m\u001b[1;33m\u001b[0m\u001b[0m\n\u001b[0;32m      2\u001b[0m \u001b[1;31m# As 10 is not there in the specified range so it gives the error\u001b[0m\u001b[1;33m\u001b[0m\u001b[1;33m\u001b[0m\u001b[1;33m\u001b[0m\u001b[0m\n\u001b[1;32m----> 3\u001b[1;33m \u001b[0mlist\u001b[0m\u001b[1;33m.\u001b[0m\u001b[0mindex\u001b[0m\u001b[1;33m(\u001b[0m\u001b[1;36m10\u001b[0m\u001b[1;33m,\u001b[0m \u001b[1;36m3\u001b[0m\u001b[1;33m,\u001b[0m \u001b[1;36m6\u001b[0m\u001b[1;33m)\u001b[0m\u001b[1;33m\u001b[0m\u001b[1;33m\u001b[0m\u001b[0m\n\u001b[0m",
            "\u001b[1;31mValueError\u001b[0m: 10 is not in list"
          ]
        }
      ]
    },
    {
      "cell_type": "code",
      "metadata": {
        "id": "nQBCrXhu6-4Y",
        "colab_type": "code",
        "colab": {},
        "outputId": "8f5aa92b-c4fb-4f3e-f3ae-0d8daa30546a"
      },
      "source": [
        "print(list)\n",
        "i= list.index(10, 2, 6)\n",
        "print(\"10 is present at index {} between the index 2 and index 6 in the list\".format(i))"
      ],
      "execution_count": null,
      "outputs": [
        {
          "output_type": "stream",
          "text": [
            "[10, 20, 10, 30, 40, 20, 30, 10]\n",
            "10 is present at index 2 between the index 2 and index 6 in the list\n"
          ],
          "name": "stdout"
        }
      ]
    },
    {
      "cell_type": "code",
      "metadata": {
        "id": "YAXKTl1n6-4a",
        "colab_type": "code",
        "colab": {},
        "outputId": "1714dba3-c0c2-4761-d0bd-d4491cbf0138"
      },
      "source": [
        "print(list)\n",
        "# How many times 10 is occuring in the list\n",
        "print(list.count(10))\n",
        "# How many time 20 is occuring in the list\n",
        "print(list.count(20))"
      ],
      "execution_count": null,
      "outputs": [
        {
          "output_type": "stream",
          "text": [
            "[10, 20, 10, 30, 40, 20, 30, 10]\n",
            "3\n",
            "2\n"
          ],
          "name": "stdout"
        }
      ]
    },
    {
      "cell_type": "code",
      "metadata": {
        "id": "3i3193L66-4d",
        "colab_type": "code",
        "colab": {},
        "outputId": "3efa7cbf-255c-452d-efdd-7dd4f1487e10"
      },
      "source": [
        "list=[10, 20, 30]\n",
        "# If we want to have a look at all the methods of this list then type in the below command \n",
        "help(list)"
      ],
      "execution_count": null,
      "outputs": [
        {
          "output_type": "stream",
          "text": [
            "Help on list object:\n",
            "\n",
            "class list(object)\n",
            " |  list(iterable=(), /)\n",
            " |  \n",
            " |  Built-in mutable sequence.\n",
            " |  \n",
            " |  If no argument is given, the constructor creates a new empty list.\n",
            " |  The argument must be an iterable if specified.\n",
            " |  \n",
            " |  Methods defined here:\n",
            " |  \n",
            " |  __add__(self, value, /)\n",
            " |      Return self+value.\n",
            " |  \n",
            " |  __contains__(self, key, /)\n",
            " |      Return key in self.\n",
            " |  \n",
            " |  __delitem__(self, key, /)\n",
            " |      Delete self[key].\n",
            " |  \n",
            " |  __eq__(self, value, /)\n",
            " |      Return self==value.\n",
            " |  \n",
            " |  __ge__(self, value, /)\n",
            " |      Return self>=value.\n",
            " |  \n",
            " |  __getattribute__(self, name, /)\n",
            " |      Return getattr(self, name).\n",
            " |  \n",
            " |  __getitem__(...)\n",
            " |      x.__getitem__(y) <==> x[y]\n",
            " |  \n",
            " |  __gt__(self, value, /)\n",
            " |      Return self>value.\n",
            " |  \n",
            " |  __iadd__(self, value, /)\n",
            " |      Implement self+=value.\n",
            " |  \n",
            " |  __imul__(self, value, /)\n",
            " |      Implement self*=value.\n",
            " |  \n",
            " |  __init__(self, /, *args, **kwargs)\n",
            " |      Initialize self.  See help(type(self)) for accurate signature.\n",
            " |  \n",
            " |  __iter__(self, /)\n",
            " |      Implement iter(self).\n",
            " |  \n",
            " |  __le__(self, value, /)\n",
            " |      Return self<=value.\n",
            " |  \n",
            " |  __len__(self, /)\n",
            " |      Return len(self).\n",
            " |  \n",
            " |  __lt__(self, value, /)\n",
            " |      Return self<value.\n",
            " |  \n",
            " |  __mul__(self, value, /)\n",
            " |      Return self*value.\n",
            " |  \n",
            " |  __ne__(self, value, /)\n",
            " |      Return self!=value.\n",
            " |  \n",
            " |  __repr__(self, /)\n",
            " |      Return repr(self).\n",
            " |  \n",
            " |  __reversed__(self, /)\n",
            " |      Return a reverse iterator over the list.\n",
            " |  \n",
            " |  __rmul__(self, value, /)\n",
            " |      Return value*self.\n",
            " |  \n",
            " |  __setitem__(self, key, value, /)\n",
            " |      Set self[key] to value.\n",
            " |  \n",
            " |  __sizeof__(self, /)\n",
            " |      Return the size of the list in memory, in bytes.\n",
            " |  \n",
            " |  append(self, object, /)\n",
            " |      Append object to the end of the list.\n",
            " |  \n",
            " |  clear(self, /)\n",
            " |      Remove all items from list.\n",
            " |  \n",
            " |  copy(self, /)\n",
            " |      Return a shallow copy of the list.\n",
            " |  \n",
            " |  count(self, value, /)\n",
            " |      Return number of occurrences of value.\n",
            " |  \n",
            " |  extend(self, iterable, /)\n",
            " |      Extend list by appending elements from the iterable.\n",
            " |  \n",
            " |  index(self, value, start=0, stop=9223372036854775807, /)\n",
            " |      Return first index of value.\n",
            " |      \n",
            " |      Raises ValueError if the value is not present.\n",
            " |  \n",
            " |  insert(self, index, object, /)\n",
            " |      Insert object before index.\n",
            " |  \n",
            " |  pop(self, index=-1, /)\n",
            " |      Remove and return item at index (default last).\n",
            " |      \n",
            " |      Raises IndexError if list is empty or index is out of range.\n",
            " |  \n",
            " |  remove(self, value, /)\n",
            " |      Remove first occurrence of value.\n",
            " |      \n",
            " |      Raises ValueError if the value is not present.\n",
            " |  \n",
            " |  reverse(self, /)\n",
            " |      Reverse *IN PLACE*.\n",
            " |  \n",
            " |  sort(self, /, *, key=None, reverse=False)\n",
            " |      Stable sort *IN PLACE*.\n",
            " |  \n",
            " |  ----------------------------------------------------------------------\n",
            " |  Static methods defined here:\n",
            " |  \n",
            " |  __new__(*args, **kwargs) from builtins.type\n",
            " |      Create and return a new object.  See help(type) for accurate signature.\n",
            " |  \n",
            " |  ----------------------------------------------------------------------\n",
            " |  Data and other attributes defined here:\n",
            " |  \n",
            " |  __hash__ = None\n",
            "\n"
          ],
          "name": "stdout"
        }
      ]
    },
    {
      "cell_type": "markdown",
      "metadata": {
        "id": "WTm1sQOG6-4h",
        "colab_type": "text"
      },
      "source": [
        "### 3.4 Command Line Arguments "
      ]
    },
    {
      "cell_type": "markdown",
      "metadata": {
        "id": "LOGx_xCZ6-4h",
        "colab_type": "text"
      },
      "source": [
        "### 3.5 Strings in python part-1 \n",
        "- Strings are the sequence of characters or the bits of text. \n",
        "- They can be defined anything between quotes. "
      ]
    },
    {
      "cell_type": "code",
      "metadata": {
        "id": "bcCRDLnE6-4h",
        "colab_type": "code",
        "colab": {},
        "outputId": "45e82bd8-fee2-4230-ab59-3e04bd47683f"
      },
      "source": [
        "# 4 ways of writing the same string \n",
        "print(\"Single quotes ----->\",'Sidharth')\n",
        "print(\"Double quotes ----->\",\"Sidharth\")\n",
        "print(\"Triple single quotes ----->\",'''Sidharth''')\n",
        "print(\"Triple double quotes ----->\", \"\"\"Sidharth\"\"\")"
      ],
      "execution_count": null,
      "outputs": [
        {
          "output_type": "stream",
          "text": [
            "Single quotes -----> Sidharth\n",
            "Double quotes -----> Sidharth\n",
            "Triple single quotes -----> Sidharth\n",
            "Triple double quotes -----> Sidharth\n"
          ],
          "name": "stdout"
        }
      ]
    },
    {
      "cell_type": "code",
      "metadata": {
        "id": "rvX5xJtb6-4j",
        "colab_type": "code",
        "colab": {},
        "outputId": "3e83580d-8a9b-490d-e1fe-4b6ba91d62be"
      },
      "source": [
        "# Have to include these type of strings in the double quotes only \n",
        "str=\"Don't avoid practice\"\n",
        "print(str)"
      ],
      "execution_count": null,
      "outputs": [
        {
          "output_type": "stream",
          "text": [
            "Don't avoid practice\n"
          ],
          "name": "stdout"
        }
      ]
    },
    {
      "cell_type": "code",
      "metadata": {
        "id": "GyyiUS_B6-4k",
        "colab_type": "code",
        "colab": {},
        "outputId": "66891a39-8d67-468d-80de-12c9f6946b5c"
      },
      "source": [
        "# Double quotes is considered as the data \n",
        "str='\"MySirG.com\"'\n",
        "print(str)"
      ],
      "execution_count": null,
      "outputs": [
        {
          "output_type": "stream",
          "text": [
            "\"MySirG.com\"\n"
          ],
          "name": "stdout"
        }
      ]
    },
    {
      "cell_type": "code",
      "metadata": {
        "id": "eC5jYUvv6-4n",
        "colab_type": "code",
        "colab": {},
        "outputId": "7ad429b4-13dd-40fe-a1d6-0a0a51c87346"
      },
      "source": [
        "str= ''' Teacher's day is \"My Day\" ''' \n",
        "print(str)"
      ],
      "execution_count": null,
      "outputs": [
        {
          "output_type": "stream",
          "text": [
            " Teacher's day is \"My Day\" \n"
          ],
          "name": "stdout"
        }
      ]
    },
    {
      "cell_type": "code",
      "metadata": {
        "id": "9PwtlJT96-4p",
        "colab_type": "code",
        "colab": {},
        "outputId": "30ed780d-e684-4db8-e0fb-5d059cc1b549"
      },
      "source": [
        "# Triple quote has one more feature - it can hold the multi-line string \n",
        "s1='''Sidharth \n",
        "is \n",
        "Hardworking\n",
        "'''\n",
        "print(s1)"
      ],
      "execution_count": null,
      "outputs": [
        {
          "output_type": "stream",
          "text": [
            "Sidharth \n",
            "is \n",
            "Hardworking\n",
            "\n"
          ],
          "name": "stdout"
        }
      ]
    },
    {
      "cell_type": "code",
      "metadata": {
        "id": "TKgXzZ0w6-4q",
        "colab_type": "code",
        "colab": {},
        "outputId": "dd3b059b-898e-4158-9ad4-263620e4390d"
      },
      "source": [
        "# Length of a string \n",
        "# Space is also calculated as one character \n",
        "# len() returns number of characters including the spaces\n",
        "s1= \"Mysirg education services\"\n",
        "print('The length of the given string is {}'.format(len(s1)))"
      ],
      "execution_count": null,
      "outputs": [
        {
          "output_type": "stream",
          "text": [
            "The length of the given string is 25\n"
          ],
          "name": "stdout"
        }
      ]
    },
    {
      "cell_type": "code",
      "metadata": {
        "id": "LC68_JeY6-4s",
        "colab_type": "code",
        "colab": {},
        "outputId": "58b1b8b7-3b3e-4dd0-edf3-71c9c3ef9167"
      },
      "source": [
        "# Index of a character in the string \n",
        "# Indexing in the strings also starts from 0\n",
        "# Returns the First occurance of the character in the string\n",
        "i= s1.index('s')\n",
        "print(i)"
      ],
      "execution_count": null,
      "outputs": [
        {
          "output_type": "stream",
          "text": [
            "2\n"
          ],
          "name": "stdout"
        }
      ]
    },
    {
      "cell_type": "code",
      "metadata": {
        "id": "wIxTNUj66-4t",
        "colab_type": "code",
        "colab": {},
        "outputId": "87a7c94b-e5f6-4fe5-999e-b4cb2158a0df"
      },
      "source": [
        "i=s1.index('education')\n",
        "print(i)"
      ],
      "execution_count": null,
      "outputs": [
        {
          "output_type": "stream",
          "text": [
            "7\n"
          ],
          "name": "stdout"
        }
      ]
    },
    {
      "cell_type": "code",
      "metadata": {
        "id": "7VG8jgzX6-4x",
        "colab_type": "code",
        "colab": {},
        "outputId": "c28f1b3a-3329-44ce-ebb9-fa914eeed9bf"
      },
      "source": [
        "# Occurance of any character in the string \n",
        "occ= s1.count('e')\n",
        "print(occ)\n",
        "# character 'e' occurs 3 times in the string s1 "
      ],
      "execution_count": null,
      "outputs": [
        {
          "output_type": "stream",
          "text": [
            "3\n"
          ],
          "name": "stdout"
        }
      ]
    },
    {
      "cell_type": "markdown",
      "metadata": {
        "id": "Lcn1Gdz16-4z",
        "colab_type": "text"
      },
      "source": [
        "### 3.6 Strings part-2 "
      ]
    },
    {
      "cell_type": "code",
      "metadata": {
        "id": "upOe39ct6-4z",
        "colab_type": "code",
        "colab": {},
        "outputId": "b3114fde-a392-4b15-9143-cd78a08bfe33"
      },
      "source": [
        "s1= \"Mysirg education services\"\n",
        "print(s1[5])\n",
        "# Negetive index is allowed in Python but not in C/C++/Java \n",
        "print(s1[-2])"
      ],
      "execution_count": null,
      "outputs": [
        {
          "output_type": "stream",
          "text": [
            "g\n",
            "e\n"
          ],
          "name": "stdout"
        }
      ]
    },
    {
      "cell_type": "markdown",
      "metadata": {
        "id": "MOBe__Ne6-42",
        "colab_type": "text"
      },
      "source": [
        "**Slicing operator** \n",
        "\n",
        "     [beg:end:step]\n",
        "\n",
        "where \n",
        "      - beg is include \n",
        "      - end is exclude \n",
        "      - step is by default +1"
      ]
    },
    {
      "cell_type": "code",
      "metadata": {
        "id": "9BP3XQor6-43",
        "colab_type": "code",
        "colab": {},
        "outputId": "42a9c104-90ec-4ffc-a065-c2103984f347"
      },
      "source": [
        "print(s1[7:16])"
      ],
      "execution_count": null,
      "outputs": [
        {
          "output_type": "stream",
          "text": [
            "education\n"
          ],
          "name": "stdout"
        }
      ]
    },
    {
      "cell_type": "code",
      "metadata": {
        "id": "xWrNt5xv6-44",
        "colab_type": "code",
        "colab": {},
        "outputId": "e49e5ec4-2bf4-4f9d-f21c-b93e72793c96"
      },
      "source": [
        "print(s1[2:-2])"
      ],
      "execution_count": null,
      "outputs": [
        {
          "output_type": "stream",
          "text": [
            "sirg education servic\n"
          ],
          "name": "stdout"
        }
      ]
    },
    {
      "cell_type": "code",
      "metadata": {
        "id": "-LNqZd3i6-48",
        "colab_type": "code",
        "colab": {},
        "outputId": "c1840d92-52f7-4d26-9d05-3a5f217b5eaa"
      },
      "source": [
        "print(s1[-5:23])"
      ],
      "execution_count": null,
      "outputs": [
        {
          "output_type": "stream",
          "text": [
            "vic\n"
          ],
          "name": "stdout"
        }
      ]
    },
    {
      "cell_type": "markdown",
      "metadata": {
        "id": "8bvTAR356-4-",
        "colab_type": "text"
      },
      "source": [
        "#### Note:\n",
        "1. If the step is positive then we can only move from left to right. \n",
        "2. If the step is negetive then we can only move from right to left. "
      ]
    },
    {
      "cell_type": "code",
      "metadata": {
        "id": "XTBa0CpP6-4-",
        "colab_type": "code",
        "colab": {},
        "outputId": "32af8159-0157-4435-c92a-87c1fc2be4b4"
      },
      "source": [
        "# Will give empty as by default step is positive(+1) and we can go from left to right only but here we intend to go from right to left. \n",
        "print(s1[-5:8])"
      ],
      "execution_count": null,
      "outputs": [
        {
          "output_type": "stream",
          "text": [
            "\n"
          ],
          "name": "stdout"
        }
      ]
    },
    {
      "cell_type": "code",
      "metadata": {
        "id": "-TlDZIla6-5A",
        "colab_type": "code",
        "colab": {},
        "outputId": "7f7b4926-9e3d-4ba0-cdad-c053c37ad71e"
      },
      "source": [
        "# But if we want to go from right to left then we can mention the negetive step size. \n",
        "print(s1[-5:8:-1])"
      ],
      "execution_count": null,
      "outputs": [
        {
          "output_type": "stream",
          "text": [
            "vres noitacu\n"
          ],
          "name": "stdout"
        }
      ]
    },
    {
      "cell_type": "markdown",
      "metadata": {
        "id": "yT9U6bs26-5B",
        "colab_type": "text"
      },
      "source": [
        "#### Methods to reverse a string in python "
      ]
    },
    {
      "cell_type": "code",
      "metadata": {
        "id": "2JDFwLH96-5C",
        "colab_type": "code",
        "colab": {},
        "outputId": "499b21c9-a1b9-4b73-e8ca-d2654b42039b"
      },
      "source": [
        "print(s1)"
      ],
      "execution_count": null,
      "outputs": [
        {
          "output_type": "stream",
          "text": [
            "Mysirg education services\n"
          ],
          "name": "stdout"
        }
      ]
    },
    {
      "cell_type": "code",
      "metadata": {
        "id": "Ac1cMW506-5D",
        "colab_type": "code",
        "colab": {},
        "outputId": "af244236-af29-48d8-d4ca-2a2eae3ddbd4"
      },
      "source": [
        "# End value cannot be 0 as it is always excluded so we will not mention any end value as it is optional. \n",
        "# Want to move from right to left to reverse the string so have to mention negetive step size(-1)\n",
        "print(s1[24::-1])"
      ],
      "execution_count": null,
      "outputs": [
        {
          "output_type": "stream",
          "text": [
            "secivres noitacude grisyM\n"
          ],
          "name": "stdout"
        }
      ]
    },
    {
      "cell_type": "code",
      "metadata": {
        "id": "fXQZi0HS6-5E",
        "colab_type": "code",
        "colab": {},
        "outputId": "c26fe71d-4dfc-4e9b-8363-cdbf62bb8e05"
      },
      "source": [
        "# Another method to reverse the string \n",
        "print(s1[len(s1)::-1])"
      ],
      "execution_count": null,
      "outputs": [
        {
          "output_type": "stream",
          "text": [
            "secivres noitacude grisyM\n"
          ],
          "name": "stdout"
        }
      ]
    },
    {
      "cell_type": "code",
      "metadata": {
        "id": "BYLN4In66-5G",
        "colab_type": "code",
        "colab": {},
        "outputId": "75ac2cc7-1840-4e66-9062-a43caf569d04"
      },
      "source": [
        "# Another method to revese the given string \n",
        "print(s1[::-1])"
      ],
      "execution_count": null,
      "outputs": [
        {
          "output_type": "stream",
          "text": [
            "secivres noitacude grisyM\n"
          ],
          "name": "stdout"
        }
      ]
    },
    {
      "cell_type": "markdown",
      "metadata": {
        "id": "8le2psBt6-5H",
        "colab_type": "text"
      },
      "source": [
        "#### Convert a given string to UPPER CASE and lower case "
      ]
    },
    {
      "cell_type": "code",
      "metadata": {
        "id": "38OTsha86-5H",
        "colab_type": "code",
        "colab": {},
        "outputId": "8f952e1c-f01b-44c5-c1fa-9c95d705ac21"
      },
      "source": [
        "# Convert the string to the UPPER CASE \n",
        "strng= 'sidharth'\n",
        "x= strng.upper()\n",
        "print(x)"
      ],
      "execution_count": null,
      "outputs": [
        {
          "output_type": "stream",
          "text": [
            "SIDHARTH\n"
          ],
          "name": "stdout"
        }
      ]
    },
    {
      "cell_type": "code",
      "metadata": {
        "id": "CfU3yk146-5J",
        "colab_type": "code",
        "colab": {},
        "outputId": "3f91a764-42f7-4b95-e585-2d2e6183c67a"
      },
      "source": [
        "# Conver the string to lower case \n",
        "strng= 'SIDHARTH'\n",
        "x= strng.lower()\n",
        "print(x)"
      ],
      "execution_count": null,
      "outputs": [
        {
          "output_type": "stream",
          "text": [
            "sidharth\n"
          ],
          "name": "stdout"
        }
      ]
    },
    {
      "cell_type": "markdown",
      "metadata": {
        "id": "8AmMjcLB6-5L",
        "colab_type": "text"
      },
      "source": [
        "#### Some other methods of string object "
      ]
    },
    {
      "cell_type": "code",
      "metadata": {
        "id": "cxQ2Ny4K6-5M",
        "colab_type": "code",
        "colab": {},
        "outputId": "fca6c2a3-9b48-447e-8c5b-711c8f574e3f"
      },
      "source": [
        "print(s1)\n",
        "print(s1.startswith(\"My\"))"
      ],
      "execution_count": null,
      "outputs": [
        {
          "output_type": "stream",
          "text": [
            "Mysirg education services\n",
            "True\n"
          ],
          "name": "stdout"
        }
      ]
    },
    {
      "cell_type": "code",
      "metadata": {
        "id": "osngu9aP6-5N",
        "colab_type": "code",
        "colab": {},
        "outputId": "b0c07ce3-d924-45e7-a472-62cdd1b94b59"
      },
      "source": [
        "print(s1.endswith('ces'))"
      ],
      "execution_count": null,
      "outputs": [
        {
          "output_type": "stream",
          "text": [
            "True\n"
          ],
          "name": "stdout"
        }
      ]
    },
    {
      "cell_type": "code",
      "metadata": {
        "id": "_4wYdSf36-5O",
        "colab_type": "code",
        "colab": {},
        "outputId": "988afb1b-3a88-406f-da05-770a72804e30"
      },
      "source": [
        "print(s1.startswith(\"hello\"))"
      ],
      "execution_count": null,
      "outputs": [
        {
          "output_type": "stream",
          "text": [
            "False\n"
          ],
          "name": "stdout"
        }
      ]
    },
    {
      "cell_type": "markdown",
      "metadata": {
        "id": "8jSqUw2V6-5R",
        "colab_type": "text"
      },
      "source": [
        "#### split() method "
      ]
    },
    {
      "cell_type": "code",
      "metadata": {
        "id": "sHvSpg3g6-5S",
        "colab_type": "code",
        "colab": {},
        "outputId": "cf2866a5-4731-43df-e478-8c89378a78a8"
      },
      "source": [
        "# Splits the string on the basis of the argument passed in the method and returns a list of strings  \n",
        "print(s1)\n",
        "# Split on the basis of space\n",
        "list_of_strings= s1.split(' ')\n",
        "print(list_of_strings)\n",
        "print(type(list_of_strings))"
      ],
      "execution_count": null,
      "outputs": [
        {
          "output_type": "stream",
          "text": [
            "Mysirg education services\n",
            "['Mysirg', 'education', 'services']\n",
            "<class 'list'>\n"
          ],
          "name": "stdout"
        }
      ]
    },
    {
      "cell_type": "markdown",
      "metadata": {
        "id": "fHoByPhR6-5U",
        "colab_type": "text"
      },
      "source": [
        "#### All the methods of str object \n"
      ]
    },
    {
      "cell_type": "code",
      "metadata": {
        "id": "im7eDbnR6-5U",
        "colab_type": "code",
        "colab": {},
        "outputId": "25f56a71-2283-4e14-d399-80e429859f64"
      },
      "source": [
        "help(str)"
      ],
      "execution_count": null,
      "outputs": [
        {
          "output_type": "stream",
          "text": [
            "Help on class str in module builtins:\n",
            "\n",
            "class str(object)\n",
            " |  str(object='') -> str\n",
            " |  str(bytes_or_buffer[, encoding[, errors]]) -> str\n",
            " |  \n",
            " |  Create a new string object from the given object. If encoding or\n",
            " |  errors is specified, then the object must expose a data buffer\n",
            " |  that will be decoded using the given encoding and error handler.\n",
            " |  Otherwise, returns the result of object.__str__() (if defined)\n",
            " |  or repr(object).\n",
            " |  encoding defaults to sys.getdefaultencoding().\n",
            " |  errors defaults to 'strict'.\n",
            " |  \n",
            " |  Methods defined here:\n",
            " |  \n",
            " |  __add__(self, value, /)\n",
            " |      Return self+value.\n",
            " |  \n",
            " |  __contains__(self, key, /)\n",
            " |      Return key in self.\n",
            " |  \n",
            " |  __eq__(self, value, /)\n",
            " |      Return self==value.\n",
            " |  \n",
            " |  __format__(self, format_spec, /)\n",
            " |      Return a formatted version of the string as described by format_spec.\n",
            " |  \n",
            " |  __ge__(self, value, /)\n",
            " |      Return self>=value.\n",
            " |  \n",
            " |  __getattribute__(self, name, /)\n",
            " |      Return getattr(self, name).\n",
            " |  \n",
            " |  __getitem__(self, key, /)\n",
            " |      Return self[key].\n",
            " |  \n",
            " |  __getnewargs__(...)\n",
            " |  \n",
            " |  __gt__(self, value, /)\n",
            " |      Return self>value.\n",
            " |  \n",
            " |  __hash__(self, /)\n",
            " |      Return hash(self).\n",
            " |  \n",
            " |  __iter__(self, /)\n",
            " |      Implement iter(self).\n",
            " |  \n",
            " |  __le__(self, value, /)\n",
            " |      Return self<=value.\n",
            " |  \n",
            " |  __len__(self, /)\n",
            " |      Return len(self).\n",
            " |  \n",
            " |  __lt__(self, value, /)\n",
            " |      Return self<value.\n",
            " |  \n",
            " |  __mod__(self, value, /)\n",
            " |      Return self%value.\n",
            " |  \n",
            " |  __mul__(self, value, /)\n",
            " |      Return self*value.\n",
            " |  \n",
            " |  __ne__(self, value, /)\n",
            " |      Return self!=value.\n",
            " |  \n",
            " |  __repr__(self, /)\n",
            " |      Return repr(self).\n",
            " |  \n",
            " |  __rmod__(self, value, /)\n",
            " |      Return value%self.\n",
            " |  \n",
            " |  __rmul__(self, value, /)\n",
            " |      Return value*self.\n",
            " |  \n",
            " |  __sizeof__(self, /)\n",
            " |      Return the size of the string in memory, in bytes.\n",
            " |  \n",
            " |  __str__(self, /)\n",
            " |      Return str(self).\n",
            " |  \n",
            " |  capitalize(self, /)\n",
            " |      Return a capitalized version of the string.\n",
            " |      \n",
            " |      More specifically, make the first character have upper case and the rest lower\n",
            " |      case.\n",
            " |  \n",
            " |  casefold(self, /)\n",
            " |      Return a version of the string suitable for caseless comparisons.\n",
            " |  \n",
            " |  center(self, width, fillchar=' ', /)\n",
            " |      Return a centered string of length width.\n",
            " |      \n",
            " |      Padding is done using the specified fill character (default is a space).\n",
            " |  \n",
            " |  count(...)\n",
            " |      S.count(sub[, start[, end]]) -> int\n",
            " |      \n",
            " |      Return the number of non-overlapping occurrences of substring sub in\n",
            " |      string S[start:end].  Optional arguments start and end are\n",
            " |      interpreted as in slice notation.\n",
            " |  \n",
            " |  encode(self, /, encoding='utf-8', errors='strict')\n",
            " |      Encode the string using the codec registered for encoding.\n",
            " |      \n",
            " |      encoding\n",
            " |        The encoding in which to encode the string.\n",
            " |      errors\n",
            " |        The error handling scheme to use for encoding errors.\n",
            " |        The default is 'strict' meaning that encoding errors raise a\n",
            " |        UnicodeEncodeError.  Other possible values are 'ignore', 'replace' and\n",
            " |        'xmlcharrefreplace' as well as any other name registered with\n",
            " |        codecs.register_error that can handle UnicodeEncodeErrors.\n",
            " |  \n",
            " |  endswith(...)\n",
            " |      S.endswith(suffix[, start[, end]]) -> bool\n",
            " |      \n",
            " |      Return True if S ends with the specified suffix, False otherwise.\n",
            " |      With optional start, test S beginning at that position.\n",
            " |      With optional end, stop comparing S at that position.\n",
            " |      suffix can also be a tuple of strings to try.\n",
            " |  \n",
            " |  expandtabs(self, /, tabsize=8)\n",
            " |      Return a copy where all tab characters are expanded using spaces.\n",
            " |      \n",
            " |      If tabsize is not given, a tab size of 8 characters is assumed.\n",
            " |  \n",
            " |  find(...)\n",
            " |      S.find(sub[, start[, end]]) -> int\n",
            " |      \n",
            " |      Return the lowest index in S where substring sub is found,\n",
            " |      such that sub is contained within S[start:end].  Optional\n",
            " |      arguments start and end are interpreted as in slice notation.\n",
            " |      \n",
            " |      Return -1 on failure.\n",
            " |  \n",
            " |  format(...)\n",
            " |      S.format(*args, **kwargs) -> str\n",
            " |      \n",
            " |      Return a formatted version of S, using substitutions from args and kwargs.\n",
            " |      The substitutions are identified by braces ('{' and '}').\n",
            " |  \n",
            " |  format_map(...)\n",
            " |      S.format_map(mapping) -> str\n",
            " |      \n",
            " |      Return a formatted version of S, using substitutions from mapping.\n",
            " |      The substitutions are identified by braces ('{' and '}').\n",
            " |  \n",
            " |  index(...)\n",
            " |      S.index(sub[, start[, end]]) -> int\n",
            " |      \n",
            " |      Return the lowest index in S where substring sub is found, \n",
            " |      such that sub is contained within S[start:end].  Optional\n",
            " |      arguments start and end are interpreted as in slice notation.\n",
            " |      \n",
            " |      Raises ValueError when the substring is not found.\n",
            " |  \n",
            " |  isalnum(self, /)\n",
            " |      Return True if the string is an alpha-numeric string, False otherwise.\n",
            " |      \n",
            " |      A string is alpha-numeric if all characters in the string are alpha-numeric and\n",
            " |      there is at least one character in the string.\n",
            " |  \n",
            " |  isalpha(self, /)\n",
            " |      Return True if the string is an alphabetic string, False otherwise.\n",
            " |      \n",
            " |      A string is alphabetic if all characters in the string are alphabetic and there\n",
            " |      is at least one character in the string.\n",
            " |  \n",
            " |  isascii(self, /)\n",
            " |      Return True if all characters in the string are ASCII, False otherwise.\n",
            " |      \n",
            " |      ASCII characters have code points in the range U+0000-U+007F.\n",
            " |      Empty string is ASCII too.\n",
            " |  \n",
            " |  isdecimal(self, /)\n",
            " |      Return True if the string is a decimal string, False otherwise.\n",
            " |      \n",
            " |      A string is a decimal string if all characters in the string are decimal and\n",
            " |      there is at least one character in the string.\n",
            " |  \n",
            " |  isdigit(self, /)\n",
            " |      Return True if the string is a digit string, False otherwise.\n",
            " |      \n",
            " |      A string is a digit string if all characters in the string are digits and there\n",
            " |      is at least one character in the string.\n",
            " |  \n",
            " |  isidentifier(self, /)\n",
            " |      Return True if the string is a valid Python identifier, False otherwise.\n",
            " |      \n",
            " |      Use keyword.iskeyword() to test for reserved identifiers such as \"def\" and\n",
            " |      \"class\".\n",
            " |  \n",
            " |  islower(self, /)\n",
            " |      Return True if the string is a lowercase string, False otherwise.\n",
            " |      \n",
            " |      A string is lowercase if all cased characters in the string are lowercase and\n",
            " |      there is at least one cased character in the string.\n",
            " |  \n",
            " |  isnumeric(self, /)\n",
            " |      Return True if the string is a numeric string, False otherwise.\n",
            " |      \n",
            " |      A string is numeric if all characters in the string are numeric and there is at\n",
            " |      least one character in the string.\n",
            " |  \n",
            " |  isprintable(self, /)\n",
            " |      Return True if the string is printable, False otherwise.\n",
            " |      \n",
            " |      A string is printable if all of its characters are considered printable in\n",
            " |      repr() or if it is empty.\n",
            " |  \n",
            " |  isspace(self, /)\n",
            " |      Return True if the string is a whitespace string, False otherwise.\n",
            " |      \n",
            " |      A string is whitespace if all characters in the string are whitespace and there\n",
            " |      is at least one character in the string.\n",
            " |  \n",
            " |  istitle(self, /)\n",
            " |      Return True if the string is a title-cased string, False otherwise.\n",
            " |      \n",
            " |      In a title-cased string, upper- and title-case characters may only\n",
            " |      follow uncased characters and lowercase characters only cased ones.\n",
            " |  \n",
            " |  isupper(self, /)\n",
            " |      Return True if the string is an uppercase string, False otherwise.\n",
            " |      \n",
            " |      A string is uppercase if all cased characters in the string are uppercase and\n",
            " |      there is at least one cased character in the string.\n",
            " |  \n",
            " |  join(self, iterable, /)\n",
            " |      Concatenate any number of strings.\n",
            " |      \n",
            " |      The string whose method is called is inserted in between each given string.\n",
            " |      The result is returned as a new string.\n",
            " |      \n",
            " |      Example: '.'.join(['ab', 'pq', 'rs']) -> 'ab.pq.rs'\n",
            " |  \n",
            " |  ljust(self, width, fillchar=' ', /)\n",
            " |      Return a left-justified string of length width.\n",
            " |      \n",
            " |      Padding is done using the specified fill character (default is a space).\n",
            " |  \n",
            " |  lower(self, /)\n",
            " |      Return a copy of the string converted to lowercase.\n",
            " |  \n",
            " |  lstrip(self, chars=None, /)\n",
            " |      Return a copy of the string with leading whitespace removed.\n",
            " |      \n",
            " |      If chars is given and not None, remove characters in chars instead.\n",
            " |  \n",
            " |  partition(self, sep, /)\n",
            " |      Partition the string into three parts using the given separator.\n",
            " |      \n",
            " |      This will search for the separator in the string.  If the separator is found,\n",
            " |      returns a 3-tuple containing the part before the separator, the separator\n",
            " |      itself, and the part after it.\n",
            " |      \n",
            " |      If the separator is not found, returns a 3-tuple containing the original string\n",
            " |      and two empty strings.\n",
            " |  \n",
            " |  replace(self, old, new, count=-1, /)\n",
            " |      Return a copy with all occurrences of substring old replaced by new.\n",
            " |      \n",
            " |        count\n",
            " |          Maximum number of occurrences to replace.\n",
            " |          -1 (the default value) means replace all occurrences.\n",
            " |      \n",
            " |      If the optional argument count is given, only the first count occurrences are\n",
            " |      replaced.\n",
            " |  \n",
            " |  rfind(...)\n",
            " |      S.rfind(sub[, start[, end]]) -> int\n",
            " |      \n",
            " |      Return the highest index in S where substring sub is found,\n",
            " |      such that sub is contained within S[start:end].  Optional\n",
            " |      arguments start and end are interpreted as in slice notation.\n",
            " |      \n",
            " |      Return -1 on failure.\n",
            " |  \n",
            " |  rindex(...)\n",
            " |      S.rindex(sub[, start[, end]]) -> int\n",
            " |      \n",
            " |      Return the highest index in S where substring sub is found,\n",
            " |      such that sub is contained within S[start:end].  Optional\n",
            " |      arguments start and end are interpreted as in slice notation.\n",
            " |      \n",
            " |      Raises ValueError when the substring is not found.\n",
            " |  \n",
            " |  rjust(self, width, fillchar=' ', /)\n",
            " |      Return a right-justified string of length width.\n",
            " |      \n",
            " |      Padding is done using the specified fill character (default is a space).\n",
            " |  \n",
            " |  rpartition(self, sep, /)\n",
            " |      Partition the string into three parts using the given separator.\n",
            " |      \n",
            " |      This will search for the separator in the string, starting at the end. If\n",
            " |      the separator is found, returns a 3-tuple containing the part before the\n",
            " |      separator, the separator itself, and the part after it.\n",
            " |      \n",
            " |      If the separator is not found, returns a 3-tuple containing two empty strings\n",
            " |      and the original string.\n",
            " |  \n",
            " |  rsplit(self, /, sep=None, maxsplit=-1)\n",
            " |      Return a list of the words in the string, using sep as the delimiter string.\n",
            " |      \n",
            " |        sep\n",
            " |          The delimiter according which to split the string.\n",
            " |          None (the default value) means split according to any whitespace,\n",
            " |          and discard empty strings from the result.\n",
            " |        maxsplit\n",
            " |          Maximum number of splits to do.\n",
            " |          -1 (the default value) means no limit.\n",
            " |      \n",
            " |      Splits are done starting at the end of the string and working to the front.\n",
            " |  \n",
            " |  rstrip(self, chars=None, /)\n",
            " |      Return a copy of the string with trailing whitespace removed.\n",
            " |      \n",
            " |      If chars is given and not None, remove characters in chars instead.\n",
            " |  \n",
            " |  split(self, /, sep=None, maxsplit=-1)\n",
            " |      Return a list of the words in the string, using sep as the delimiter string.\n",
            " |      \n",
            " |      sep\n",
            " |        The delimiter according which to split the string.\n",
            " |        None (the default value) means split according to any whitespace,\n",
            " |        and discard empty strings from the result.\n",
            " |      maxsplit\n",
            " |        Maximum number of splits to do.\n",
            " |        -1 (the default value) means no limit.\n",
            " |  \n",
            " |  splitlines(self, /, keepends=False)\n",
            " |      Return a list of the lines in the string, breaking at line boundaries.\n",
            " |      \n",
            " |      Line breaks are not included in the resulting list unless keepends is given and\n",
            " |      true.\n",
            " |  \n",
            " |  startswith(...)\n",
            " |      S.startswith(prefix[, start[, end]]) -> bool\n",
            " |      \n",
            " |      Return True if S starts with the specified prefix, False otherwise.\n",
            " |      With optional start, test S beginning at that position.\n",
            " |      With optional end, stop comparing S at that position.\n",
            " |      prefix can also be a tuple of strings to try.\n",
            " |  \n",
            " |  strip(self, chars=None, /)\n",
            " |      Return a copy of the string with leading and trailing whitespace remove.\n",
            " |      \n",
            " |      If chars is given and not None, remove characters in chars instead.\n",
            " |  \n",
            " |  swapcase(self, /)\n",
            " |      Convert uppercase characters to lowercase and lowercase characters to uppercase.\n",
            " |  \n",
            " |  title(self, /)\n",
            " |      Return a version of the string where each word is titlecased.\n",
            " |      \n",
            " |      More specifically, words start with uppercased characters and all remaining\n",
            " |      cased characters have lower case.\n",
            " |  \n",
            " |  translate(self, table, /)\n",
            " |      Replace each character in the string using the given translation table.\n",
            " |      \n",
            " |        table\n",
            " |          Translation table, which must be a mapping of Unicode ordinals to\n",
            " |          Unicode ordinals, strings, or None.\n",
            " |      \n",
            " |      The table must implement lookup/indexing via __getitem__, for instance a\n",
            " |      dictionary or list.  If this operation raises LookupError, the character is\n",
            " |      left untouched.  Characters mapped to None are deleted.\n",
            " |  \n",
            " |  upper(self, /)\n",
            " |      Return a copy of the string converted to uppercase.\n",
            " |  \n",
            " |  zfill(self, width, /)\n",
            " |      Pad a numeric string with zeros on the left, to fill a field of the given width.\n",
            " |      \n",
            " |      The string is never truncated.\n",
            " |  \n",
            " |  ----------------------------------------------------------------------\n",
            " |  Static methods defined here:\n",
            " |  \n",
            " |  __new__(*args, **kwargs) from builtins.type\n",
            " |      Create and return a new object.  See help(type) for accurate signature.\n",
            " |  \n",
            " |  maketrans(x, y=None, z=None, /)\n",
            " |      Return a translation table usable for str.translate().\n",
            " |      \n",
            " |      If there is only one argument, it must be a dictionary mapping Unicode\n",
            " |      ordinals (integers) or characters to Unicode ordinals, strings or None.\n",
            " |      Character keys will be then converted to ordinals.\n",
            " |      If there are two arguments, they must be strings of equal length, and\n",
            " |      in the resulting dictionary, each character in x will be mapped to the\n",
            " |      character at the same position in y. If there is a third argument, it\n",
            " |      must be a string, whose characters will be mapped to None in the result.\n",
            "\n"
          ],
          "name": "stdout"
        }
      ]
    },
    {
      "cell_type": "markdown",
      "metadata": {
        "id": "ObKXHtxM6-5W",
        "colab_type": "text"
      },
      "source": [
        "### 3.7 Tuple part 1 \n",
        "\n",
        "- A tuple is an iterable defined using parenthesis ().  \n",
        "- The indexing in tuple is same as list (starts from 0).\n",
        "- A list is **mutable** (changes are possible such as add or remove elements). \n",
        "- A tuple is **immutable** (changes are not possible). \n",
        "- We can use the tuple in the form of **key,value** whereas we cannot use the list in the form of key,value"
      ]
    },
    {
      "cell_type": "code",
      "metadata": {
        "id": "pXLYV8AJ6-5W",
        "colab_type": "code",
        "colab": {},
        "outputId": "75a54cb2-ad07-4b54-9456-f974d7fb5abd"
      },
      "source": [
        "# Empty tuple \n",
        "t= ()\n",
        "print(type(t))"
      ],
      "execution_count": null,
      "outputs": [
        {
          "output_type": "stream",
          "text": [
            "<class 'tuple'>\n"
          ],
          "name": "stdout"
        }
      ]
    },
    {
      "cell_type": "code",
      "metadata": {
        "id": "qcNh1Ztl6-5Y",
        "colab_type": "code",
        "colab": {},
        "outputId": "4f1a2bd0-2822-4870-f3ba-eebceec290e0"
      },
      "source": [
        "# This is an int type not a tuple with single element \n",
        "t= (10)\n",
        "print(t)\n",
        "print(type(t))"
      ],
      "execution_count": null,
      "outputs": [
        {
          "output_type": "stream",
          "text": [
            "10\n",
            "<class 'int'>\n"
          ],
          "name": "stdout"
        }
      ]
    },
    {
      "cell_type": "code",
      "metadata": {
        "id": "t_AZOetv6-5a",
        "colab_type": "code",
        "colab": {},
        "outputId": "044ff44f-7a23-4e24-9848-b464e40e19b5"
      },
      "source": [
        "# How to store a single element in a tuple \n",
        "t= (10,)\n",
        "print(t)\n",
        "print(type(t))"
      ],
      "execution_count": null,
      "outputs": [
        {
          "output_type": "stream",
          "text": [
            "(10,)\n",
            "<class 'tuple'>\n"
          ],
          "name": "stdout"
        }
      ]
    },
    {
      "cell_type": "code",
      "metadata": {
        "id": "cI0W2jPQ6-5c",
        "colab_type": "code",
        "colab": {},
        "outputId": "b1558281-a9f1-4c55-fd69-0addb8a3d073"
      },
      "source": [
        "# Alternate way to create tuple ----> No need to include parenthesis \n",
        "t= 10, 20, 30\n",
        "print(type(t))"
      ],
      "execution_count": null,
      "outputs": [
        {
          "output_type": "stream",
          "text": [
            "<class 'tuple'>\n"
          ],
          "name": "stdout"
        }
      ]
    },
    {
      "cell_type": "code",
      "metadata": {
        "id": "wo44bRDE6-5e",
        "colab_type": "code",
        "colab": {},
        "outputId": "daa1e8cd-2315-43cf-de27-19398aca4875"
      },
      "source": [
        "# Creating a tuple from a list \n",
        "l= [10, 20, 30]\n",
        "t= tuple(l)\n",
        "print(t)\n",
        "print(type(t))"
      ],
      "execution_count": null,
      "outputs": [
        {
          "output_type": "stream",
          "text": [
            "(10, 20, 30)\n",
            "<class 'tuple'>\n"
          ],
          "name": "stdout"
        }
      ]
    },
    {
      "cell_type": "code",
      "metadata": {
        "id": "LOwtojfM6-5h",
        "colab_type": "code",
        "colab": {},
        "outputId": "eef4ced1-4870-4a53-8b89-ba9defc5c988"
      },
      "source": [
        "# tuple() takes in always a sequence so below will give an error \n",
        "t= tuple(10, 20, 30)"
      ],
      "execution_count": null,
      "outputs": [
        {
          "output_type": "error",
          "ename": "TypeError",
          "evalue": "tuple expected at most 1 arguments, got 3",
          "traceback": [
            "\u001b[1;31m---------------------------------------------------------------------------\u001b[0m",
            "\u001b[1;31mTypeError\u001b[0m                                 Traceback (most recent call last)",
            "\u001b[1;32m<ipython-input-7-34d108b346f5>\u001b[0m in \u001b[0;36m<module>\u001b[1;34m\u001b[0m\n\u001b[0;32m      1\u001b[0m \u001b[1;31m# tuple() takes in always a sequence so below will give an error\u001b[0m\u001b[1;33m\u001b[0m\u001b[1;33m\u001b[0m\u001b[1;33m\u001b[0m\u001b[0m\n\u001b[1;32m----> 2\u001b[1;33m \u001b[0mt\u001b[0m\u001b[1;33m=\u001b[0m \u001b[0mtuple\u001b[0m\u001b[1;33m(\u001b[0m\u001b[1;36m10\u001b[0m\u001b[1;33m,\u001b[0m \u001b[1;36m20\u001b[0m\u001b[1;33m,\u001b[0m \u001b[1;36m30\u001b[0m\u001b[1;33m)\u001b[0m\u001b[1;33m\u001b[0m\u001b[1;33m\u001b[0m\u001b[0m\n\u001b[0m",
            "\u001b[1;31mTypeError\u001b[0m: tuple expected at most 1 arguments, got 3"
          ]
        }
      ]
    },
    {
      "cell_type": "code",
      "metadata": {
        "id": "Z-6sq4pM6-5j",
        "colab_type": "code",
        "colab": {},
        "outputId": "b67e33b7-80bc-4f8d-d42d-2893bbd3cabc"
      },
      "source": [
        "# So now what is the valid syntax \n",
        "t= tuple((10, 20, 30))\n",
        "print(t)\n",
        "print(type(t))"
      ],
      "execution_count": null,
      "outputs": [
        {
          "output_type": "stream",
          "text": [
            "(10, 20, 30)\n",
            "<class 'tuple'>\n"
          ],
          "name": "stdout"
        }
      ]
    },
    {
      "cell_type": "code",
      "metadata": {
        "id": "jDtYt20V6-5m",
        "colab_type": "code",
        "colab": {},
        "outputId": "67da2c87-455e-4413-856b-181505204f86"
      },
      "source": [
        "# A tuple can store hetrogenous data same as list \n",
        "t= (10, 3.4, 'sid')\n",
        "print(t)\n",
        "print(type(t))\n",
        "\n",
        "# Indexing on tuple same as list \n",
        "print(t[0])\n",
        "print(t[1])"
      ],
      "execution_count": null,
      "outputs": [
        {
          "output_type": "stream",
          "text": [
            "(10, 3.4, 'sid')\n",
            "<class 'tuple'>\n",
            "10\n",
            "3.4\n"
          ],
          "name": "stdout"
        }
      ]
    },
    {
      "cell_type": "code",
      "metadata": {
        "id": "n7znH74X6-5o",
        "colab_type": "code",
        "colab": {},
        "outputId": "fed7969e-9851-43b8-cb06-bc50af858b79"
      },
      "source": [
        "print(t[3])"
      ],
      "execution_count": null,
      "outputs": [
        {
          "output_type": "error",
          "ename": "IndexError",
          "evalue": "tuple index out of range",
          "traceback": [
            "\u001b[1;31m---------------------------------------------------------------------------\u001b[0m",
            "\u001b[1;31mIndexError\u001b[0m                                Traceback (most recent call last)",
            "\u001b[1;32m<ipython-input-12-98ff4fa56003>\u001b[0m in \u001b[0;36m<module>\u001b[1;34m\u001b[0m\n\u001b[1;32m----> 1\u001b[1;33m \u001b[0mprint\u001b[0m\u001b[1;33m(\u001b[0m\u001b[0mt\u001b[0m\u001b[1;33m[\u001b[0m\u001b[1;36m3\u001b[0m\u001b[1;33m]\u001b[0m\u001b[1;33m)\u001b[0m\u001b[1;33m\u001b[0m\u001b[1;33m\u001b[0m\u001b[0m\n\u001b[0m",
            "\u001b[1;31mIndexError\u001b[0m: tuple index out of range"
          ]
        }
      ]
    },
    {
      "cell_type": "markdown",
      "metadata": {
        "id": "4RQ4Ch8A6-5q",
        "colab_type": "text"
      },
      "source": [
        "#### Accessing tuple elements \n",
        "\n",
        "1. While and For loop \n",
        "2. Slicing Operator "
      ]
    },
    {
      "cell_type": "code",
      "metadata": {
        "id": "NqARPKt66-5q",
        "colab_type": "code",
        "colab": {},
        "outputId": "c57ae8fc-2bdc-4aad-d6bd-e1d489069e0c"
      },
      "source": [
        "t= (10, 20, 30, 40)\n",
        "i= 0 \n",
        "while i<len(t):\n",
        "    print(t[i])\n",
        "    i+=1"
      ],
      "execution_count": null,
      "outputs": [
        {
          "output_type": "stream",
          "text": [
            "10\n",
            "20\n",
            "30\n",
            "40\n"
          ],
          "name": "stdout"
        }
      ]
    },
    {
      "cell_type": "code",
      "metadata": {
        "id": "tS1e8GZs6-5s",
        "colab_type": "code",
        "colab": {},
        "outputId": "53f474c3-ec34-4edf-dad5-f393086769a9"
      },
      "source": [
        "for ele in t:\n",
        "    print(ele)"
      ],
      "execution_count": null,
      "outputs": [
        {
          "output_type": "stream",
          "text": [
            "10\n",
            "20\n",
            "30\n",
            "40\n"
          ],
          "name": "stdout"
        }
      ]
    },
    {
      "cell_type": "code",
      "metadata": {
        "id": "6BT-qyq36-5u",
        "colab_type": "code",
        "colab": {},
        "outputId": "c7109b9e-22e1-4666-8cc0-d3a5fb4e89eb"
      },
      "source": [
        "# Print the squares of each element in tuple t \n",
        "for ele in t:\n",
        "    print(ele*ele)"
      ],
      "execution_count": null,
      "outputs": [
        {
          "output_type": "stream",
          "text": [
            "100\n",
            "400\n",
            "900\n",
            "1600\n"
          ],
          "name": "stdout"
        }
      ]
    },
    {
      "cell_type": "code",
      "metadata": {
        "id": "I5K5hsVp6-5w",
        "colab_type": "code",
        "colab": {},
        "outputId": "6fb47f5d-f063-499c-87b8-36cb3776f1e4"
      },
      "source": [
        "# Slicing operator \n",
        "# All the 3 values are optional \n",
        "# Start is inclusive, end is exclusive, step is by default +1 \n",
        "print(t[0::])"
      ],
      "execution_count": null,
      "outputs": [
        {
          "output_type": "stream",
          "text": [
            "(10, 20, 30, 40)\n"
          ],
          "name": "stdout"
        }
      ]
    },
    {
      "cell_type": "code",
      "metadata": {
        "id": "H4mlZyom6-5x",
        "colab_type": "code",
        "colab": {},
        "outputId": "c07ce65d-fcb9-4354-cf90-f9f2b997daa1"
      },
      "source": [
        "t= t+ (1, 2, 3, 4)\n",
        "print(t)"
      ],
      "execution_count": null,
      "outputs": [
        {
          "output_type": "stream",
          "text": [
            "(10, 20, 30, 40, 1, 2, 3, 4)\n"
          ],
          "name": "stdout"
        }
      ]
    },
    {
      "cell_type": "code",
      "metadata": {
        "id": "1XDMsOYD6-5z",
        "colab_type": "code",
        "colab": {},
        "outputId": "1c5af146-a941-4487-89b9-98c88b735beb"
      },
      "source": [
        "print(t[::])"
      ],
      "execution_count": null,
      "outputs": [
        {
          "output_type": "stream",
          "text": [
            "(10, 20, 30, 40, 1, 2, 3, 4)\n"
          ],
          "name": "stdout"
        }
      ]
    },
    {
      "cell_type": "code",
      "metadata": {
        "id": "aYaHga7C6-52",
        "colab_type": "code",
        "colab": {},
        "outputId": "a58d9c6f-9bcf-47fb-e78a-de26f64898ae"
      },
      "source": [
        "print(t[0::2])"
      ],
      "execution_count": null,
      "outputs": [
        {
          "output_type": "stream",
          "text": [
            "(10, 30, 1, 3)\n"
          ],
          "name": "stdout"
        }
      ]
    },
    {
      "cell_type": "markdown",
      "metadata": {
        "id": "PmCXM4nD6-53",
        "colab_type": "text"
      },
      "source": [
        "### 3.8 Tuple part-2"
      ]
    },
    {
      "cell_type": "code",
      "metadata": {
        "id": "WIYUAhme6-54",
        "colab_type": "code",
        "colab": {},
        "outputId": "885a988a-00c1-46e0-f425-e39c9313cc06"
      },
      "source": [
        "# Packing of variables into tuple \n",
        "a= 1\n",
        "b= 2\n",
        "c= 3\n",
        "t= (a, b, c)\n",
        "print(t)\n",
        "print(type(t))"
      ],
      "execution_count": null,
      "outputs": [
        {
          "output_type": "stream",
          "text": [
            "(1, 2, 3)\n",
            "<class 'tuple'>\n"
          ],
          "name": "stdout"
        }
      ]
    },
    {
      "cell_type": "code",
      "metadata": {
        "id": "Hi1dhL5d6-57",
        "colab_type": "code",
        "colab": {},
        "outputId": "9a2c6c4e-fd33-4184-e85a-6c7266e9e8e7"
      },
      "source": [
        "# Unpacking of a tuple into respective variables \n",
        "tup= (10, 20, 30)\n",
        "x, y, z= tup\n",
        "print(x)\n",
        "print(y)\n",
        "print(z)"
      ],
      "execution_count": null,
      "outputs": [
        {
          "output_type": "stream",
          "text": [
            "10\n",
            "20\n",
            "30\n"
          ],
          "name": "stdout"
        }
      ]
    },
    {
      "cell_type": "code",
      "metadata": {
        "id": "5FfsR8Fn6-58",
        "colab_type": "code",
        "colab": {},
        "outputId": "8c7844e1-b76c-4c01-b0b3-d0db4f229b24"
      },
      "source": [
        "# Concatenation operator \n",
        "t1= (1, 2, 3)\n",
        "t2= (10, 20)\n",
        "new_t3= t1+t2\n",
        "print(new_t3)\n",
        "print(type(new_t3))"
      ],
      "execution_count": null,
      "outputs": [
        {
          "output_type": "stream",
          "text": [
            "(1, 2, 3, 10, 20)\n",
            "<class 'tuple'>\n"
          ],
          "name": "stdout"
        }
      ]
    },
    {
      "cell_type": "code",
      "metadata": {
        "id": "W-qnOaCj6-59",
        "colab_type": "code",
        "colab": {},
        "outputId": "7cd1466d-127f-45bd-f14b-c0df68302d57"
      },
      "source": [
        "# Repeatation operator \n",
        "t= (1, 2, 3)\n",
        "# Repeates the values in tuple 2 times \n",
        "rep_t= t*2\n",
        "print(rep_t)\n",
        "print(type(rep_t))"
      ],
      "execution_count": null,
      "outputs": [
        {
          "output_type": "stream",
          "text": [
            "(1, 2, 3, 1, 2, 3)\n",
            "<class 'tuple'>\n"
          ],
          "name": "stdout"
        }
      ]
    },
    {
      "cell_type": "code",
      "metadata": {
        "id": "2rRs2tG06-5_",
        "colab_type": "code",
        "colab": {},
        "outputId": "aec850b3-49d1-43e4-c228-a974833b78a2"
      },
      "source": [
        "# If we want changes in t \n",
        "print(t)\n",
        "t*=2\n",
        "print(t)"
      ],
      "execution_count": null,
      "outputs": [
        {
          "output_type": "stream",
          "text": [
            "(1, 2, 3)\n",
            "(1, 2, 3, 1, 2, 3)\n"
          ],
          "name": "stdout"
        }
      ]
    },
    {
      "cell_type": "code",
      "metadata": {
        "id": "3s00XxrC6-6B",
        "colab_type": "code",
        "colab": {},
        "outputId": "9906fe1b-ef7e-4a25-b8a4-efd98ca1c890"
      },
      "source": [
        "# Comparision operator in tuple \n",
        "a= (1, 2, 3)\n",
        "b= (1, 2, 3)\n",
        "# Corrosponding elements of 2 tuples are checked whether they are same or not \n",
        "print(a==b)"
      ],
      "execution_count": null,
      "outputs": [
        {
          "output_type": "stream",
          "text": [
            "True\n"
          ],
          "name": "stdout"
        }
      ]
    },
    {
      "cell_type": "code",
      "metadata": {
        "id": "fTATZIzf6-6E",
        "colab_type": "code",
        "colab": {},
        "outputId": "2c519c89-00e1-4202-ba0f-6c06871c720c"
      },
      "source": [
        "c= (1, 2, 4)\n",
        "print(a==c)"
      ],
      "execution_count": null,
      "outputs": [
        {
          "output_type": "stream",
          "text": [
            "False\n"
          ],
          "name": "stdout"
        }
      ]
    },
    {
      "cell_type": "code",
      "metadata": {
        "id": "9Pex5vrA6-6G",
        "colab_type": "code",
        "colab": {},
        "outputId": "e2ca63fb-09b2-4b25-80cb-923206cebc63"
      },
      "source": [
        "print(a)\n",
        "print(c)\n",
        "print(a<c)"
      ],
      "execution_count": null,
      "outputs": [
        {
          "output_type": "stream",
          "text": [
            "(1, 2, 3)\n",
            "(1, 2, 4)\n",
            "True\n"
          ],
          "name": "stdout"
        }
      ]
    },
    {
      "cell_type": "markdown",
      "metadata": {
        "id": "dAYsg8EZ6-6H",
        "colab_type": "text"
      },
      "source": [
        "### 3.9 Tuple part-3 "
      ]
    },
    {
      "cell_type": "code",
      "metadata": {
        "id": "RbmqFC1a6-6H",
        "colab_type": "code",
        "colab": {},
        "outputId": "7e4a9ca2-22d0-4268-bb2b-14e773557131"
      },
      "source": [
        "# Input a tuple from user \n",
        "t= tuple(input(\"Enter a tuple \"))\n",
        "print(t)\n",
        "print(type(t))\n",
        "# 5 characters are stored in the tuple \n",
        "print(len(t))"
      ],
      "execution_count": null,
      "outputs": [
        {
          "output_type": "stream",
          "text": [
            "Enter a tuple 1,2,3\n",
            "('1', ',', '2', ',', '3')\n",
            "<class 'tuple'>\n",
            "5\n"
          ],
          "name": "stdout"
        }
      ]
    },
    {
      "cell_type": "code",
      "metadata": {
        "id": "20dAAmAo6-6I",
        "colab_type": "code",
        "colab": {},
        "outputId": "1f4bf59a-c5fa-44ab-bc90-04ee9fe97055"
      },
      "source": [
        "# So how to use the tuple() to take the input from user \n",
        "\n",
        "# Input a tuple from user \n",
        "t= tuple(input(\"Enter a tuple \"))\n",
        "print(t)\n",
        "print(type(t))\n",
        "# 5 characters are stored in the tuple \n",
        "print(len(t))"
      ],
      "execution_count": null,
      "outputs": [
        {
          "output_type": "stream",
          "text": [
            "Enter a tuple 123\n",
            "('1', '2', '3')\n",
            "<class 'tuple'>\n",
            "3\n"
          ],
          "name": "stdout"
        }
      ]
    },
    {
      "cell_type": "code",
      "metadata": {
        "id": "mdBlovey6-6L",
        "colab_type": "code",
        "colab": {},
        "outputId": "8abe7790-7193-4e14-e0ab-7b2a805b6761"
      },
      "source": [
        "# But here the individual elements of the tuple is string \n",
        "for ele in t:\n",
        "    print(type(ele))"
      ],
      "execution_count": null,
      "outputs": [
        {
          "output_type": "stream",
          "text": [
            "<class 'str'>\n",
            "<class 'str'>\n",
            "<class 'str'>\n"
          ],
          "name": "stdout"
        }
      ]
    },
    {
      "cell_type": "code",
      "metadata": {
        "id": "Fa4FEpvH6-6M",
        "colab_type": "code",
        "colab": {},
        "outputId": "535e29db-c692-469f-a0e5-e53a22970ccf"
      },
      "source": [
        "# Therefore we will use the eval() function \n",
        "# It evaluates a valid python expression \n",
        "add= eval(\"5+2\")\n",
        "print(type(add))\n",
        "t= eval(\"(1, 2, 3)\")\n",
        "print(type(t))\n",
        "l= eval(\"[10, 20, 30]\")\n",
        "print(type(l))"
      ],
      "execution_count": null,
      "outputs": [
        {
          "output_type": "stream",
          "text": [
            "<class 'int'>\n",
            "<class 'tuple'>\n",
            "<class 'list'>\n"
          ],
          "name": "stdout"
        }
      ]
    },
    {
      "cell_type": "code",
      "metadata": {
        "id": "zSWVtCOx6-6Q",
        "colab_type": "code",
        "colab": {},
        "outputId": "07d575c6-7d37-48fb-ed6f-7080455e3189"
      },
      "source": [
        "# Input a tuple from a user using the eval() function \n",
        "t= eval(input(\"Enter a tuple \"))\n",
        "print(t)\n",
        "print(type(t))\n",
        "print(\"Data type of each element in a tuple is\")\n",
        "for ele in t:\n",
        "    print(type(ele))"
      ],
      "execution_count": null,
      "outputs": [
        {
          "output_type": "stream",
          "text": [
            "Enter a tuple 1,2,3\n",
            "(1, 2, 3)\n",
            "<class 'tuple'>\n",
            "Data type of each element in a tuple is\n",
            "<class 'int'>\n",
            "<class 'int'>\n",
            "<class 'int'>\n"
          ],
          "name": "stdout"
        }
      ]
    },
    {
      "cell_type": "code",
      "metadata": {
        "id": "OOUbQaxl6-6R",
        "colab_type": "code",
        "colab": {},
        "outputId": "5d67a286-3f49-4012-a161-7b0712f3339c"
      },
      "source": [
        "# Input a list from the user using eval() function \n",
        "l= eval(input(\"Enter a list enclosed within square brackets \"))\n",
        "print(l)\n",
        "print(type(l))"
      ],
      "execution_count": null,
      "outputs": [
        {
          "output_type": "stream",
          "text": [
            "Enter a list enclosed within square brackets [10, 20, 30]\n",
            "[10, 20, 30]\n",
            "<class 'list'>\n"
          ],
          "name": "stdout"
        }
      ]
    },
    {
      "cell_type": "markdown",
      "metadata": {
        "id": "zi6P26566-6T",
        "colab_type": "text"
      },
      "source": [
        "#### Program to calculate the sum of elements of a tuple input by a user "
      ]
    },
    {
      "cell_type": "code",
      "metadata": {
        "id": "FUAQm7Yc6-6T",
        "colab_type": "code",
        "colab": {},
        "outputId": "bcfc67b7-2236-485d-fbe2-4624b32ef529"
      },
      "source": [
        "tup= eval(input(\"Enter a tuple seperated by a comma \"))\n",
        "print(tup)\n",
        "sum=0\n",
        "for ele in tup:\n",
        "    sum+=ele\n",
        "print(\"Sum of elements is\",sum)"
      ],
      "execution_count": null,
      "outputs": [
        {
          "output_type": "stream",
          "text": [
            "Enter a tuple seperated by a comma 1,2,2,3\n",
            "(1, 2, 2, 3)\n",
            "Sum of elements is 8\n"
          ],
          "name": "stdout"
        }
      ]
    },
    {
      "cell_type": "markdown",
      "metadata": {
        "id": "Z4I5O0_r6-6U",
        "colab_type": "text"
      },
      "source": [
        "#### Some function on tuple "
      ]
    },
    {
      "cell_type": "code",
      "metadata": {
        "id": "bR_kXJ4o6-6V",
        "colab_type": "code",
        "colab": {},
        "outputId": "67d5c0e9-39cc-4995-d4be-f48d6fc5b97b"
      },
      "source": [
        "t= (1, 2, 3, 4)\n",
        "# len(x) -----> x can be list, string, tuple \n",
        "print(len(t))"
      ],
      "execution_count": null,
      "outputs": [
        {
          "output_type": "stream",
          "text": [
            "4\n"
          ],
          "name": "stdout"
        }
      ]
    },
    {
      "cell_type": "code",
      "metadata": {
        "id": "Vm5qGmLG6-6W",
        "colab_type": "code",
        "colab": {},
        "outputId": "79ff4313-b728-4d83-a4fa-a44ce83fc498"
      },
      "source": [
        "new_t= (10, 10, 1, 2, 3)\n",
        "print(new_t)\n",
        "# Counts the frequency of the given element in the tuple \n",
        "print(new_t.count(10))"
      ],
      "execution_count": null,
      "outputs": [
        {
          "output_type": "stream",
          "text": [
            "(10, 10, 1, 2, 3)\n",
            "2\n"
          ],
          "name": "stdout"
        }
      ]
    },
    {
      "cell_type": "code",
      "metadata": {
        "id": "4NU6o1Rw6-6Y",
        "colab_type": "code",
        "colab": {},
        "outputId": "047b2f48-157c-4c4d-e055-d6ecc034aa8f"
      },
      "source": [
        "# Gives the index of mentioned element in the tuple \n",
        "# Index of the element 1 in tuple new_t is 2 \n",
        "print(new_t)\n",
        "print(new_t.index(1))"
      ],
      "execution_count": null,
      "outputs": [
        {
          "output_type": "stream",
          "text": [
            "(10, 10, 1, 2, 3)\n",
            "2\n"
          ],
          "name": "stdout"
        }
      ]
    },
    {
      "cell_type": "code",
      "metadata": {
        "id": "rE1u4AYt6-6Z",
        "colab_type": "code",
        "colab": {},
        "outputId": "80be015e-758c-4482-b4f3-2bb8bd2c61e1"
      },
      "source": [
        "# If we pass the value that does not exists in the tuple to the index function then it gives the error \n",
        "print(new_t)\n",
        "# Element 40 does not exists in the tuple new_t \n",
        "print(new_t.index(40))"
      ],
      "execution_count": null,
      "outputs": [
        {
          "output_type": "stream",
          "text": [
            "(10, 10, 1, 2, 3)\n"
          ],
          "name": "stdout"
        },
        {
          "output_type": "error",
          "ename": "ValueError",
          "evalue": "tuple.index(x): x not in tuple",
          "traceback": [
            "\u001b[1;31m---------------------------------------------------------------------------\u001b[0m",
            "\u001b[1;31mValueError\u001b[0m                                Traceback (most recent call last)",
            "\u001b[1;32m<ipython-input-66-178d69f68176>\u001b[0m in \u001b[0;36m<module>\u001b[1;34m\u001b[0m\n\u001b[0;32m      2\u001b[0m \u001b[0mprint\u001b[0m\u001b[1;33m(\u001b[0m\u001b[0mnew_t\u001b[0m\u001b[1;33m)\u001b[0m\u001b[1;33m\u001b[0m\u001b[1;33m\u001b[0m\u001b[0m\n\u001b[0;32m      3\u001b[0m \u001b[1;31m# Element 40 does not exists in the tuple new_t\u001b[0m\u001b[1;33m\u001b[0m\u001b[1;33m\u001b[0m\u001b[1;33m\u001b[0m\u001b[0m\n\u001b[1;32m----> 4\u001b[1;33m \u001b[0mprint\u001b[0m\u001b[1;33m(\u001b[0m\u001b[0mnew_t\u001b[0m\u001b[1;33m.\u001b[0m\u001b[0mindex\u001b[0m\u001b[1;33m(\u001b[0m\u001b[1;36m40\u001b[0m\u001b[1;33m)\u001b[0m\u001b[1;33m)\u001b[0m\u001b[1;33m\u001b[0m\u001b[1;33m\u001b[0m\u001b[0m\n\u001b[0m",
            "\u001b[1;31mValueError\u001b[0m: tuple.index(x): x not in tuple"
          ]
        }
      ]
    },
    {
      "cell_type": "code",
      "metadata": {
        "id": "3nmYzlJd6-6a",
        "colab_type": "code",
        "colab": {},
        "outputId": "918b4a26-8664-42aa-f9bc-9f5facfd8951"
      },
      "source": [
        "# Then how to write the code \n",
        "if 40 in new_t:\n",
        "    print(new_t.index(40))\n",
        "else:\n",
        "    print(\"Element 40 is not in the tuple\")"
      ],
      "execution_count": null,
      "outputs": [
        {
          "output_type": "stream",
          "text": [
            "Element 40 is not in the tuple\n"
          ],
          "name": "stdout"
        }
      ]
    },
    {
      "cell_type": "code",
      "metadata": {
        "id": "-SVFStMS6-6b",
        "colab_type": "code",
        "colab": {},
        "outputId": "0a808551-8d64-4d6f-ce17-37cf6ae86c9f"
      },
      "source": [
        "# Find the maximum and minimum value in a tuple \n",
        "t= (1, 30, 40, 2)\n",
        "print(t)\n",
        "print(type(t))\n",
        "print(max(t))\n",
        "print(min(t))"
      ],
      "execution_count": null,
      "outputs": [
        {
          "output_type": "stream",
          "text": [
            "(1, 30, 40, 2)\n",
            "<class 'tuple'>\n",
            "40\n",
            "1\n"
          ],
          "name": "stdout"
        }
      ]
    },
    {
      "cell_type": "code",
      "metadata": {
        "id": "DGooHaXX6-6c",
        "colab_type": "code",
        "colab": {},
        "outputId": "61ec36ab-543c-4045-aa3d-dd5c16441f2b"
      },
      "source": [
        "help(t)"
      ],
      "execution_count": null,
      "outputs": [
        {
          "output_type": "stream",
          "text": [
            "Help on tuple object:\n",
            "\n",
            "class tuple(object)\n",
            " |  tuple(iterable=(), /)\n",
            " |  \n",
            " |  Built-in immutable sequence.\n",
            " |  \n",
            " |  If no argument is given, the constructor returns an empty tuple.\n",
            " |  If iterable is specified the tuple is initialized from iterable's items.\n",
            " |  \n",
            " |  If the argument is a tuple, the return value is the same object.\n",
            " |  \n",
            " |  Methods defined here:\n",
            " |  \n",
            " |  __add__(self, value, /)\n",
            " |      Return self+value.\n",
            " |  \n",
            " |  __contains__(self, key, /)\n",
            " |      Return key in self.\n",
            " |  \n",
            " |  __eq__(self, value, /)\n",
            " |      Return self==value.\n",
            " |  \n",
            " |  __ge__(self, value, /)\n",
            " |      Return self>=value.\n",
            " |  \n",
            " |  __getattribute__(self, name, /)\n",
            " |      Return getattr(self, name).\n",
            " |  \n",
            " |  __getitem__(self, key, /)\n",
            " |      Return self[key].\n",
            " |  \n",
            " |  __getnewargs__(self, /)\n",
            " |  \n",
            " |  __gt__(self, value, /)\n",
            " |      Return self>value.\n",
            " |  \n",
            " |  __hash__(self, /)\n",
            " |      Return hash(self).\n",
            " |  \n",
            " |  __iter__(self, /)\n",
            " |      Implement iter(self).\n",
            " |  \n",
            " |  __le__(self, value, /)\n",
            " |      Return self<=value.\n",
            " |  \n",
            " |  __len__(self, /)\n",
            " |      Return len(self).\n",
            " |  \n",
            " |  __lt__(self, value, /)\n",
            " |      Return self<value.\n",
            " |  \n",
            " |  __mul__(self, value, /)\n",
            " |      Return self*value.\n",
            " |  \n",
            " |  __ne__(self, value, /)\n",
            " |      Return self!=value.\n",
            " |  \n",
            " |  __repr__(self, /)\n",
            " |      Return repr(self).\n",
            " |  \n",
            " |  __rmul__(self, value, /)\n",
            " |      Return value*self.\n",
            " |  \n",
            " |  count(self, value, /)\n",
            " |      Return number of occurrences of value.\n",
            " |  \n",
            " |  index(self, value, start=0, stop=9223372036854775807, /)\n",
            " |      Return first index of value.\n",
            " |      \n",
            " |      Raises ValueError if the value is not present.\n",
            " |  \n",
            " |  ----------------------------------------------------------------------\n",
            " |  Static methods defined here:\n",
            " |  \n",
            " |  __new__(*args, **kwargs) from builtins.type\n",
            " |      Create and return a new object.  See help(type) for accurate signature.\n",
            "\n"
          ],
          "name": "stdout"
        }
      ]
    },
    {
      "cell_type": "markdown",
      "metadata": {
        "id": "cjHlaBI96-6e",
        "colab_type": "text"
      },
      "source": [
        "### 3.10 Set Part 1 \n",
        "\n",
        "- No duplicate values, but if we include the duplicate values then it will be ignored. \n",
        "- No indexing in the set ie we have no subscript operator \n",
        "- No slicing operator as well \n",
        "- Set is mutable "
      ]
    },
    {
      "cell_type": "code",
      "metadata": {
        "id": "ASS11XDf6-6e",
        "colab_type": "code",
        "colab": {},
        "outputId": "32f1f92f-8449-4cf1-ca23-942a58d24929"
      },
      "source": [
        "# Duplicate values in the set are ignored \n",
        "s= {10, 20, 30, 20}\n",
        "print(s)"
      ],
      "execution_count": null,
      "outputs": [
        {
          "output_type": "stream",
          "text": [
            "{10, 20, 30}\n"
          ],
          "name": "stdout"
        }
      ]
    },
    {
      "cell_type": "code",
      "metadata": {
        "id": "Qk5wiAkY6-6f",
        "colab_type": "code",
        "colab": {},
        "outputId": "5ca54d0f-5ce0-4bf7-a337-0408de4c4115"
      },
      "source": [
        "# Set do not support indexing \n",
        "print(s[0])"
      ],
      "execution_count": null,
      "outputs": [
        {
          "output_type": "error",
          "ename": "TypeError",
          "evalue": "'set' object is not subscriptable",
          "traceback": [
            "\u001b[1;31m---------------------------------------------------------------------------\u001b[0m",
            "\u001b[1;31mTypeError\u001b[0m                                 Traceback (most recent call last)",
            "\u001b[1;32m<ipython-input-3-777746781291>\u001b[0m in \u001b[0;36m<module>\u001b[1;34m\u001b[0m\n\u001b[0;32m      1\u001b[0m \u001b[1;31m# Set do not support indexing\u001b[0m\u001b[1;33m\u001b[0m\u001b[1;33m\u001b[0m\u001b[1;33m\u001b[0m\u001b[0m\n\u001b[1;32m----> 2\u001b[1;33m \u001b[0mprint\u001b[0m\u001b[1;33m(\u001b[0m\u001b[0ms\u001b[0m\u001b[1;33m[\u001b[0m\u001b[1;36m0\u001b[0m\u001b[1;33m]\u001b[0m\u001b[1;33m)\u001b[0m\u001b[1;33m\u001b[0m\u001b[1;33m\u001b[0m\u001b[0m\n\u001b[0m",
            "\u001b[1;31mTypeError\u001b[0m: 'set' object is not subscriptable"
          ]
        }
      ]
    },
    {
      "cell_type": "code",
      "metadata": {
        "id": "GIVUC5AZ6-6g",
        "colab_type": "code",
        "colab": {},
        "outputId": "3f96e204-084c-467b-e9b2-a1e847f58448"
      },
      "source": [
        "# Set do not support slicing operator \n",
        "print(s[1:3])"
      ],
      "execution_count": null,
      "outputs": [
        {
          "output_type": "error",
          "ename": "TypeError",
          "evalue": "'set' object is not subscriptable",
          "traceback": [
            "\u001b[1;31m---------------------------------------------------------------------------\u001b[0m",
            "\u001b[1;31mTypeError\u001b[0m                                 Traceback (most recent call last)",
            "\u001b[1;32m<ipython-input-4-adc30dba0328>\u001b[0m in \u001b[0;36m<module>\u001b[1;34m\u001b[0m\n\u001b[0;32m      1\u001b[0m \u001b[1;31m# Set do not support slicing operator\u001b[0m\u001b[1;33m\u001b[0m\u001b[1;33m\u001b[0m\u001b[1;33m\u001b[0m\u001b[0m\n\u001b[1;32m----> 2\u001b[1;33m \u001b[0mprint\u001b[0m\u001b[1;33m(\u001b[0m\u001b[0ms\u001b[0m\u001b[1;33m[\u001b[0m\u001b[1;36m1\u001b[0m\u001b[1;33m:\u001b[0m\u001b[1;36m3\u001b[0m\u001b[1;33m]\u001b[0m\u001b[1;33m)\u001b[0m\u001b[1;33m\u001b[0m\u001b[1;33m\u001b[0m\u001b[0m\n\u001b[0m",
            "\u001b[1;31mTypeError\u001b[0m: 'set' object is not subscriptable"
          ]
        }
      ]
    },
    {
      "cell_type": "code",
      "metadata": {
        "id": "MpGeo6jP6-6j",
        "colab_type": "code",
        "colab": {},
        "outputId": "3ae5539a-e4fa-4d44-db0b-13a816ce9b11"
      },
      "source": [
        "# Create the empty set / empty curly braces is of dict type \n",
        "s1= set()\n",
        "print(type(s1))"
      ],
      "execution_count": null,
      "outputs": [
        {
          "output_type": "stream",
          "text": [
            "<class 'set'>\n"
          ],
          "name": "stdout"
        }
      ]
    },
    {
      "cell_type": "code",
      "metadata": {
        "id": "HjokfvG66-6k",
        "colab_type": "code",
        "colab": {},
        "outputId": "ac3280af-582e-4c5a-b2dd-9132da4d3c0a"
      },
      "source": [
        "# Below code gives error \n",
        "s= set(10, 20, 30)\n",
        "print(s)"
      ],
      "execution_count": null,
      "outputs": [
        {
          "output_type": "error",
          "ename": "TypeError",
          "evalue": "set expected at most 1 arguments, got 3",
          "traceback": [
            "\u001b[1;31m---------------------------------------------------------------------------\u001b[0m",
            "\u001b[1;31mTypeError\u001b[0m                                 Traceback (most recent call last)",
            "\u001b[1;32m<ipython-input-7-635ede3f8b64>\u001b[0m in \u001b[0;36m<module>\u001b[1;34m\u001b[0m\n\u001b[0;32m      1\u001b[0m \u001b[1;31m# Below code gives error\u001b[0m\u001b[1;33m\u001b[0m\u001b[1;33m\u001b[0m\u001b[1;33m\u001b[0m\u001b[0m\n\u001b[1;32m----> 2\u001b[1;33m \u001b[0ms\u001b[0m\u001b[1;33m=\u001b[0m \u001b[0mset\u001b[0m\u001b[1;33m(\u001b[0m\u001b[1;36m10\u001b[0m\u001b[1;33m,\u001b[0m \u001b[1;36m20\u001b[0m\u001b[1;33m,\u001b[0m \u001b[1;36m30\u001b[0m\u001b[1;33m)\u001b[0m\u001b[1;33m\u001b[0m\u001b[1;33m\u001b[0m\u001b[0m\n\u001b[0m\u001b[0;32m      3\u001b[0m \u001b[0mprint\u001b[0m\u001b[1;33m(\u001b[0m\u001b[0ms\u001b[0m\u001b[1;33m)\u001b[0m\u001b[1;33m\u001b[0m\u001b[1;33m\u001b[0m\u001b[0m\n",
            "\u001b[1;31mTypeError\u001b[0m: set expected at most 1 arguments, got 3"
          ]
        }
      ]
    },
    {
      "cell_type": "code",
      "metadata": {
        "id": "L41G-D-i6-6n",
        "colab_type": "code",
        "colab": {},
        "outputId": "4bf3caa5-2074-4457-c65b-a13c4f1feba1"
      },
      "source": [
        "# set() function can only take sequence as the argument but ignore the repeated values in the iterable \n",
        "list= [1, 2, 3, 1, 3, 2]\n",
        "set_from_list= set(list)\n",
        "print(set_from_list, type(set_from_list))"
      ],
      "execution_count": null,
      "outputs": [
        {
          "output_type": "stream",
          "text": [
            "{1, 2, 3} <class 'set'>\n"
          ],
          "name": "stdout"
        }
      ]
    },
    {
      "cell_type": "code",
      "metadata": {
        "id": "d6eIowTW6-6o",
        "colab_type": "code",
        "colab": {},
        "outputId": "bba6896f-c7d2-420b-e8b9-601ccc5ce940"
      },
      "source": [
        "# String is a valid sequence so we can pass it in set() function \n",
        "# The characters or element of the set function argument is not stored in the same order \n",
        "string= 'sidharth'\n",
        "set_from_string= set(string)\n",
        "print(set_from_string, type(set_from_string))"
      ],
      "execution_count": null,
      "outputs": [
        {
          "output_type": "stream",
          "text": [
            "{'r', 'h', 'i', 'd', 'a', 's', 't'} <class 'set'>\n"
          ],
          "name": "stdout"
        }
      ]
    },
    {
      "cell_type": "markdown",
      "metadata": {
        "id": "Tg1VmTA36-6q",
        "colab_type": "text"
      },
      "source": [
        "### 3.11 Set Part 2"
      ]
    },
    {
      "cell_type": "code",
      "metadata": {
        "id": "SHLgy8Nt6-6q",
        "colab_type": "code",
        "colab": {},
        "outputId": "b1c11685-bc8f-4171-d651-27a446fecaa7"
      },
      "source": [
        "# Set function can take tuple \n",
        "tup= (10, 20, 30)\n",
        "set_from_tuple= set(tup)\n",
        "print(set_from_tuple, type(set_from_tuple))"
      ],
      "execution_count": null,
      "outputs": [
        {
          "output_type": "stream",
          "text": [
            "{10, 20, 30} <class 'set'>\n"
          ],
          "name": "stdout"
        }
      ]
    },
    {
      "cell_type": "code",
      "metadata": {
        "id": "RMh2ipsw6-6s",
        "colab_type": "code",
        "colab": {},
        "outputId": "1c5ad9bf-fe1b-4166-8677-ce900dac6ba8"
      },
      "source": [
        "# Only distinct values are stored in the set \n",
        "string= 'ababbaaab'\n",
        "unique_set= set(string)\n",
        "print(unique_set)"
      ],
      "execution_count": null,
      "outputs": [
        {
          "output_type": "stream",
          "text": [
            "{'a', 'b'}\n"
          ],
          "name": "stdout"
        }
      ]
    },
    {
      "cell_type": "code",
      "metadata": {
        "id": "XOeyOhP66-6t",
        "colab_type": "code",
        "colab": {},
        "outputId": "186b5ba9-3b08-42ae-cc58-0495204deeef"
      },
      "source": [
        "# add() function is used to add the element in the set \n",
        "s1= {1, 2, 3}\n",
        "s1.add(4)\n",
        "print(s1)\n",
        "s1.add(3.5)\n",
        "print(s1)"
      ],
      "execution_count": null,
      "outputs": [
        {
          "output_type": "stream",
          "text": [
            "{1, 2, 3, 4}\n",
            "{1, 2, 3.5, 3, 4}\n"
          ],
          "name": "stdout"
        }
      ]
    },
    {
      "cell_type": "code",
      "metadata": {
        "id": "ItQK68Xt6-6u",
        "colab_type": "code",
        "colab": {},
        "outputId": "8172cf57-d67c-4193-b16c-2fcf5b7d3812"
      },
      "source": [
        "# A set can store hetrogenous data-types but we cannot guarantee the order in which the elements are stored \n",
        "hetro_set= {1, 3, \"Hello\", 3.5}\n",
        "print(hetro_set, type(hetro_set))"
      ],
      "execution_count": null,
      "outputs": [
        {
          "output_type": "stream",
          "text": [
            "{'Hello', 1, 3, 3.5} <class 'set'>\n"
          ],
          "name": "stdout"
        }
      ]
    },
    {
      "cell_type": "code",
      "metadata": {
        "id": "nra8iCES6-6z",
        "colab_type": "code",
        "colab": {},
        "outputId": "79eaff2e-eb26-465b-fd3a-ede5dde76dd2"
      },
      "source": [
        "# If we want to add the element already present in the set then it will not throw the error \n",
        "s= {1, 2, 3}\n",
        "s.add(1)\n",
        "print(s)"
      ],
      "execution_count": null,
      "outputs": [
        {
          "output_type": "stream",
          "text": [
            "{1, 2, 3}\n"
          ],
          "name": "stdout"
        }
      ]
    },
    {
      "cell_type": "code",
      "metadata": {
        "id": "Da6EZ2EA6-61",
        "colab_type": "code",
        "colab": {},
        "outputId": "4455192a-b60e-4363-88b4-3c15c552f3dd"
      },
      "source": [
        "# update() function takes the sequence as the argument and performs the union of sequence and the set \n",
        "s= {1, 2, 3}\n",
        "l= {1, 3, 5, 7}\n",
        "s.update(l)\n",
        "print(s, type(s))"
      ],
      "execution_count": null,
      "outputs": [
        {
          "output_type": "stream",
          "text": [
            "{1, 2, 3, 5, 7} <class 'set'>\n"
          ],
          "name": "stdout"
        }
      ]
    },
    {
      "cell_type": "code",
      "metadata": {
        "id": "V2ej85cU6-68",
        "colab_type": "code",
        "colab": {},
        "outputId": "97c28c9f-750b-4061-b1db-1246fa0b656e"
      },
      "source": [
        "# update() method can take more than 1 sequence as the argument \n",
        "s1= {1, 2, 3}\n",
        "# Takes the union of set s1 and both the sequences list and tuple \n",
        "s1.update([1, 3, 5, 7], (3, 8, 10))\n",
        "print(s1)"
      ],
      "execution_count": null,
      "outputs": [
        {
          "output_type": "stream",
          "text": [
            "{1, 2, 3, 5, 7, 8, 10}\n"
          ],
          "name": "stdout"
        }
      ]
    },
    {
      "cell_type": "code",
      "metadata": {
        "id": "Wecq8pK-6-7A",
        "colab_type": "code",
        "colab": {},
        "outputId": "e4f2e6c3-ca07-4b8f-fb04-72773df55b5f"
      },
      "source": [
        "# discard() function removes the particular element from the set \n",
        "s1= {1, 3, 4, 5, 7}\n",
        "s1.discard(3)\n",
        "print(s1)\n",
        "\n",
        "# What if we pass some element to the discard() function that is not there in the set \n",
        "# It will not give error even if 10 is not present in the set \n",
        "s1.discard(10)\n",
        "print(s1)"
      ],
      "execution_count": null,
      "outputs": [
        {
          "output_type": "stream",
          "text": [
            "{1, 4, 5, 7}\n",
            "{1, 4, 5, 7}\n"
          ],
          "name": "stdout"
        }
      ]
    },
    {
      "cell_type": "code",
      "metadata": {
        "id": "PJ6zsb_U6-7B",
        "colab_type": "code",
        "colab": {},
        "outputId": "e425c141-d4ca-4a08-aebc-f145685b1f17"
      },
      "source": [
        "# remove() method also does the same as discard method but it gives error when we pass the element which is not there in the set \n",
        "s2= {1, 3, 4, 8}\n",
        "# 10 is not there in the set so will give error so advisable to use the discard method to remove the elements from the list. \n",
        "s2.remove(10)\n",
        "print(s2)"
      ],
      "execution_count": null,
      "outputs": [
        {
          "output_type": "error",
          "ename": "KeyError",
          "evalue": "10",
          "traceback": [
            "\u001b[1;31m---------------------------------------------------------------------------\u001b[0m",
            "\u001b[1;31mKeyError\u001b[0m                                  Traceback (most recent call last)",
            "\u001b[1;32m<ipython-input-48-0917ef300c9b>\u001b[0m in \u001b[0;36m<module>\u001b[1;34m\u001b[0m\n\u001b[0;32m      2\u001b[0m \u001b[0ms2\u001b[0m\u001b[1;33m=\u001b[0m \u001b[1;33m{\u001b[0m\u001b[1;36m1\u001b[0m\u001b[1;33m,\u001b[0m \u001b[1;36m3\u001b[0m\u001b[1;33m,\u001b[0m \u001b[1;36m4\u001b[0m\u001b[1;33m,\u001b[0m \u001b[1;36m8\u001b[0m\u001b[1;33m}\u001b[0m\u001b[1;33m\u001b[0m\u001b[1;33m\u001b[0m\u001b[0m\n\u001b[0;32m      3\u001b[0m \u001b[1;31m# 10 is not there in the set so will give error so advisable to use the discard method to remove the elements from the list.\u001b[0m\u001b[1;33m\u001b[0m\u001b[1;33m\u001b[0m\u001b[1;33m\u001b[0m\u001b[0m\n\u001b[1;32m----> 4\u001b[1;33m \u001b[0ms2\u001b[0m\u001b[1;33m.\u001b[0m\u001b[0mremove\u001b[0m\u001b[1;33m(\u001b[0m\u001b[1;36m10\u001b[0m\u001b[1;33m)\u001b[0m\u001b[1;33m\u001b[0m\u001b[1;33m\u001b[0m\u001b[0m\n\u001b[0m\u001b[0;32m      5\u001b[0m \u001b[0mprint\u001b[0m\u001b[1;33m(\u001b[0m\u001b[0ms2\u001b[0m\u001b[1;33m)\u001b[0m\u001b[1;33m\u001b[0m\u001b[1;33m\u001b[0m\u001b[0m\n",
            "\u001b[1;31mKeyError\u001b[0m: 10"
          ]
        }
      ]
    },
    {
      "cell_type": "code",
      "metadata": {
        "id": "J3rKQKOC6-7D",
        "colab_type": "code",
        "colab": {},
        "outputId": "54b3ffbc-3e49-42e7-dfa1-f4b4cf077e28"
      },
      "source": [
        "# Below code gives the error \n",
        "s1= {1, 2, [3, 4], (5, 6)}\n",
        "print(s1)"
      ],
      "execution_count": null,
      "outputs": [
        {
          "output_type": "error",
          "ename": "TypeError",
          "evalue": "unhashable type: 'list'",
          "traceback": [
            "\u001b[1;31m---------------------------------------------------------------------------\u001b[0m",
            "\u001b[1;31mTypeError\u001b[0m                                 Traceback (most recent call last)",
            "\u001b[1;32m<ipython-input-1-a8fbbd1bcf40>\u001b[0m in \u001b[0;36m<module>\u001b[1;34m\u001b[0m\n\u001b[0;32m      1\u001b[0m \u001b[1;31m# Below code gives the error\u001b[0m\u001b[1;33m\u001b[0m\u001b[1;33m\u001b[0m\u001b[1;33m\u001b[0m\u001b[0m\n\u001b[1;32m----> 2\u001b[1;33m \u001b[0ms1\u001b[0m\u001b[1;33m=\u001b[0m \u001b[1;33m{\u001b[0m\u001b[1;36m1\u001b[0m\u001b[1;33m,\u001b[0m \u001b[1;36m2\u001b[0m\u001b[1;33m,\u001b[0m \u001b[1;33m[\u001b[0m\u001b[1;36m3\u001b[0m\u001b[1;33m,\u001b[0m \u001b[1;36m4\u001b[0m\u001b[1;33m]\u001b[0m\u001b[1;33m,\u001b[0m \u001b[1;33m(\u001b[0m\u001b[1;36m5\u001b[0m\u001b[1;33m,\u001b[0m \u001b[1;36m6\u001b[0m\u001b[1;33m)\u001b[0m\u001b[1;33m}\u001b[0m\u001b[1;33m\u001b[0m\u001b[1;33m\u001b[0m\u001b[0m\n\u001b[0m\u001b[0;32m      3\u001b[0m \u001b[0mprint\u001b[0m\u001b[1;33m(\u001b[0m\u001b[0ms1\u001b[0m\u001b[1;33m)\u001b[0m\u001b[1;33m\u001b[0m\u001b[1;33m\u001b[0m\u001b[0m\n",
            "\u001b[1;31mTypeError\u001b[0m: unhashable type: 'list'"
          ]
        }
      ]
    },
    {
      "cell_type": "code",
      "metadata": {
        "id": "JvnYKlOz6-7H",
        "colab_type": "code",
        "colab": {},
        "outputId": "f06846c6-672d-4785-df88-474b074720e1"
      },
      "source": [
        "# We can store an element in the set as the tuple \n",
        "s1= {1, 2, (3, 4), (5, 6)}\n",
        "for element in s1:\n",
        "    print(element)"
      ],
      "execution_count": null,
      "outputs": [
        {
          "output_type": "stream",
          "text": [
            "(5, 6)\n",
            "1\n",
            "2\n",
            "(3, 4)\n"
          ],
          "name": "stdout"
        }
      ]
    },
    {
      "cell_type": "code",
      "metadata": {
        "id": "-N55LIxx6-7I",
        "colab_type": "code",
        "colab": {},
        "outputId": "27b66551-4782-4e6e-945c-2a3672ecbad9"
      },
      "source": [
        "# Intersection of 2 sets \n",
        "s1= {1, 2, 3, 5, 8}\n",
        "s2= {2, 3, 4, 6}\n",
        "s1_intersection_s2 = s1.intersection(s2)\n",
        "print(s1_intersection_s2)"
      ],
      "execution_count": null,
      "outputs": [
        {
          "output_type": "stream",
          "text": [
            "{2, 3}\n"
          ],
          "name": "stdout"
        }
      ]
    },
    {
      "cell_type": "code",
      "metadata": {
        "id": "zRm7ty8t6-7N",
        "colab_type": "code",
        "colab": {},
        "outputId": "0a1443a8-1078-40c3-8bd9-4cf10d430a12"
      },
      "source": [
        "# clear() removes all the elements of a set \n",
        "s1= {1, 2, 3, 4, 5}\n",
        "s1.clear()\n",
        "print(s1)"
      ],
      "execution_count": null,
      "outputs": [
        {
          "output_type": "stream",
          "text": [
            "set()\n"
          ],
          "name": "stdout"
        }
      ]
    },
    {
      "cell_type": "code",
      "metadata": {
        "id": "zl_pdrn16-7P",
        "colab_type": "code",
        "colab": {},
        "outputId": "08eae39a-21dd-4623-9958-5a75e3e9a33b"
      },
      "source": [
        "# Union of 2 sets \n",
        "s1= {1, 2, 3, 4}\n",
        "s2= {3, 4, 5, 6}\n",
        "s1_union_s2= s1.union(s2)\n",
        "print(s1_union_s2)"
      ],
      "execution_count": null,
      "outputs": [
        {
          "output_type": "stream",
          "text": [
            "{1, 2, 3, 4, 5, 6}\n"
          ],
          "name": "stdout"
        }
      ]
    },
    {
      "cell_type": "code",
      "metadata": {
        "id": "uqXul1DT6-7X",
        "colab_type": "code",
        "colab": {},
        "outputId": "323a7e74-0788-429d-db6c-423daac0d6ba"
      },
      "source": [
        "print(type(s1))"
      ],
      "execution_count": null,
      "outputs": [
        {
          "output_type": "stream",
          "text": [
            "<class 'set'>\n"
          ],
          "name": "stdout"
        }
      ]
    },
    {
      "cell_type": "code",
      "metadata": {
        "id": "Bj_VcJJg6-7Y",
        "colab_type": "code",
        "colab": {},
        "outputId": "cfac0005-17a2-4953-d0d2-95b73afd6773"
      },
      "source": [
        "# If s2 is subset of s1 then all the elements of s2 are in s1 \n",
        "s1= {1, 2, 3, 4}\n",
        "s2= {2, 3}\n",
        "s2.issubset(s1)"
      ],
      "execution_count": null,
      "outputs": [
        {
          "output_type": "execute_result",
          "data": {
            "text/plain": [
              "True"
            ]
          },
          "metadata": {
            "tags": []
          },
          "execution_count": 15
        }
      ]
    },
    {
      "cell_type": "code",
      "metadata": {
        "id": "lbbS-ZJa6-7Z",
        "colab_type": "code",
        "colab": {},
        "outputId": "0c399b82-5319-4566-f69f-64c8ba8a04b3"
      },
      "source": [
        "# If s1 is superset of s2 then s1 must contain all the elements of s2 \n",
        "s1= {1, 2, 3, 4}\n",
        "s2= {2, 3}\n",
        "s1.issuperset(s2)"
      ],
      "execution_count": null,
      "outputs": [
        {
          "output_type": "execute_result",
          "data": {
            "text/plain": [
              "True"
            ]
          },
          "metadata": {
            "tags": []
          },
          "execution_count": 17
        }
      ]
    },
    {
      "cell_type": "code",
      "metadata": {
        "id": "MxkKIHJE6-7c",
        "colab_type": "code",
        "colab": {},
        "outputId": "7303b4df-f962-4ae4-96cc-5cfaf9b7e9ef"
      },
      "source": [
        "# pop() method \n",
        "# 1. Returns the removed element \n",
        "# 2. Update the set (removal of the removed element from the set)\n",
        "s1= {5, 1, 3, 2}\n",
        "removed_element= s1.pop()\n",
        "print(removed_element)\n",
        "print(s1)"
      ],
      "execution_count": null,
      "outputs": [
        {
          "output_type": "stream",
          "text": [
            "1\n",
            "{2, 3, 5}\n"
          ],
          "name": "stdout"
        }
      ]
    },
    {
      "cell_type": "code",
      "metadata": {
        "id": "bcxjRJEb6-7e",
        "colab_type": "code",
        "colab": {},
        "outputId": "3657eb13-90eb-42b7-cd57-1d9372caedc3"
      },
      "source": [
        "# You cannot perform the pop operation on the empty set \n",
        "s1= set()\n",
        "s1.pop()"
      ],
      "execution_count": null,
      "outputs": [
        {
          "output_type": "error",
          "ename": "KeyError",
          "evalue": "'pop from an empty set'",
          "traceback": [
            "\u001b[1;31m---------------------------------------------------------------------------\u001b[0m",
            "\u001b[1;31mKeyError\u001b[0m                                  Traceback (most recent call last)",
            "\u001b[1;32m<ipython-input-30-983b196c1daa>\u001b[0m in \u001b[0;36m<module>\u001b[1;34m\u001b[0m\n\u001b[0;32m      1\u001b[0m \u001b[1;31m# You cannot perform the pop operation on the empty set\u001b[0m\u001b[1;33m\u001b[0m\u001b[1;33m\u001b[0m\u001b[1;33m\u001b[0m\u001b[0m\n\u001b[0;32m      2\u001b[0m \u001b[0ms1\u001b[0m\u001b[1;33m=\u001b[0m \u001b[0mset\u001b[0m\u001b[1;33m(\u001b[0m\u001b[1;33m)\u001b[0m\u001b[1;33m\u001b[0m\u001b[1;33m\u001b[0m\u001b[0m\n\u001b[1;32m----> 3\u001b[1;33m \u001b[0ms1\u001b[0m\u001b[1;33m.\u001b[0m\u001b[0mpop\u001b[0m\u001b[1;33m(\u001b[0m\u001b[1;33m)\u001b[0m\u001b[1;33m\u001b[0m\u001b[1;33m\u001b[0m\u001b[0m\n\u001b[0m",
            "\u001b[1;31mKeyError\u001b[0m: 'pop from an empty set'"
          ]
        }
      ]
    },
    {
      "cell_type": "code",
      "metadata": {
        "id": "t0tvKERS6-7g",
        "colab_type": "code",
        "colab": {},
        "outputId": "53b17d57-f41f-4049-c787-83a385b7d3db"
      },
      "source": [
        "# Copy the elements of one set to another set \n",
        "s1={1,2,3}\n",
        "print(\"ID of the set s1---> {} is {}\".format(s1, id(s1)))\n",
        "s2= s1.copy()\n",
        "print(\"ID of the set s2---> {} is {}\".format(s2, id(s2)))"
      ],
      "execution_count": null,
      "outputs": [
        {
          "output_type": "stream",
          "text": [
            "ID of the set s1---> {1, 2, 3} is 538164778376\n",
            "ID of the set s2---> {1, 2, 3} is 538156373160\n"
          ],
          "name": "stdout"
        }
      ]
    },
    {
      "cell_type": "markdown",
      "metadata": {
        "id": "R2MgUcY56-7i",
        "colab_type": "text"
      },
      "source": [
        "### 3.12 Dictionary Part 1 \n",
        "\n",
        "- Each element of a dictionary is a pair of key:value \n",
        "- Each key must be unique \n",
        "- Value can be repeated \n",
        "- Key and Value can be of any type in a dictionary \n",
        "- Indexing and Slicing operator do not work in dictionary. \n",
        "- Cannot guarantee of order of storage of key values in the dictionary. \n",
        "- It is mutable ie value can be added, deleted and edited \n",
        "- It can be grow/shrink ie memory efficient"
      ]
    },
    {
      "cell_type": "code",
      "metadata": {
        "id": "Y-ECw6kH6-7i",
        "colab_type": "code",
        "colab": {},
        "outputId": "92be5b62-686a-4d79-a1f7-18beb29daaaf"
      },
      "source": [
        "# Create an empty dictionary \n",
        "empty_dict= {}\n",
        "print(type(empty_dict))\n",
        "alternate_dict= dict()\n",
        "print(type(alternate_dict))"
      ],
      "execution_count": null,
      "outputs": [
        {
          "output_type": "stream",
          "text": [
            "<class 'dict'>\n",
            "<class 'dict'>\n"
          ],
          "name": "stdout"
        }
      ]
    },
    {
      "cell_type": "code",
      "metadata": {
        "id": "MXwXcD4a6-7j",
        "colab_type": "code",
        "colab": {},
        "outputId": "e3481f23-a8e4-40a8-abcd-f4a061fb7589"
      },
      "source": [
        "# Creating a sample dictionary \n",
        "d= {100:'Rahul', 101:'Ajay', 102:'Ram'}\n",
        "print(d, type(d))"
      ],
      "execution_count": null,
      "outputs": [
        {
          "output_type": "stream",
          "text": [
            "{100: 'Rahul', 101: 'Ajay', 102: 'Ram'} <class 'dict'>\n"
          ],
          "name": "stdout"
        }
      ]
    },
    {
      "cell_type": "code",
      "metadata": {
        "id": "qDP1x_9z6-7k",
        "colab_type": "code",
        "colab": {},
        "outputId": "145846c1-4fc2-47c2-ec33-e3f1560c47f8"
      },
      "source": [
        "# Creating a dictionary with dict() constructor but cannot use the key:value syntax \n",
        "# Here keys cannot be numbers or expression \n",
        "d= dict(city_1=\"Bhopal\", city_2=\"Indore\")\n",
        "print(d)"
      ],
      "execution_count": null,
      "outputs": [
        {
          "output_type": "stream",
          "text": [
            "{'city_1': 'Bhopal', 'city_2': 'Indore'}\n"
          ],
          "name": "stdout"
        }
      ]
    },
    {
      "cell_type": "code",
      "metadata": {
        "id": "8MyimsSL6-7m",
        "colab_type": "code",
        "colab": {},
        "outputId": "68efef1f-9099-4eb5-c2c8-3fc13c8b87e2"
      },
      "source": [
        "# Accessing a value in a dictionary \n",
        "d= {1:'a', 2:'b', 3:'c', 4:'d'}\n",
        "# Print the value corrosponding to the key 4\n",
        "value= d[4]\n",
        "print(value)"
      ],
      "execution_count": null,
      "outputs": [
        {
          "output_type": "stream",
          "text": [
            "d\n"
          ],
          "name": "stdout"
        }
      ]
    },
    {
      "cell_type": "code",
      "metadata": {
        "id": "m_dl6X1k6-7n",
        "colab_type": "code",
        "colab": {},
        "outputId": "0d661b9b-59c1-4bca-8dc4-b7a5678c12a0"
      },
      "source": [
        "# Adding a new key:value pair in the current dictionary \n",
        "d[5]= 'e'\n",
        "print(d)"
      ],
      "execution_count": null,
      "outputs": [
        {
          "output_type": "stream",
          "text": [
            "{1: 'a', 2: 'b', 3: 'c', 4: 'd', 5: 'e'}\n"
          ],
          "name": "stdout"
        }
      ]
    },
    {
      "cell_type": "code",
      "metadata": {
        "id": "Ue49fN4J6-7o",
        "colab_type": "code",
        "colab": {},
        "outputId": "542c38b2-9054-4f9b-f3ae-2e8e4c61f1b6"
      },
      "source": [
        "# Change the value corrosponding to a key in the dictionary \n",
        "d[1]='A'\n",
        "print(d)"
      ],
      "execution_count": null,
      "outputs": [
        {
          "output_type": "stream",
          "text": [
            "{1: 'A', 2: 'b', 3: 'c', 4: 'd', 5: 'e'}\n"
          ],
          "name": "stdout"
        }
      ]
    },
    {
      "cell_type": "code",
      "metadata": {
        "id": "h7fcHJBx6-7p",
        "colab_type": "code",
        "colab": {},
        "outputId": "3ab713d2-6830-40e6-8198-d6f0c963b80a"
      },
      "source": [
        "for key in d:\n",
        "    print(\"Key=\", key, \"Value=\", d[key])"
      ],
      "execution_count": null,
      "outputs": [
        {
          "output_type": "stream",
          "text": [
            "Key= 1 Value= A\n",
            "Key= 2 Value= b\n",
            "Key= 3 Value= c\n",
            "Key= 4 Value= d\n",
            "Key= 5 Value= e\n"
          ],
          "name": "stdout"
        }
      ]
    },
    {
      "cell_type": "code",
      "metadata": {
        "id": "YUAoFDH86-7q",
        "colab_type": "code",
        "colab": {},
        "outputId": "e2579eb3-2166-4fe6-f923-ddb0bc1b44ef"
      },
      "source": [
        "# Access each element/pair in a dictionary \n",
        "for key, value in d.items():\n",
        "    print(\"key is {} and value is {}\".format(key, value))"
      ],
      "execution_count": null,
      "outputs": [
        {
          "output_type": "stream",
          "text": [
            "key is 1 and value is A\n",
            "key is 2 and value is b\n",
            "key is 3 and value is c\n",
            "key is 4 and value is d\n",
            "key is 5 and value is e\n"
          ],
          "name": "stdout"
        }
      ]
    },
    {
      "cell_type": "markdown",
      "metadata": {
        "id": "m6XvNmD_6-7r",
        "colab_type": "text"
      },
      "source": [
        "### 3.13 Dictionary Part 2 "
      ]
    },
    {
      "cell_type": "code",
      "metadata": {
        "id": "Oq_Pzewl6-7r",
        "colab_type": "code",
        "colab": {},
        "outputId": "8397b54f-7f4d-403a-d22f-b4fc14c872f8"
      },
      "source": [
        "words= {}\n",
        "l= ['a', 'b', 'c', 'd']\n",
        "for ele in l:\n",
        "    print(\"Enter a word starting with {}\".format(ele))\n",
        "    words[ele]=input()\n",
        "print(words)"
      ],
      "execution_count": null,
      "outputs": [
        {
          "output_type": "stream",
          "text": [
            "Enter a word starting with a\n",
            "apple\n",
            "Enter a word starting with b\n",
            "ball\n",
            "Enter a word starting with c\n",
            "cat\n",
            "Enter a word starting with d\n",
            "dog\n",
            "{'a': 'apple', 'b': 'ball', 'c': 'cat', 'd': 'dog'}\n"
          ],
          "name": "stdout"
        }
      ]
    },
    {
      "cell_type": "code",
      "metadata": {
        "id": "fz6N3Tet6-7s",
        "colab_type": "code",
        "colab": {},
        "outputId": "8a09c139-afa0-4d3a-b6ec-ebadea8c158e"
      },
      "source": [
        "# Delete a pair/element from a dictionary \n",
        "d= {'a': 'apple', 'b': 'ball', 'c': 'cat', 'd': 'dog'}\n",
        "del(d['c'])\n",
        "print(d)"
      ],
      "execution_count": null,
      "outputs": [
        {
          "output_type": "stream",
          "text": [
            "{'a': 'apple', 'b': 'ball', 'd': 'dog'}\n"
          ],
          "name": "stdout"
        }
      ]
    },
    {
      "cell_type": "code",
      "metadata": {
        "id": "2q9fOqbf6-7w",
        "colab_type": "code",
        "colab": {},
        "outputId": "3f1cb323-97a5-4b53-f964-bc2ea4a74377"
      },
      "source": [
        "d= {1:'a', 2:'b', 3:'c', 4:'d'}\n",
        "# clear() method deletes all the pairs from the dictionary \n",
        "d.clear()\n",
        "print(d)"
      ],
      "execution_count": null,
      "outputs": [
        {
          "output_type": "stream",
          "text": [
            "{}\n"
          ],
          "name": "stdout"
        }
      ]
    },
    {
      "cell_type": "code",
      "metadata": {
        "id": "0lNqasnx6-7y",
        "colab_type": "code",
        "colab": {},
        "outputId": "5ad72503-5be7-4015-c226-c542500736d4"
      },
      "source": [
        "# Creates a shallow copy of d1 into d2\n",
        "# Both d1 and d2 are pointing to different objects \n",
        "d1= {1:'a', 2:'b', 3:'c', 4:'d'}\n",
        "print(\"ID of the dict d1---> {} is {}\".format(d1, id(d1)))\n",
        "d2= d1.copy()\n",
        "print(\"ID of the dict d2---> {} is {}\".format(d2, id(d2)))\n",
        "# We can verify from the is operator also \n",
        "print(d1 is d2)"
      ],
      "execution_count": null,
      "outputs": [
        {
          "output_type": "stream",
          "text": [
            "ID of the dict d1---> {1: 'a', 2: 'b', 3: 'c', 4: 'd'} is 58834939800\n",
            "ID of the dict d2---> {1: 'a', 2: 'b', 3: 'c', 4: 'd'} is 58834939640\n",
            "False\n"
          ],
          "name": "stdout"
        }
      ]
    },
    {
      "cell_type": "code",
      "metadata": {
        "id": "Uq4jTaxz6-70",
        "colab_type": "code",
        "colab": {},
        "outputId": "400319c4-b226-4ae5-9547-e41bbafe680a"
      },
      "source": [
        "# Create a dictionary from the list or any iterable \n",
        "l= [1, 2, 3]\n",
        "d= {}\n",
        "d1= d.fromkeys(l, \"ABC\")\n",
        "print(d)\n",
        "print(d1)"
      ],
      "execution_count": null,
      "outputs": [
        {
          "output_type": "stream",
          "text": [
            "{}\n",
            "{1: 'ABC', 2: 'ABC', 3: 'ABC'}\n"
          ],
          "name": "stdout"
        }
      ]
    },
    {
      "cell_type": "code",
      "metadata": {
        "id": "pjnYTP_76-71",
        "colab_type": "code",
        "colab": {},
        "outputId": "8ebc4ce3-a1d1-4b09-af21-39e58c2828d2"
      },
      "source": [
        "d= {1:'A', 2:'B', 3:'C'}\n",
        "# Get the value corrosponding to the key 2\n",
        "value= d.get(2)\n",
        "print(value)\n",
        "# Get the value corrosponding to the key that does not exists in the dictionary ----> it does not gives the ERROR \n",
        "print(d.get(4))\n",
        "print(d)\n",
        "\n",
        "# What if we used square brackets to access the value of the key that is not present in the dictionary \n",
        "# Below code will give error as 4 key is not in d \n",
        "print(d[4])"
      ],
      "execution_count": null,
      "outputs": [
        {
          "output_type": "stream",
          "text": [
            "B\n",
            "None\n",
            "{1: 'A', 2: 'B', 3: 'C'}\n"
          ],
          "name": "stdout"
        },
        {
          "output_type": "error",
          "ename": "KeyError",
          "evalue": "4",
          "traceback": [
            "\u001b[1;31m---------------------------------------------------------------------------\u001b[0m",
            "\u001b[1;31mKeyError\u001b[0m                                  Traceback (most recent call last)",
            "\u001b[1;32m<ipython-input-11-09f8d98c0fa5>\u001b[0m in \u001b[0;36m<module>\u001b[1;34m\u001b[0m\n\u001b[0;32m      9\u001b[0m \u001b[1;31m# What if we used square brackets to access the value of the key that is not present in the dictionary\u001b[0m\u001b[1;33m\u001b[0m\u001b[1;33m\u001b[0m\u001b[1;33m\u001b[0m\u001b[0m\n\u001b[0;32m     10\u001b[0m \u001b[1;31m# Below code will give error as 4 key is not in d\u001b[0m\u001b[1;33m\u001b[0m\u001b[1;33m\u001b[0m\u001b[1;33m\u001b[0m\u001b[0m\n\u001b[1;32m---> 11\u001b[1;33m \u001b[0mprint\u001b[0m\u001b[1;33m(\u001b[0m\u001b[0md\u001b[0m\u001b[1;33m[\u001b[0m\u001b[1;36m4\u001b[0m\u001b[1;33m]\u001b[0m\u001b[1;33m)\u001b[0m\u001b[1;33m\u001b[0m\u001b[1;33m\u001b[0m\u001b[0m\n\u001b[0m",
            "\u001b[1;31mKeyError\u001b[0m: 4"
          ]
        }
      ]
    },
    {
      "cell_type": "code",
      "metadata": {
        "id": "1nUi2lKR6-75",
        "colab_type": "code",
        "colab": {},
        "outputId": "c7bd5ce5-06c6-4081-eaa5-68dfdab8df92"
      },
      "source": [
        "d= {1:'A', 2:'B', 3:'C'}\n",
        "# pop() method returns the value of the key and deletes that pair from the dictionary \n",
        "value= d.pop(2)\n",
        "print(value)\n",
        "print(d)"
      ],
      "execution_count": null,
      "outputs": [
        {
          "output_type": "stream",
          "text": [
            "B\n",
            "{1: 'A', 3: 'C'}\n"
          ],
          "name": "stdout"
        }
      ]
    },
    {
      "cell_type": "code",
      "metadata": {
        "id": "s4z9_Lvo6-76",
        "colab_type": "code",
        "colab": {},
        "outputId": "109a29d2-f522-4e60-ab49-0d43b5e8b0be"
      },
      "source": [
        "d= {1:'A', 2:'B', 3:'C'}\n",
        "\n",
        "# (1:'A')---> dict_item \n",
        "# 1 -----> dict_key \n",
        "# 'A'-----> dict_value \n",
        "\n",
        "# popitem() returns any random dict_item (pair) and deletes that from the dictionary \n",
        "# This method do not takes any argument and left empty \n",
        "\n",
        "dict_item= d.popitem()\n",
        "print(dict_item, type(dict_item))\n",
        "print(d)"
      ],
      "execution_count": null,
      "outputs": [
        {
          "output_type": "stream",
          "text": [
            "(3, 'C') <class 'tuple'>\n",
            "{1: 'A', 2: 'B'}\n"
          ],
          "name": "stdout"
        }
      ]
    },
    {
      "cell_type": "code",
      "metadata": {
        "id": "YXJV7Se26-77",
        "colab_type": "code",
        "colab": {},
        "outputId": "ba39c480-435e-4ce5-a76d-d1819f621c87"
      },
      "source": [
        "help(dict)"
      ],
      "execution_count": null,
      "outputs": [
        {
          "output_type": "stream",
          "text": [
            "Help on class dict in module builtins:\n",
            "\n",
            "class dict(object)\n",
            " |  dict() -> new empty dictionary\n",
            " |  dict(mapping) -> new dictionary initialized from a mapping object's\n",
            " |      (key, value) pairs\n",
            " |  dict(iterable) -> new dictionary initialized as if via:\n",
            " |      d = {}\n",
            " |      for k, v in iterable:\n",
            " |          d[k] = v\n",
            " |  dict(**kwargs) -> new dictionary initialized with the name=value pairs\n",
            " |      in the keyword argument list.  For example:  dict(one=1, two=2)\n",
            " |  \n",
            " |  Methods defined here:\n",
            " |  \n",
            " |  __contains__(self, key, /)\n",
            " |      True if the dictionary has the specified key, else False.\n",
            " |  \n",
            " |  __delitem__(self, key, /)\n",
            " |      Delete self[key].\n",
            " |  \n",
            " |  __eq__(self, value, /)\n",
            " |      Return self==value.\n",
            " |  \n",
            " |  __ge__(self, value, /)\n",
            " |      Return self>=value.\n",
            " |  \n",
            " |  __getattribute__(self, name, /)\n",
            " |      Return getattr(self, name).\n",
            " |  \n",
            " |  __getitem__(...)\n",
            " |      x.__getitem__(y) <==> x[y]\n",
            " |  \n",
            " |  __gt__(self, value, /)\n",
            " |      Return self>value.\n",
            " |  \n",
            " |  __init__(self, /, *args, **kwargs)\n",
            " |      Initialize self.  See help(type(self)) for accurate signature.\n",
            " |  \n",
            " |  __iter__(self, /)\n",
            " |      Implement iter(self).\n",
            " |  \n",
            " |  __le__(self, value, /)\n",
            " |      Return self<=value.\n",
            " |  \n",
            " |  __len__(self, /)\n",
            " |      Return len(self).\n",
            " |  \n",
            " |  __lt__(self, value, /)\n",
            " |      Return self<value.\n",
            " |  \n",
            " |  __ne__(self, value, /)\n",
            " |      Return self!=value.\n",
            " |  \n",
            " |  __repr__(self, /)\n",
            " |      Return repr(self).\n",
            " |  \n",
            " |  __setitem__(self, key, value, /)\n",
            " |      Set self[key] to value.\n",
            " |  \n",
            " |  __sizeof__(...)\n",
            " |      D.__sizeof__() -> size of D in memory, in bytes\n",
            " |  \n",
            " |  clear(...)\n",
            " |      D.clear() -> None.  Remove all items from D.\n",
            " |  \n",
            " |  copy(...)\n",
            " |      D.copy() -> a shallow copy of D\n",
            " |  \n",
            " |  get(self, key, default=None, /)\n",
            " |      Return the value for key if key is in the dictionary, else default.\n",
            " |  \n",
            " |  items(...)\n",
            " |      D.items() -> a set-like object providing a view on D's items\n",
            " |  \n",
            " |  keys(...)\n",
            " |      D.keys() -> a set-like object providing a view on D's keys\n",
            " |  \n",
            " |  pop(...)\n",
            " |      D.pop(k[,d]) -> v, remove specified key and return the corresponding value.\n",
            " |      If key is not found, d is returned if given, otherwise KeyError is raised\n",
            " |  \n",
            " |  popitem(...)\n",
            " |      D.popitem() -> (k, v), remove and return some (key, value) pair as a\n",
            " |      2-tuple; but raise KeyError if D is empty.\n",
            " |  \n",
            " |  setdefault(self, key, default=None, /)\n",
            " |      Insert key with a value of default if key is not in the dictionary.\n",
            " |      \n",
            " |      Return the value for key if key is in the dictionary, else default.\n",
            " |  \n",
            " |  update(...)\n",
            " |      D.update([E, ]**F) -> None.  Update D from dict/iterable E and F.\n",
            " |      If E is present and has a .keys() method, then does:  for k in E: D[k] = E[k]\n",
            " |      If E is present and lacks a .keys() method, then does:  for k, v in E: D[k] = v\n",
            " |      In either case, this is followed by: for k in F:  D[k] = F[k]\n",
            " |  \n",
            " |  values(...)\n",
            " |      D.values() -> an object providing a view on D's values\n",
            " |  \n",
            " |  ----------------------------------------------------------------------\n",
            " |  Class methods defined here:\n",
            " |  \n",
            " |  fromkeys(iterable, value=None, /) from builtins.type\n",
            " |      Create a new dictionary with keys from iterable and values set to value.\n",
            " |  \n",
            " |  ----------------------------------------------------------------------\n",
            " |  Static methods defined here:\n",
            " |  \n",
            " |  __new__(*args, **kwargs) from builtins.type\n",
            " |      Create and return a new object.  See help(type) for accurate signature.\n",
            " |  \n",
            " |  ----------------------------------------------------------------------\n",
            " |  Data and other attributes defined here:\n",
            " |  \n",
            " |  __hash__ = None\n",
            "\n"
          ],
          "name": "stdout"
        }
      ]
    },
    {
      "cell_type": "markdown",
      "metadata": {
        "id": "E2SQwnzp6-78",
        "colab_type": "text"
      },
      "source": [
        "## Chapter 4 - Organized Code "
      ]
    },
    {
      "cell_type": "markdown",
      "metadata": {
        "id": "TI2lV1js6-78",
        "colab_type": "text"
      },
      "source": [
        "### 4.1 More on input part 1 "
      ]
    },
    {
      "cell_type": "code",
      "metadata": {
        "id": "NTmleJwC6-78",
        "colab_type": "code",
        "colab": {},
        "outputId": "ee5003f3-4864-4079-a545-da5a3e81bb05"
      },
      "source": [
        "# input() function returns the input entered by the user as a string \n",
        "input_value= input(\"Enter some data\")\n",
        "print(x, type(x))"
      ],
      "execution_count": null,
      "outputs": [
        {
          "output_type": "stream",
          "text": [
            "Enter some data123\n",
            "123 <class 'str'>\n"
          ],
          "name": "stdout"
        }
      ]
    },
    {
      "cell_type": "code",
      "metadata": {
        "id": "o95UAqFy6-79",
        "colab_type": "code",
        "colab": {},
        "outputId": "2b86f1cd-35ed-42ff-861d-c788f6e0fdfc"
      },
      "source": [
        "num= int(input(\"Enter any number\"))\n",
        "print(num, type(num))"
      ],
      "execution_count": null,
      "outputs": [
        {
          "output_type": "stream",
          "text": [
            "Enter any number23\n",
            "23 <class 'int'>\n"
          ],
          "name": "stdout"
        }
      ]
    },
    {
      "cell_type": "code",
      "metadata": {
        "id": "jm3X9MnS6-7-",
        "colab_type": "code",
        "colab": {},
        "outputId": "f243e3b7-8780-4a12-e222-06ac86f7a9f2"
      },
      "source": [
        "# If the user don't enter an integer value\n",
        "# Complex number is returned as the string but cannot be converted to int type -----> that's why it will give ERROR \n",
        "num= int(input(\"Enter any number \"))"
      ],
      "execution_count": null,
      "outputs": [
        {
          "output_type": "stream",
          "text": [
            "Enter any number 3+4j\n"
          ],
          "name": "stdout"
        },
        {
          "output_type": "error",
          "ename": "ValueError",
          "evalue": "invalid literal for int() with base 10: '3+4j'",
          "traceback": [
            "\u001b[1;31m---------------------------------------------------------------------------\u001b[0m",
            "\u001b[1;31mValueError\u001b[0m                                Traceback (most recent call last)",
            "\u001b[1;32m<ipython-input-19-f7d4794fec8f>\u001b[0m in \u001b[0;36m<module>\u001b[1;34m\u001b[0m\n\u001b[0;32m      1\u001b[0m \u001b[1;31m# If the user don't enter an integer value\u001b[0m\u001b[1;33m\u001b[0m\u001b[1;33m\u001b[0m\u001b[1;33m\u001b[0m\u001b[0m\n\u001b[0;32m      2\u001b[0m \u001b[1;31m# Complex number is returned as the string but cannot be converted to int type -----> that's why it will give ERROR\u001b[0m\u001b[1;33m\u001b[0m\u001b[1;33m\u001b[0m\u001b[1;33m\u001b[0m\u001b[0m\n\u001b[1;32m----> 3\u001b[1;33m \u001b[0mnum\u001b[0m\u001b[1;33m=\u001b[0m \u001b[0mint\u001b[0m\u001b[1;33m(\u001b[0m\u001b[0minput\u001b[0m\u001b[1;33m(\u001b[0m\u001b[1;34m\"Enter any number \"\u001b[0m\u001b[1;33m)\u001b[0m\u001b[1;33m)\u001b[0m\u001b[1;33m\u001b[0m\u001b[1;33m\u001b[0m\u001b[0m\n\u001b[0m",
            "\u001b[1;31mValueError\u001b[0m: invalid literal for int() with base 10: '3+4j'"
          ]
        }
      ]
    },
    {
      "cell_type": "code",
      "metadata": {
        "id": "n5roK5Js6-8A",
        "colab_type": "code",
        "colab": {},
        "outputId": "23eb48e3-d63b-4751-f66c-7258f7562644"
      },
      "source": [
        "# We also cannot enter the multiple values \n",
        "num= int(input(\"Enter any number \"))"
      ],
      "execution_count": null,
      "outputs": [
        {
          "output_type": "stream",
          "text": [
            "Enter any number 1, 2, 3\n"
          ],
          "name": "stdout"
        },
        {
          "output_type": "error",
          "ename": "ValueError",
          "evalue": "invalid literal for int() with base 10: '1, 2, 3'",
          "traceback": [
            "\u001b[1;31m---------------------------------------------------------------------------\u001b[0m",
            "\u001b[1;31mValueError\u001b[0m                                Traceback (most recent call last)",
            "\u001b[1;32m<ipython-input-20-6f3b1dd3e578>\u001b[0m in \u001b[0;36m<module>\u001b[1;34m\u001b[0m\n\u001b[0;32m      1\u001b[0m \u001b[1;31m# We also cannot enter the multiple values\u001b[0m\u001b[1;33m\u001b[0m\u001b[1;33m\u001b[0m\u001b[1;33m\u001b[0m\u001b[0m\n\u001b[1;32m----> 2\u001b[1;33m \u001b[0mnum\u001b[0m\u001b[1;33m=\u001b[0m \u001b[0mint\u001b[0m\u001b[1;33m(\u001b[0m\u001b[0minput\u001b[0m\u001b[1;33m(\u001b[0m\u001b[1;34m\"Enter any number \"\u001b[0m\u001b[1;33m)\u001b[0m\u001b[1;33m)\u001b[0m\u001b[1;33m\u001b[0m\u001b[1;33m\u001b[0m\u001b[0m\n\u001b[0m",
            "\u001b[1;31mValueError\u001b[0m: invalid literal for int() with base 10: '1, 2, 3'"
          ]
        }
      ]
    },
    {
      "cell_type": "code",
      "metadata": {
        "id": "dRh0ffB-6-8B",
        "colab_type": "code",
        "colab": {},
        "outputId": "e76e9aee-5ba0-434a-fe41-e71430755b90"
      },
      "source": [
        "# We can use eval() function \n",
        "for iter in range(5):\n",
        "    any_type= eval(input(\"Enter the value of any type \"))\n",
        "    print(any_type, type(any_type))\n",
        "    print('*'*70)"
      ],
      "execution_count": null,
      "outputs": [
        {
          "output_type": "stream",
          "text": [
            "Enter the value of any type 3\n",
            "3 <class 'int'>\n",
            "**********************************************************************\n",
            "Enter the value of any type 2.5\n",
            "2.5 <class 'float'>\n",
            "**********************************************************************\n",
            "Enter the value of any type 3+4j\n",
            "(3+4j) <class 'complex'>\n",
            "**********************************************************************\n",
            "Enter the value of any type [1, 2, 3]\n",
            "[1, 2, 3] <class 'list'>\n",
            "**********************************************************************\n",
            "Enter the value of any type {1:'a', 2:'b', 3:'c'}\n",
            "{1: 'a', 2: 'b', 3: 'c'} <class 'dict'>\n",
            "**********************************************************************\n"
          ],
          "name": "stdout"
        }
      ]
    },
    {
      "cell_type": "markdown",
      "metadata": {
        "id": "QxYaN_ll6-8G",
        "colab_type": "text"
      },
      "source": [
        "### 4.2 More on i/p part 2"
      ]
    },
    {
      "cell_type": "code",
      "metadata": {
        "id": "tJj3387i6-8G",
        "colab_type": "code",
        "colab": {},
        "outputId": "530b04de-d81d-4017-e3da-1a8db01289a1"
      },
      "source": [
        "# Input multiple values from the user \n",
        "input_1, input_2= input(\"Enter 1st input value \"), input(\"Enter 2nd input value \")"
      ],
      "execution_count": null,
      "outputs": [
        {
          "output_type": "stream",
          "text": [
            "Enter 1st input value 23\n",
            "Enter 2nd input value 34\n"
          ],
          "name": "stdout"
        }
      ]
    },
    {
      "cell_type": "code",
      "metadata": {
        "id": "ouZ0fboy6-8J",
        "colab_type": "code",
        "colab": {},
        "outputId": "18d30f30-91e7-41b1-97ff-a7b22ad061e5"
      },
      "source": [
        "# Using split() function - by default it seperates the inputs entered by the user with a space. \n",
        "input_1, input_2= input(\"Enter two input values \").split()\n",
        "print(input_1)\n",
        "print(input_2)"
      ],
      "execution_count": null,
      "outputs": [
        {
          "output_type": "stream",
          "text": [
            "Enter two input values 123 345\n",
            "123\n",
            "345\n"
          ],
          "name": "stdout"
        }
      ]
    },
    {
      "cell_type": "code",
      "metadata": {
        "id": "paMrm6BS6-8M",
        "colab_type": "code",
        "colab": {},
        "outputId": "9b967cef-3c7f-4ea6-f10c-5db363237782"
      },
      "source": [
        "# We can seperate the inputs by the comma also \n",
        "input_1, input_2= input(\"Enter two input values \").split(',')\n",
        "print(input_1)\n",
        "print(input_2)"
      ],
      "execution_count": null,
      "outputs": [
        {
          "output_type": "stream",
          "text": [
            "Enter two input values 123,54\n",
            "123\n",
            "54\n"
          ],
          "name": "stdout"
        }
      ]
    },
    {
      "cell_type": "code",
      "metadata": {
        "id": "HaRcXeCW6-8N",
        "colab_type": "code",
        "colab": {},
        "outputId": "d131a049-b47d-4dcb-d6bb-376d1d62717d"
      },
      "source": [
        "# Store the multiple inputs by the user in a list \n",
        "list_of_inputs= input(\"Enter some values \").split()\n",
        "print(list_of_inputs, type(list_of_inputs))"
      ],
      "execution_count": null,
      "outputs": [
        {
          "output_type": "stream",
          "text": [
            "Enter some values 123 a 12 3.5\n",
            "['123', 'a', '12', '3.5'] <class 'list'>\n"
          ],
          "name": "stdout"
        }
      ]
    },
    {
      "cell_type": "code",
      "metadata": {
        "id": "IrUm-FeH6-8P",
        "colab_type": "code",
        "colab": {},
        "outputId": "6358e98e-8502-44ed-eb5c-8a328347c4c9"
      },
      "source": [
        "date_list= input(\"Enter date \").split('/')\n",
        "# It will return a list of strings input by the user \n",
        "print(date_list)\n",
        "for element in date_list:\n",
        "    print(type(element))"
      ],
      "execution_count": null,
      "outputs": [
        {
          "output_type": "stream",
          "text": [
            "Enter date 08/02/2020\n",
            "['08', '02', '2020']\n",
            "<class 'str'>\n",
            "<class 'str'>\n",
            "<class 'str'>\n"
          ],
          "name": "stdout"
        }
      ]
    },
    {
      "cell_type": "code",
      "metadata": {
        "id": "g3Krjfnt6-8Q",
        "colab_type": "code",
        "colab": {},
        "outputId": "310072d3-4632-45fe-8497-7308cbc7b07b"
      },
      "source": [
        "list_1= [1, 2, 3]\n",
        "# Unpacking of a list \n",
        "a, b, c= list_1\n",
        "print(a)\n",
        "print(b)\n",
        "print(c)"
      ],
      "execution_count": null,
      "outputs": [
        {
          "output_type": "stream",
          "text": [
            "1\n",
            "2\n",
            "3\n"
          ],
          "name": "stdout"
        }
      ]
    },
    {
      "cell_type": "code",
      "metadata": {
        "id": "sSU5HJ_O6-8R",
        "colab_type": "code",
        "colab": {},
        "outputId": "a911cc36-6427-4ea6-fb56-88a979f0f9a1"
      },
      "source": [
        "# We want the date inputs entered by the user to be converted to int type\n",
        "# Below code will return a list of strings \n",
        "date_list= input(\"Enter date \").split('/')\n",
        "print(date_list)\n",
        "\n",
        "# Convert each element in the list of strings to the int type\n",
        "# And then unpack the list into three variables \n",
        "day, month, year= [int(ele) for ele in date_list]\n",
        "\n",
        "# Print each of the three variables along with their types \n",
        "print(day, type(day))\n",
        "print(month, type(month))\n",
        "print(year, type(year))"
      ],
      "execution_count": null,
      "outputs": [
        {
          "output_type": "stream",
          "text": [
            "Enter date 08/02/2020\n",
            "['08', '02', '2020']\n",
            "8 <class 'int'>\n",
            "2 <class 'int'>\n",
            "2020 <class 'int'>\n"
          ],
          "name": "stdout"
        }
      ]
    },
    {
      "cell_type": "code",
      "metadata": {
        "id": "oBvK7uyA6-8S",
        "colab_type": "code",
        "colab": {},
        "outputId": "95c5e4e1-a5f2-4069-8ba7-4614b8664a17"
      },
      "source": [
        "list_of_numbers = [1, 2, 3]\n",
        "list_of_squares= [ele*ele for ele in list_of_numbers]\n",
        "print(list_of_squares, type(list_of_squares))"
      ],
      "execution_count": null,
      "outputs": [
        {
          "output_type": "stream",
          "text": [
            "[1, 4, 9] <class 'list'>\n"
          ],
          "name": "stdout"
        }
      ]
    },
    {
      "cell_type": "markdown",
      "metadata": {
        "id": "hC0qmJrS6-8W",
        "colab_type": "text"
      },
      "source": [
        "### 4.3 More on i/p part 3"
      ]
    },
    {
      "cell_type": "code",
      "metadata": {
        "id": "1k-HsikF6-8W",
        "colab_type": "code",
        "colab": {},
        "outputId": "96ef37a3-4b42-4e82-cbc1-22a35a2b0860"
      },
      "source": [
        "a,b,c= [eval(x) for x in input().split(',')]\n",
        "print(type(a), type(b), type(c))"
      ],
      "execution_count": null,
      "outputs": [
        {
          "output_type": "stream",
          "text": [
            "'abc',3.2,23\n",
            "<class 'str'> <class 'float'> <class 'int'>\n"
          ],
          "name": "stdout"
        }
      ]
    },
    {
      "cell_type": "code",
      "metadata": {
        "id": "P_rA2Ln76-8Z",
        "colab_type": "code",
        "colab": {},
        "outputId": "b5baf272-2873-4d39-e218-e86db77d23ed"
      },
      "source": [
        "# Store the multiple inputs from user in a list \n",
        "list_of_inputs= [eval(x) for x in input(\"Enter any number of values \").split(\",\")]\n",
        "print(type(list_of_inputs))"
      ],
      "execution_count": null,
      "outputs": [
        {
          "output_type": "stream",
          "text": [
            "Enter 3 values 'sid',3,5.4\n",
            "<class 'list'>\n"
          ],
          "name": "stdout"
        }
      ]
    },
    {
      "cell_type": "code",
      "metadata": {
        "id": "IG08Gvqw6-8c",
        "colab_type": "code",
        "colab": {},
        "outputId": "1d7b1734-c7f7-4de5-e72c-a5b8e83f2ee1"
      },
      "source": [
        "# Store the multiple inputs from the user in a list \n",
        "list_of_inputs= input(\"Enter three values \").split(\",\")\n",
        "# Iterate through each element of the above list to evaluate the type of each element \n",
        "# Unpack the list into variables \n",
        "a, b, c= [eval(elmt) for elmt in list_of_inputs]\n",
        "print(type(a), type(b), type(c))"
      ],
      "execution_count": null,
      "outputs": [
        {
          "output_type": "stream",
          "text": [
            "Enter three values 'abc',3.2,11\n",
            "<class 'str'> <class 'float'> <class 'int'>\n"
          ],
          "name": "stdout"
        }
      ]
    },
    {
      "cell_type": "code",
      "metadata": {
        "id": "gMGO2YeP6-8e",
        "colab_type": "code",
        "colab": {},
        "outputId": "c4e60b02-7e7b-4448-c994-fc2cebf7bef2"
      },
      "source": [
        "# Final Objective- Store the multiple inputs from the user in a tuple \n",
        "list_of_strings= input(\"Enter three values \").split(\",\")\n",
        "\n",
        "# Iterate through each element of the above list to evaluate the type of each element \n",
        "revised_list= [eval(elmt) for elmt in list_of_strings]\n",
        "\n",
        "# Convert the revised_list into the tuple \n",
        "tuple_from_list=tuple(revised_list)\n",
        "# Print the type of tuple \n",
        "print(type(tuple_from_list))\n",
        "\n",
        "# Convert the revised list into set \n",
        "set_from_list=set(revised_list)\n",
        "# Print the type of set \n",
        "print(type(set_from_list))"
      ],
      "execution_count": null,
      "outputs": [
        {
          "output_type": "stream",
          "text": [
            "Enter three values 'abc',3.4,12\n",
            "<class 'tuple'>\n",
            "<class 'set'>\n"
          ],
          "name": "stdout"
        }
      ]
    },
    {
      "cell_type": "code",
      "metadata": {
        "id": "BBT7069U6-8g",
        "colab_type": "code",
        "colab": {},
        "outputId": "accc7336-0a85-4c8e-8e8c-0c3d0cba0e77"
      },
      "source": [
        "# Input the items of dictionary from a user \n",
        "d= dict(input().split('-') for _ in range(3))\n",
        "print(d)"
      ],
      "execution_count": null,
      "outputs": [
        {
          "output_type": "stream",
          "text": [
            "1-a\n",
            "2-b\n",
            "3-c\n",
            "{'1': 'a', '2': 'b', '3': 'c'}\n"
          ],
          "name": "stdout"
        }
      ]
    },
    {
      "cell_type": "code",
      "metadata": {
        "id": "kShVo-SF6-8h",
        "colab_type": "code",
        "colab": {},
        "outputId": "062d842e-3e94-43e6-c071-a0fa47ddcddb"
      },
      "source": [
        "d= {key:input(\"Enter the values of the keys \") for key in range(1,5)}\n",
        "print(d)"
      ],
      "execution_count": null,
      "outputs": [
        {
          "output_type": "stream",
          "text": [
            "Ajay\n",
            "Ravi\n",
            "Rahul\n",
            "Vinod\n",
            "{1: 'Ajay', 2: 'Ravi', 3: 'Rahul', 4: 'Vinod'}\n"
          ],
          "name": "stdout"
        }
      ]
    },
    {
      "cell_type": "code",
      "metadata": {
        "id": "SUKeKl386-8i",
        "colab_type": "code",
        "colab": {},
        "outputId": "da91cfb4-8993-4faa-d97d-500e9459a99e"
      },
      "source": [
        "# Input both key and value from the user and store each item in a dictionary  \n",
        "d1= {input(\"Key \"):input(\"Value \") for item_iteration in range(3)}\n",
        "print(d1)"
      ],
      "execution_count": null,
      "outputs": [
        {
          "output_type": "stream",
          "text": [
            "Value Amit\n",
            "Key 100\n",
            "Value Rahul\n",
            "Key 101\n",
            "Value Ajay\n",
            "Key 102\n",
            "{'100': 'Amit', '101': 'Rahul', '102': 'Ajay'}\n"
          ],
          "name": "stdout"
        }
      ]
    },
    {
      "cell_type": "markdown",
      "metadata": {
        "id": "TBMKCjH86-8j",
        "colab_type": "text"
      },
      "source": [
        "### 4.4 Function part 1\n",
        "\n",
        "- Function is a block of code which we can reuse in our program \n",
        "- We need 3 things to create a function \n",
        "  1. Function definition\n",
        "  2. Function body \n",
        "  3. Function call \n",
        "- We have 2 types of functions \n",
        "  1. Pre-defined functions \n",
        "  2. User defined functions "
      ]
    },
    {
      "cell_type": "code",
      "metadata": {
        "id": "L5DBo0Bd6-8j",
        "colab_type": "code",
        "colab": {},
        "outputId": "c625b7ce-9957-4f63-b3bb-7b52d1fcb3be"
      },
      "source": [
        "# Function to add the 2 numbers \n",
        "# Creating function definition and function body \n",
        "def add():\n",
        "    num1= int(input(\"Enter 1st number \"))\n",
        "    num2= int(input(\"Enter 2nd number \"))\n",
        "    sum= num1+num2\n",
        "    print('Sum of {} and {} is {}'.format(num1, num2, sum))\n",
        "\n",
        "# Calling the function \n",
        "add()"
      ],
      "execution_count": null,
      "outputs": [
        {
          "output_type": "stream",
          "text": [
            "Enter 1st number 2\n",
            "Enter 2nd number 3\n",
            "Sum of 2 and 3 is 5\n"
          ],
          "name": "stdout"
        }
      ]
    },
    {
      "cell_type": "markdown",
      "metadata": {
        "id": "CbDdj6gg6-8k",
        "colab_type": "text"
      },
      "source": [
        "### 4.5 Function part 2 \n",
        "\n",
        "Ways to define a function \n",
        "\n",
        "  1. Takes nothing return nothing (TNRN)\n",
        "  2. Takes something return nothing (TSRN)\n",
        "  3. Takes nothing return something (TNRS)\n",
        "  4. Takes something return something (TSRS) "
      ]
    },
    {
      "cell_type": "code",
      "metadata": {
        "id": "_EbfLR9M6-8k",
        "colab_type": "code",
        "colab": {},
        "outputId": "11316649-4ff3-4f8b-a39e-cec8dcf92007"
      },
      "source": [
        "# TAKES NOTHING RETURN NOTHING \n",
        "def add():\n",
        "    num1= int(input(\"Enter 1st number \"))\n",
        "    num2= int(input(\"Enter 2nd number \"))\n",
        "    sum= num1+num2\n",
        "    print('Sum of {} and {} is {}'.format(num1, num2, sum))\n",
        "\n",
        "# Calling the function \n",
        "add()"
      ],
      "execution_count": null,
      "outputs": [
        {
          "output_type": "stream",
          "text": [
            "Enter 1st number 2\n",
            "Enter 2nd number 4\n",
            "Sum of 2 and 4 is 6\n"
          ],
          "name": "stdout"
        }
      ]
    },
    {
      "cell_type": "code",
      "metadata": {
        "id": "ykEVSof36-8l",
        "colab_type": "code",
        "colab": {},
        "outputId": "a89cbfec-c42a-4f0e-b1f8-f4e1e89a4733"
      },
      "source": [
        "# TAKES SOMETHING RETURN NOTHING \n",
        "\n",
        "# Define the function name and code the function body \n",
        "def add(num1, num2):\n",
        "    print(\"Sum of {} and {} is {}\".format(num1, num2, num1+num2))\n",
        "\n",
        "# Now time to call the function but we need to pass the arguments \n",
        "add(3, 4)"
      ],
      "execution_count": null,
      "outputs": [
        {
          "output_type": "stream",
          "text": [
            "Sum of 3 and 4 is 7\n"
          ],
          "name": "stdout"
        }
      ]
    },
    {
      "cell_type": "code",
      "metadata": {
        "id": "nLQ50khB6-8n",
        "colab_type": "code",
        "colab": {},
        "outputId": "c794a92d-7711-4fb5-f0a9-dbe17642289c"
      },
      "source": [
        "# TAKES NOTHING RETURN SOMETHING \n",
        "\n",
        "# Define the function name and create the function body \n",
        "def add():\n",
        "    num1= int(input(\"Enter 1st number \"))\n",
        "    num2= int(input(\"Enter 2nd number \"))\n",
        "    sum= num1+num2\n",
        "    return sum \n",
        "\n",
        "# Now time to call the function \n",
        "sum= add()\n",
        "print(\"Sum of 2 numbers is:\",sum)"
      ],
      "execution_count": null,
      "outputs": [
        {
          "output_type": "stream",
          "text": [
            "Enter 1st number 3\n",
            "Enter 2nd number 5\n",
            "Sum of 2 numbers is: 8\n"
          ],
          "name": "stdout"
        }
      ]
    },
    {
      "cell_type": "code",
      "metadata": {
        "id": "AhUETYPC6-8o",
        "colab_type": "code",
        "colab": {},
        "outputId": "8bd31114-ecc8-4079-cdd0-b8ef9fab1046"
      },
      "source": [
        "# TAKES SOMETHING RETURN SOMETHING \n",
        "\n",
        "def add(num1, num2):\n",
        "    sum= num1+num2\n",
        "    return sum\n",
        "\n",
        "# Time to call our created function but don't forget to pass the arguments you defined while creating the add() function\n",
        "sum= add(3,4)\n",
        "print(\"Sum of 2 nos is:\",sum)"
      ],
      "execution_count": null,
      "outputs": [
        {
          "output_type": "stream",
          "text": [
            "Sum of 2 nos is: 7\n"
          ],
          "name": "stdout"
        }
      ]
    },
    {
      "cell_type": "markdown",
      "metadata": {
        "id": "qf7h5gMu6-8p",
        "colab_type": "text"
      },
      "source": [
        "### 4.6 Function part 3\n",
        "\n",
        "When function returns nothing ie no return keyword, it actually returns nothing "
      ]
    },
    {
      "cell_type": "code",
      "metadata": {
        "id": "HW8Wi1Zz6-8p",
        "colab_type": "code",
        "colab": {},
        "outputId": "e83b7aca-59b2-413f-904e-5a8e6df265df"
      },
      "source": [
        "def func():\n",
        "    print(\"Hello\")\n",
        "    \n",
        "x=func()\n",
        "print(x)\n",
        "print(type(x))"
      ],
      "execution_count": null,
      "outputs": [
        {
          "output_type": "stream",
          "text": [
            "Hello\n",
            "None\n",
            "<class 'NoneType'>\n"
          ],
          "name": "stdout"
        }
      ]
    },
    {
      "cell_type": "markdown",
      "metadata": {
        "id": "4PMv2-mP6-8q",
        "colab_type": "text"
      },
      "source": [
        "**Default Argument Rule**\n",
        "  \n",
        "- If we make an argument as default then we have to make all the arguments to the right of that default argument also as the  default.\n",
        "- The arguments we pass while calling the function goes in the same order of the parameters defined while creating the function.   "
      ]
    },
    {
      "cell_type": "code",
      "metadata": {
        "id": "_9Jf3wx76-8q",
        "colab_type": "code",
        "colab": {},
        "outputId": "c59bd12a-c32c-40e5-81e4-da1904f84529"
      },
      "source": [
        "# We make the argument as default by the equal to operator \n",
        "def add(a=0, b=0, c=0):\n",
        "    s=a+b+c\n",
        "    return s\n",
        "\n",
        "# Here 10 will go in variable a while b and c are by default 0 \n",
        "sum_1= add(10)\n",
        "print(sum_1)\n",
        "\n",
        "# Here 10 and 20 will go in the variable a and b while c is by default 0 \n",
        "sum_2= add(10, 20)\n",
        "print(sum_2)\n",
        "\n",
        "# Here we pass all the three arguments which will go to a, b and c respectively \n",
        "sum_3= add(10, 20, 30)\n",
        "print(sum_3)"
      ],
      "execution_count": null,
      "outputs": [
        {
          "output_type": "stream",
          "text": [
            "10\n",
            "30\n",
            "60\n"
          ],
          "name": "stdout"
        }
      ]
    },
    {
      "cell_type": "markdown",
      "metadata": {
        "id": "JmNCcKv-6-8r",
        "colab_type": "text"
      },
      "source": [
        "### 4.7 Functions Part 4 "
      ]
    },
    {
      "cell_type": "markdown",
      "metadata": {
        "id": "NqoGS2E66-8r",
        "colab_type": "text"
      },
      "source": [
        "**Keyword Argument**\n",
        "\n",
        "**Rule of thumb**- All the arguments after keyword argument must be keyword arguments. "
      ]
    },
    {
      "cell_type": "code",
      "metadata": {
        "id": "aRoLEYxc6-8r",
        "colab_type": "code",
        "colab": {},
        "outputId": "bc09ba35-084b-43e2-93cc-3906352ee76d"
      },
      "source": [
        "def f1(a, b):\n",
        "    print(\"a=\",a,\"b=\",b)\n",
        "\n",
        "f1(10, 20) # Positional Arguments \n",
        "f1(b=10, a=20) # Keyword Arguments are specified while we call the function "
      ],
      "execution_count": null,
      "outputs": [
        {
          "output_type": "stream",
          "text": [
            "a= 10 b= 20\n",
            "a= 20 b= 10\n"
          ],
          "name": "stdout"
        }
      ]
    },
    {
      "cell_type": "code",
      "metadata": {
        "id": "yOK8Puvj6-8s",
        "colab_type": "code",
        "colab": {},
        "outputId": "c9db4a74-fd77-47ae-cac5-7c8d1cade852"
      },
      "source": [
        "# The above rule is satisfied by the below code \n",
        "f1(10, b=20)"
      ],
      "execution_count": null,
      "outputs": [
        {
          "output_type": "stream",
          "text": [
            "a= 10 b= 20\n"
          ],
          "name": "stdout"
        }
      ]
    },
    {
      "cell_type": "code",
      "metadata": {
        "id": "aGv0dYTd6-8t",
        "colab_type": "code",
        "colab": {},
        "outputId": "934fd4d6-0769-4ae2-c5fd-60e74d09eedc"
      },
      "source": [
        "# The below code violates the above rule of keyword arguments \n",
        "f1(a=10, 20)"
      ],
      "execution_count": null,
      "outputs": [
        {
          "output_type": "error",
          "ename": "SyntaxError",
          "evalue": "positional argument follows keyword argument (<ipython-input-3-754623c0f504>, line 2)",
          "traceback": [
            "\u001b[1;36m  File \u001b[1;32m\"<ipython-input-3-754623c0f504>\"\u001b[1;36m, line \u001b[1;32m2\u001b[0m\n\u001b[1;33m    f1(a=10, 20)\u001b[0m\n\u001b[1;37m            ^\u001b[0m\n\u001b[1;31mSyntaxError\u001b[0m\u001b[1;31m:\u001b[0m positional argument follows keyword argument\n"
          ]
        }
      ]
    },
    {
      "cell_type": "code",
      "metadata": {
        "id": "uqoXpjFT6-8v",
        "colab_type": "code",
        "colab": {},
        "outputId": "8632e587-4b80-4cbd-b5ea-1632febf96fd"
      },
      "source": [
        "# The below code also gives error \n",
        "f1(10, a=20)"
      ],
      "execution_count": null,
      "outputs": [
        {
          "output_type": "error",
          "ename": "TypeError",
          "evalue": "f1() got multiple values for argument 'a'",
          "traceback": [
            "\u001b[1;31m---------------------------------------------------------------------------\u001b[0m",
            "\u001b[1;31mTypeError\u001b[0m                                 Traceback (most recent call last)",
            "\u001b[1;32m<ipython-input-4-754967fdbfe4>\u001b[0m in \u001b[0;36m<module>\u001b[1;34m\u001b[0m\n\u001b[0;32m      1\u001b[0m \u001b[1;31m# The below code also gives error\u001b[0m\u001b[1;33m\u001b[0m\u001b[1;33m\u001b[0m\u001b[1;33m\u001b[0m\u001b[0m\n\u001b[1;32m----> 2\u001b[1;33m \u001b[0mf1\u001b[0m\u001b[1;33m(\u001b[0m\u001b[1;36m10\u001b[0m\u001b[1;33m,\u001b[0m \u001b[0ma\u001b[0m\u001b[1;33m=\u001b[0m\u001b[1;36m20\u001b[0m\u001b[1;33m)\u001b[0m\u001b[1;33m\u001b[0m\u001b[1;33m\u001b[0m\u001b[0m\n\u001b[0m",
            "\u001b[1;31mTypeError\u001b[0m: f1() got multiple values for argument 'a'"
          ]
        }
      ]
    },
    {
      "cell_type": "code",
      "metadata": {
        "id": "_Lr_R69U6-8w",
        "colab_type": "code",
        "colab": {},
        "outputId": "38bfbb8f-70fa-411c-945c-5099ce08fa0f"
      },
      "source": [
        "# The below code also gives error \n",
        "f1(a=10, a=20)"
      ],
      "execution_count": null,
      "outputs": [
        {
          "output_type": "error",
          "ename": "SyntaxError",
          "evalue": "keyword argument repeated (<ipython-input-5-9e03c459bdde>, line 2)",
          "traceback": [
            "\u001b[1;36m  File \u001b[1;32m\"<ipython-input-5-9e03c459bdde>\"\u001b[1;36m, line \u001b[1;32m2\u001b[0m\n\u001b[1;33m    f1(a=10, a=20)\u001b[0m\n\u001b[1;37m            ^\u001b[0m\n\u001b[1;31mSyntaxError\u001b[0m\u001b[1;31m:\u001b[0m keyword argument repeated\n"
          ]
        }
      ]
    },
    {
      "cell_type": "markdown",
      "metadata": {
        "id": "-e83OCSv6-8x",
        "colab_type": "text"
      },
      "source": [
        "### 4.8 Functions part 5"
      ]
    },
    {
      "cell_type": "code",
      "metadata": {
        "id": "CIiraG_k6-8x",
        "colab_type": "code",
        "colab": {},
        "outputId": "d721e27a-5e8c-4952-fb05-238cdf361e64"
      },
      "source": [
        "# Variable length argument \n",
        "# This is defined while creating the function \n",
        "\n",
        "# User can pass any number of elements which are sored in the tuple n\n",
        "def avg(*n):\n",
        "    sum=0\n",
        "    for ele in n:\n",
        "        sum+=ele\n",
        "    average=sum/len(n)\n",
        "    if len(n)!=0:\n",
        "        return average \n",
        "    else:\n",
        "        return \"No elements\"\n",
        "    print(n, type(n))\n",
        "\n",
        "# Call the function avg() where user can pass any number of arguments \n",
        "average= avg(10, 20, 30)\n",
        "print(\"Average is\",average)"
      ],
      "execution_count": null,
      "outputs": [
        {
          "output_type": "stream",
          "text": [
            "Average is 20.0\n"
          ],
          "name": "stdout"
        }
      ]
    },
    {
      "cell_type": "code",
      "metadata": {
        "id": "F0gvUV-E6-8y",
        "colab_type": "code",
        "colab": {}
      },
      "source": [
        "def cal_points(playername, *points):\n",
        "    sum=0\n",
        "    for point in points:\n",
        "        sum+=point\n",
        "    print(\"Total Points=\",sum)\n",
        "\n",
        "# Now we will look which cases while function call gives error and which will not "
      ],
      "execution_count": null,
      "outputs": []
    },
    {
      "cell_type": "code",
      "metadata": {
        "id": "WGPAUQwF6-80",
        "colab_type": "code",
        "colab": {},
        "outputId": "29ffc1de-d527-4eaf-fa54-b3c7b6418611"
      },
      "source": [
        "cal_points(\"Ajay\",10, 11, 23)"
      ],
      "execution_count": null,
      "outputs": [
        {
          "output_type": "stream",
          "text": [
            "Total Points= 44\n"
          ],
          "name": "stdout"
        }
      ]
    },
    {
      "cell_type": "code",
      "metadata": {
        "id": "3Rl5C4wM6-81",
        "colab_type": "code",
        "colab": {},
        "outputId": "781c4136-228d-4a8a-a17f-f07b5a887d4c"
      },
      "source": [
        "cal_points(playername=\"Ajay\",10,20,30)"
      ],
      "execution_count": null,
      "outputs": [
        {
          "output_type": "error",
          "ename": "SyntaxError",
          "evalue": "positional argument follows keyword argument (<ipython-input-17-bd684c52297d>, line 1)",
          "traceback": [
            "\u001b[1;36m  File \u001b[1;32m\"<ipython-input-17-bd684c52297d>\"\u001b[1;36m, line \u001b[1;32m1\u001b[0m\n\u001b[1;33m    cal_points(playername=\"Ajay\",10,20,30)\u001b[0m\n\u001b[1;37m                                ^\u001b[0m\n\u001b[1;31mSyntaxError\u001b[0m\u001b[1;31m:\u001b[0m positional argument follows keyword argument\n"
          ]
        }
      ]
    },
    {
      "cell_type": "code",
      "metadata": {
        "id": "glV4EmOl6-82",
        "colab_type": "code",
        "colab": {}
      },
      "source": [
        "def cal_points(*points, playername):\n",
        "    sum=0\n",
        "    for point in points:\n",
        "        sum+=point\n",
        "    print(\"Total Points=\",sum)\n",
        "\n",
        "# Now we will look which cases while function call gives error and which will not"
      ],
      "execution_count": null,
      "outputs": []
    },
    {
      "cell_type": "code",
      "metadata": {
        "id": "L0bb_fhw6-82",
        "colab_type": "code",
        "colab": {},
        "outputId": "9c468b36-56a7-4df7-d09a-021b1bd171a1"
      },
      "source": [
        "# All these arguments will go into the tuple points \n",
        "cal_points(10,11,23,'Ajay')"
      ],
      "execution_count": null,
      "outputs": [
        {
          "output_type": "error",
          "ename": "TypeError",
          "evalue": "cal_points() missing 1 required keyword-only argument: 'playername'",
          "traceback": [
            "\u001b[1;31m---------------------------------------------------------------------------\u001b[0m",
            "\u001b[1;31mTypeError\u001b[0m                                 Traceback (most recent call last)",
            "\u001b[1;32m<ipython-input-19-451f3c1715f8>\u001b[0m in \u001b[0;36m<module>\u001b[1;34m\u001b[0m\n\u001b[1;32m----> 1\u001b[1;33m \u001b[0mcal_points\u001b[0m\u001b[1;33m(\u001b[0m\u001b[1;36m10\u001b[0m\u001b[1;33m,\u001b[0m\u001b[1;36m11\u001b[0m\u001b[1;33m,\u001b[0m\u001b[1;36m23\u001b[0m\u001b[1;33m,\u001b[0m\u001b[1;34m'Ajay'\u001b[0m\u001b[1;33m)\u001b[0m\u001b[1;33m\u001b[0m\u001b[1;33m\u001b[0m\u001b[0m\n\u001b[0m",
            "\u001b[1;31mTypeError\u001b[0m: cal_points() missing 1 required keyword-only argument: 'playername'"
          ]
        }
      ]
    },
    {
      "cell_type": "code",
      "metadata": {
        "id": "GzZealWV6-84",
        "colab_type": "code",
        "colab": {},
        "outputId": "b1e9a583-0066-4aaf-e137-dc0c3d0f1513"
      },
      "source": [
        "cal_points(10,11,23,playername='Ajay')"
      ],
      "execution_count": null,
      "outputs": [
        {
          "output_type": "stream",
          "text": [
            "Total Points= 44\n"
          ],
          "name": "stdout"
        }
      ]
    },
    {
      "cell_type": "markdown",
      "metadata": {
        "id": "6VIV3r7p6-84",
        "colab_type": "text"
      },
      "source": [
        "#### Variable length keyword argument "
      ]
    },
    {
      "cell_type": "code",
      "metadata": {
        "id": "GOeYZmcO6-87",
        "colab_type": "code",
        "colab": {},
        "outputId": "c25ba27c-b2d9-4e0f-975f-8c485bf146fd"
      },
      "source": [
        "# When at the time of function call we want to pass the variable number of arguments and also the keyword arguments \n",
        "\n",
        "# k will be a dictionary \n",
        "def f1(**k):\n",
        "    print(\"Person Information\")\n",
        "    for key, value in k.items():\n",
        "        print(key, \"-\", value)\n",
        "f1(name='Sameer', age=22)\n",
        "print('*'*70)\n",
        "f1(name='Rahul', marks=87, age=23)\n",
        "print('*'*70)\n",
        "f1(name='Ajay', empid=125, salary=35000)"
      ],
      "execution_count": null,
      "outputs": [
        {
          "output_type": "stream",
          "text": [
            "Person Information\n",
            "name - Sameer\n",
            "age - 22\n",
            "**********************************************************************\n",
            "Person Information\n",
            "name - Rahul\n",
            "marks - 87\n",
            "age - 23\n",
            "**********************************************************************\n",
            "Person Information\n",
            "name - Ajay\n",
            "empid - 125\n",
            "salary - 35000\n"
          ],
          "name": "stdout"
        }
      ]
    },
    {
      "cell_type": "markdown",
      "metadata": {
        "id": "oCrx828M6-88",
        "colab_type": "text"
      },
      "source": [
        "### 4.9 Recursion \n",
        "\n",
        "- Function calling itsef is called recursion. \n",
        "- Solution of problem is defined with the help of the result of simpler version of the same problem, then the solution is   \n",
        "  recursive. \n",
        "  \n",
        "Recursion has 3 parts \n",
        "    \n",
        "     1. Function Formation \n",
        "     2. Base Case (where we want to stop our function call)\n",
        "     3. Recursive Case \n",
        "     \n",
        "Advantages of Recursion \n",
        "\n",
        "     1. Easy formulation of code \n",
        "     2. Easy code readibility "
      ]
    },
    {
      "cell_type": "code",
      "metadata": {
        "id": "IQkpUWWH6-88",
        "colab_type": "code",
        "colab": {},
        "outputId": "91656409-3bc8-46a8-c638-6f9eb4ce39e5"
      },
      "source": [
        "# Program to calculate the sum of n natural numbers without recursion \n",
        "def sum_of_nat(n):\n",
        "    sum=0\n",
        "    for i in range(1, n+1):\n",
        "        sum+=i\n",
        "    return sum\n",
        "\n",
        "# Calling our function \n",
        "num= int(input(\"Enter the value of N \"))\n",
        "result= sum_of_nat(num)\n",
        "print(\"Sum of {} natural numbers is {}\".format(num, result))"
      ],
      "execution_count": null,
      "outputs": [
        {
          "output_type": "stream",
          "text": [
            "Enter the value of N 6\n",
            "Sum of 6 natural numbers is 21\n"
          ],
          "name": "stdout"
        }
      ]
    },
    {
      "cell_type": "code",
      "metadata": {
        "id": "h_NODuM06-89",
        "colab_type": "code",
        "colab": {},
        "outputId": "d0ecbc18-8dc5-4490-ea62-9daeeff6ff19"
      },
      "source": [
        "# Recursive Program to calculate the sum of n natural numbers\n",
        "def sum(n):\n",
        "    if n==1:\n",
        "        return 1 \n",
        "    else:\n",
        "        return n+sum(n-1)\n",
        "\n",
        "# Calling our function \n",
        "num= int(input(\"Enter the value of N \"))\n",
        "result= sum(num)\n",
        "print(\"Sum of {} natural numbers is {}\".format(num, result))"
      ],
      "execution_count": null,
      "outputs": [
        {
          "output_type": "stream",
          "text": [
            "Enter the value of N 6\n",
            "Sum of 6 natural numbers is 21\n"
          ],
          "name": "stdout"
        }
      ]
    },
    {
      "cell_type": "markdown",
      "metadata": {
        "id": "hinIYhCL6-8-",
        "colab_type": "text"
      },
      "source": [
        "### 4.10 Lambda Functions \n",
        "\n",
        "- These are the anonymous functions without any name. "
      ]
    },
    {
      "cell_type": "code",
      "metadata": {
        "id": "B2fc3zfz6-8_",
        "colab_type": "code",
        "colab": {},
        "outputId": "27c80c09-0795-4e12-dfec-e881441a9e2f"
      },
      "source": [
        "# Lambda function to calculate the sum of 2 numbers \n",
        "# sum is the function name \n",
        "# num1 and num2 are the arguments \n",
        "# function will return the sum of 2 numbers \n",
        "sum= lambda num1,num2: num1+num2\n",
        "\n",
        "# Call the lambda function same as the normal function\n",
        "res= sum(10,20)\n",
        "print(\"Sum of given 2 numbers is:\",res)"
      ],
      "execution_count": null,
      "outputs": [
        {
          "output_type": "stream",
          "text": [
            "Sum of given 2 numbers is: 30\n"
          ],
          "name": "stdout"
        }
      ]
    },
    {
      "cell_type": "code",
      "metadata": {
        "id": "gvN9MQBv6-8_",
        "colab_type": "code",
        "colab": {},
        "outputId": "97fa24df-efe7-4e76-fa8f-f6aa9a50fd7f"
      },
      "source": [
        "res= (lambda a,b:a+b) (10,20)\n",
        "print(\"Sum is\",res)"
      ],
      "execution_count": null,
      "outputs": [
        {
          "output_type": "stream",
          "text": [
            "Sum is 30\n"
          ],
          "name": "stdout"
        }
      ]
    },
    {
      "cell_type": "code",
      "metadata": {
        "id": "Z59ZbezG6-9A",
        "colab_type": "code",
        "colab": {},
        "outputId": "2630fec2-48c1-4f49-a618-96f9a4622a39"
      },
      "source": [
        "# Program to calculate the greater of 2 numbers \n",
        "print(\"Enter two numbers\")\n",
        "res= (lambda a,b:a if a>b else b) (int(input()), int(input()))\n",
        "print(\"Greater number is\",res)"
      ],
      "execution_count": null,
      "outputs": [
        {
          "output_type": "stream",
          "text": [
            "Enter two numbers\n",
            "12\n",
            "13\n",
            "Greater number is 13\n"
          ],
          "name": "stdout"
        }
      ]
    },
    {
      "cell_type": "markdown",
      "metadata": {
        "id": "5kBg7Jv06-9C",
        "colab_type": "text"
      },
      "source": [
        "#### Recursion in lambda expression"
      ]
    },
    {
      "cell_type": "code",
      "metadata": {
        "id": "63VFmwNE6-9C",
        "colab_type": "code",
        "colab": {},
        "outputId": "9e1a4d22-8277-4537-958b-fb440815f68d"
      },
      "source": [
        "# Factorial of a number without recursion \n",
        "def factorial(num):\n",
        "    fact=1\n",
        "    for i in range(num,1,-1):\n",
        "        fact*=i\n",
        "    return fact\n",
        "\n",
        "# Call the function \n",
        "num= int(input(\"Enter the number whose factorial has to calculated \"))\n",
        "result=factorial(num)\n",
        "print(\"Factorial of {} is {}\".format(num,result))"
      ],
      "execution_count": null,
      "outputs": [
        {
          "output_type": "stream",
          "text": [
            "Enter the number whose factorial has to calculated 10\n",
            "Factorial of 10 is 3628800\n"
          ],
          "name": "stdout"
        }
      ]
    },
    {
      "cell_type": "code",
      "metadata": {
        "id": "poOGWq9c6-9D",
        "colab_type": "code",
        "colab": {},
        "outputId": "5bd8e29d-f0e4-45a3-bcb1-e369bd7edf81"
      },
      "source": [
        "# Factorial of a number with recursion \n",
        "def factorial(num):\n",
        "    if num==1:\n",
        "        return 1\n",
        "    else:\n",
        "        return num*factorial(num-1)\n",
        "\n",
        "# Call the function \n",
        "num= int(input(\"Enter the number whose factorial has to calculated \"))\n",
        "result=factorial(num)\n",
        "print(\"Factorial of {} is {}\".format(num,result))"
      ],
      "execution_count": null,
      "outputs": [
        {
          "output_type": "stream",
          "text": [
            "Enter the number whose factorial has to calculated 10\n",
            "Factorial of 10 is 3628800\n"
          ],
          "name": "stdout"
        }
      ]
    },
    {
      "cell_type": "code",
      "metadata": {
        "id": "BxAL0nop6-9D",
        "colab_type": "code",
        "colab": {},
        "outputId": "f9bb725f-6f86-4300-a96c-ff6acb7b3cd1"
      },
      "source": [
        "# Recursion in lambda expression \n",
        "fact= lambda num:1 if num==1 else num*fact(num-1)\n",
        "n= int(input(\"Enter the number whose factorial has to calculated \"))\n",
        "res=fact(n)\n",
        "print(\"Factorial of {} is {}\".format(n,res))"
      ],
      "execution_count": null,
      "outputs": [
        {
          "output_type": "stream",
          "text": [
            "Enter the number whose factorial has to calculated 10\n",
            "Factorial of 10 is 3628800\n"
          ],
          "name": "stdout"
        }
      ]
    },
    {
      "cell_type": "markdown",
      "metadata": {
        "id": "LygSKsCa6-9E",
        "colab_type": "text"
      },
      "source": [
        "### 4.11 Decorators "
      ]
    },
    {
      "cell_type": "markdown",
      "metadata": {
        "id": "O3H68lnU6-9E",
        "colab_type": "text"
      },
      "source": [
        "### 4.12 Exception Handing part 1 \n",
        "\n",
        "There are two types of errors which can arise in a program \n",
        "     \n",
        "     1. Syntax Errors \n",
        "     2. Runtime Errors -----> This is called Exception \n",
        "     \n",
        "There is **Normal Flow** and **Exception Flow**"
      ]
    },
    {
      "cell_type": "code",
      "metadata": {
        "id": "eAWuwZwr6-9F",
        "colab_type": "code",
        "colab": {},
        "outputId": "bbae5f3c-339e-4fa0-c3ae-2e6569099c0a"
      },
      "source": [
        "# Below code will throw an error (exception at run time) as string cannot be added with an int type \n",
        "# This code will give TypeError ---> This is a type of Exception Class in Python \n",
        "\n",
        "num1= int(input(\"Enter first number \"))\n",
        "# If by mistake we forget to convert our string input to int type \n",
        "num2= input(\"Enter second number \")\n",
        "print(\"Sum is \",num1+num2)"
      ],
      "execution_count": null,
      "outputs": [
        {
          "output_type": "stream",
          "text": [
            "Enter first number 12\n",
            "Enter second number 23\n"
          ],
          "name": "stdout"
        },
        {
          "output_type": "error",
          "ename": "TypeError",
          "evalue": "unsupported operand type(s) for +: 'int' and 'str'",
          "traceback": [
            "\u001b[1;31m---------------------------------------------------------------------------\u001b[0m",
            "\u001b[1;31mTypeError\u001b[0m                                 Traceback (most recent call last)",
            "\u001b[1;32m<ipython-input-26-ee1afab1210a>\u001b[0m in \u001b[0;36m<module>\u001b[1;34m\u001b[0m\n\u001b[0;32m      2\u001b[0m \u001b[1;31m# If we by mistake forget to convert our string input to int type\u001b[0m\u001b[1;33m\u001b[0m\u001b[1;33m\u001b[0m\u001b[1;33m\u001b[0m\u001b[0m\n\u001b[0;32m      3\u001b[0m \u001b[0mnum2\u001b[0m\u001b[1;33m=\u001b[0m \u001b[0minput\u001b[0m\u001b[1;33m(\u001b[0m\u001b[1;34m\"Enter second number \"\u001b[0m\u001b[1;33m)\u001b[0m\u001b[1;33m\u001b[0m\u001b[1;33m\u001b[0m\u001b[0m\n\u001b[1;32m----> 4\u001b[1;33m \u001b[0mprint\u001b[0m\u001b[1;33m(\u001b[0m\u001b[1;34m\"Sum is \"\u001b[0m\u001b[1;33m,\u001b[0m\u001b[0mnum1\u001b[0m\u001b[1;33m+\u001b[0m\u001b[0mnum2\u001b[0m\u001b[1;33m)\u001b[0m\u001b[1;33m\u001b[0m\u001b[1;33m\u001b[0m\u001b[0m\n\u001b[0m",
            "\u001b[1;31mTypeError\u001b[0m: unsupported operand type(s) for +: 'int' and 'str'"
          ]
        }
      ]
    },
    {
      "cell_type": "code",
      "metadata": {
        "id": "sIBuL3fn6-9F",
        "colab_type": "code",
        "colab": {},
        "outputId": "d751873d-bdee-4362-a63d-ad695ab2a3db"
      },
      "source": [
        "# Below code will throw an error (exception at runtime) as a number cannot be divided by 0\n",
        "# This code will give ZeroDivisionError ---> This is a type of Exception Class in Python \n",
        "\n",
        "num1= int(input(\"Enter first number \"))\n",
        "# If by mistake the user entered 0 as the second number \n",
        "num2= int(input(\"Enter second number \"))\n",
        "print(\"Division is \",num1/num2)"
      ],
      "execution_count": null,
      "outputs": [
        {
          "output_type": "stream",
          "text": [
            "Enter first number 22\n",
            "Enter second number 0\n"
          ],
          "name": "stdout"
        },
        {
          "output_type": "error",
          "ename": "ZeroDivisionError",
          "evalue": "division by zero",
          "traceback": [
            "\u001b[1;31m---------------------------------------------------------------------------\u001b[0m",
            "\u001b[1;31mZeroDivisionError\u001b[0m                         Traceback (most recent call last)",
            "\u001b[1;32m<ipython-input-28-fee9ce2a04f6>\u001b[0m in \u001b[0;36m<module>\u001b[1;34m\u001b[0m\n\u001b[0;32m      4\u001b[0m \u001b[1;31m# If by mistake the user entered 0 as the second number\u001b[0m\u001b[1;33m\u001b[0m\u001b[1;33m\u001b[0m\u001b[1;33m\u001b[0m\u001b[0m\n\u001b[0;32m      5\u001b[0m \u001b[0mnum2\u001b[0m\u001b[1;33m=\u001b[0m \u001b[0mint\u001b[0m\u001b[1;33m(\u001b[0m\u001b[0minput\u001b[0m\u001b[1;33m(\u001b[0m\u001b[1;34m\"Enter second number \"\u001b[0m\u001b[1;33m)\u001b[0m\u001b[1;33m)\u001b[0m\u001b[1;33m\u001b[0m\u001b[1;33m\u001b[0m\u001b[0m\n\u001b[1;32m----> 6\u001b[1;33m \u001b[0mprint\u001b[0m\u001b[1;33m(\u001b[0m\u001b[1;34m\"Division is \"\u001b[0m\u001b[1;33m,\u001b[0m\u001b[0mnum1\u001b[0m\u001b[1;33m/\u001b[0m\u001b[0mnum2\u001b[0m\u001b[1;33m)\u001b[0m\u001b[1;33m\u001b[0m\u001b[1;33m\u001b[0m\u001b[0m\n\u001b[0m",
            "\u001b[1;31mZeroDivisionError\u001b[0m: division by zero"
          ]
        }
      ]
    },
    {
      "cell_type": "markdown",
      "metadata": {
        "id": "k_3S3osQ6-9G",
        "colab_type": "text"
      },
      "source": [
        "**Note** - If an error occur at run time then the python will automatically create and then raise the object of the corrosponding exception class. \n",
        "\n",
        "**Default Except Mechanism**- If python encounter any error in the code, then it will run DEM in the form of error message. \n",
        "\n",
        "**Note**- The program will end upon the execution of DEM ie no line after the error line would be executed. But what if these lines after the error are important that needs to be executed and we don't want our program to come to an end and systematically handle the situation so that user can understand the error situation and whole program in fully executed.\n",
        "\n",
        "| Raise an exception | Handle an Exception |\n",
        "| --- | --- |\n",
        "| 1) Python   |  Default Exception Mechanism |\n",
        "| 2) Python   |  Exception Mechanism by User        |\n",
        "| 3) User     |  Default Exception Mechanism |\n",
        "| 4) User     |  Exception Mechanism by User         |       \n",
        "\n",
        "**2 Types of Exception**\n",
        "   \n",
        "    1. Pre-defined Exception \n",
        "    2. User Defined Exception \n",
        "  \n",
        "**Keywords used in Exception Handling**\n",
        "\n",
        "    1. try \n",
        "    2. except \n",
        "    3. finally\n",
        "    4. raise "
      ]
    },
    {
      "cell_type": "markdown",
      "metadata": {
        "id": "szhV4ypI6-9G",
        "colab_type": "text"
      },
      "source": [
        "### 4.13 Exception handling part 2 "
      ]
    },
    {
      "cell_type": "code",
      "metadata": {
        "id": "pGTmlNBy6-9G",
        "colab_type": "code",
        "colab": {},
        "outputId": "5f7c50a3-6736-453f-a15d-f4194d0e1ac7"
      },
      "source": [
        "# Case 2 Python will raise the exception and user will handle this exception \n",
        "\n",
        "# If there is no exception raised by python then full try block will execute and will not enter except block \n",
        "# If there is exception then try block uptill error line will execute and the flow will enter to except block. \n",
        "# If DEM executes then no line after exception executes and program will end. \n",
        "# But if exception is handled by user then program will not end that is all the lines are executed. \n",
        "\n",
        "x= int(input(\"Enter 1st number \"))\n",
        "y= int(input(\"Enter 2nd number \"))\n",
        "try:\n",
        "    z=x/y\n",
        "    print(\"Division result\", z)\n",
        "except ZeroDivisionError:\n",
        "    print(\"Invalid attempt of Division\")\n",
        "print(\"This is last line \")"
      ],
      "execution_count": null,
      "outputs": [
        {
          "output_type": "stream",
          "text": [
            "Enter 1st number 12\n",
            "Enter 2nd number 0\n",
            "Invalid attempt of Division\n",
            "This is last line \n"
          ],
          "name": "stdout"
        }
      ]
    },
    {
      "cell_type": "markdown",
      "metadata": {
        "id": "b9i2w1DY6-9H",
        "colab_type": "text"
      },
      "source": [
        "#### Some rules \n",
        "\n",
        "1. Include that code in try block in which exception can occur. \n",
        "2. We cannot create except block without the creation of try block. \n",
        "3. The name of the exception class in the except block should match with the type of exception raised. \n",
        "4. If no exception is raised in try block then except block is skipped. \n",
        "5. We can create multiple except blocks for one try block as different types of exception can occur in try block. \n",
        "6. If the raised exception do not match with any of the exept block class names then default except mechanism will execute and the program will end. \n",
        "7. If python encounters any exception in try block then it will immediately goes to except block that matches with the raised exception and other lines in the try block will not be executed. \n",
        "8. Finally block runs always and if the exception raised does not matches with any of the class names of the except block then DEM would be executed but before that finally block would be executed.  "
      ]
    },
    {
      "cell_type": "code",
      "metadata": {
        "id": "Cuw3FJ7u6-9H",
        "colab_type": "code",
        "colab": {},
        "outputId": "5c712392-73de-4503-f5ae-e88b6c84bbba"
      },
      "source": [
        "# If no exception is raised then also finally block will be executed.  \n",
        "# If exception is raised then also finally block will be executed. \n",
        "# We include that code in the finally block which we want to executed in all the cases whether the exception occurs or not. \n",
        "\n",
        "x= int(input(\"Enter 1st number \"))\n",
        "y= int(input(\"Enter 2nd number \"))\n",
        "try:\n",
        "    z=x/y\n",
        "    print(\"Division result\", z)\n",
        "except ZeroDivisionError:\n",
        "    print(\"Invalid attempt of Division\")\n",
        "finally:\n",
        "    print(\"Finally executing...\")"
      ],
      "execution_count": null,
      "outputs": [
        {
          "output_type": "stream",
          "text": [
            "Enter 1st number 12\n",
            "Enter 2nd number 0\n",
            "Invalid attempt of Division\n",
            "Finally executing...\n"
          ],
          "name": "stdout"
        }
      ]
    },
    {
      "cell_type": "markdown",
      "metadata": {
        "id": "k_8q3qMH6-9I",
        "colab_type": "text"
      },
      "source": [
        "#### Some more rules \n",
        "9. Order of the creation of the blocks is as follows \n",
        "\n",
        "       try\n",
        "        |\n",
        "       except (0 or more)\n",
        "        |\n",
        "       finally (0 or 1) \n",
        "       \n",
        "10. If there is try block then there must be atleast an except block or finally block. There cannot be a situation where no except or finally block exists with the try block. \n",
        "11. We can create multiple try blocks in one program and each try block must have atleast 1 except block or 1 finally block or we can have both except blocks and finally block in our code.\n",
        "12. If the raised exception does not matches with the any of the class names of the except blocks then it will execute the except block which has no exception class name ie here no DEM execution takes place and program will not end. "
      ]
    },
    {
      "cell_type": "code",
      "metadata": {
        "id": "JuhaSxEb6-9I",
        "colab_type": "code",
        "colab": {},
        "outputId": "9c209d53-56c2-496c-d00e-c5dd4e219f96"
      },
      "source": [
        "x= int(input(\"Enter 1st number \"))\n",
        "y= int(input(\"Enter 2nd number \"))\n",
        "try:\n",
        "    z=x/y\n",
        "    print(\"Division result\", z)\n",
        "except (ZeroDivisionError, TypeError, ValueError):\n",
        "    print(\"Invalid attempt of Division\")\n",
        "except:\n",
        "    print(\"Default Exception\")\n",
        "finally:\n",
        "    print(\"Finally executing...\")\n",
        "print(\"This is the last line\")"
      ],
      "execution_count": null,
      "outputs": [
        {
          "output_type": "stream",
          "text": [
            "Enter 1st number 12\n",
            "Enter 2nd number 0\n",
            "Invalid attempt of Division\n",
            "Finally executing...\n",
            "This is the last line\n"
          ],
          "name": "stdout"
        }
      ]
    },
    {
      "cell_type": "markdown",
      "metadata": {
        "id": "8mzplUas6-9K",
        "colab_type": "text"
      },
      "source": [
        "13. Else will be executed only if no exception is raised in the try block"
      ]
    },
    {
      "cell_type": "code",
      "metadata": {
        "id": "oW3B2OQR6-9K",
        "colab_type": "code",
        "colab": {},
        "outputId": "cad52d57-5f5c-46d1-84fe-27a37847a44d"
      },
      "source": [
        "# Some optimization to the above code \n",
        "try:\n",
        "    x= int(input(\"Enter 1st number \"))\n",
        "    y= int(input(\"Enter 2nd number \"))\n",
        "    z=x/y\n",
        "    print(\"Division result\", z)\n",
        "except ValueError:\n",
        "    print(\"Input value should be of integer type\")\n",
        "except ZeroDivisionError:\n",
        "    print(\"Invalid attempt of Division\")\n",
        "except:\n",
        "    print(\"Default Exception\")\n",
        "else:\n",
        "    print(\"No exception is raised in the try block \")\n",
        "finally:\n",
        "    print(\"Finally executing...\")\n",
        "print(\"This is the last line\")"
      ],
      "execution_count": null,
      "outputs": [
        {
          "output_type": "stream",
          "text": [
            "Enter 1st number 12\n",
            "Enter 2nd number 2\n",
            "Division result 6.0\n",
            "No exception is raised in the try block \n",
            "Finally executing...\n",
            "This is the last line\n"
          ],
          "name": "stdout"
        }
      ]
    },
    {
      "cell_type": "markdown",
      "metadata": {
        "id": "k3a2q0sK6-9L",
        "colab_type": "text"
      },
      "source": [
        "## Chapter 5 - Object Oriented Programming in Python "
      ]
    },
    {
      "cell_type": "markdown",
      "metadata": {
        "id": "DyP4W2jv6-9L",
        "colab_type": "text"
      },
      "source": [
        "### 5.1 OOP "
      ]
    },
    {
      "cell_type": "markdown",
      "metadata": {
        "id": "StQBPbp56-9L",
        "colab_type": "text"
      },
      "source": [
        "1) <b>Procedural oriented way of Programming</b> - Use of functions to achieve any task\n",
        "\n",
        "2) <b>Object Oriented way of Programming</b> - \n",
        "\n",
        "        Code is more organised and easy to maintain \n",
        "        \n",
        "        Object is the collection of data and function \n",
        "        \n",
        "Main Aspects of OOP \n",
        "   \n",
        "     1. Classes and Objects \n",
        "     2. Inheritance \n",
        "     3. Polymorphism \n",
        "     4. Data Hiding "
      ]
    },
    {
      "cell_type": "markdown",
      "metadata": {
        "id": "vpZgDUfX6-9L",
        "colab_type": "text"
      },
      "source": [
        "### 5.2 Classes and Objects Part 1 "
      ]
    },
    {
      "cell_type": "markdown",
      "metadata": {
        "id": "cvfod1Dw6-9L",
        "colab_type": "text"
      },
      "source": [
        "- Class is a keyword.  \n",
        "- Class has some name. \n",
        "- Class encapsulates data and functions.  \n",
        "- Creating class is creating type.  \n",
        "- Class is a description of object (house created from map is object and map is class) \n",
        "- Class is blueprint of the object. \n",
        "- int, float, complex, str, tuple, list, set, dict are all built in classes. \n",
        "- When we write x=5, it means x is a reference variable which is referring to an object that contains the variable in which 5 is stored. "
      ]
    },
    {
      "cell_type": "code",
      "metadata": {
        "id": "Ka-pORUO6-9M",
        "colab_type": "code",
        "colab": {},
        "outputId": "bb7d5a15-4843-427a-c026-182400a1d75a"
      },
      "source": [
        "x=5\n",
        "# Calling the function \n",
        "# Returns the binary bits of the number \n",
        "bit_len= x.bit_length()\n",
        "print(bit_len)"
      ],
      "execution_count": null,
      "outputs": [
        {
          "output_type": "stream",
          "text": [
            "3\n"
          ],
          "name": "stdout"
        }
      ]
    },
    {
      "cell_type": "code",
      "metadata": {
        "id": "OFtb7jW26-9N",
        "colab_type": "code",
        "colab": {},
        "outputId": "a02e57e4-1b2f-47ea-8773-86de2863a8a3"
      },
      "source": [
        "# l is the object of the class list \n",
        "l= [1, 2, 3]\n",
        "# Function available in the class list \n",
        "l.append(4)\n",
        "print(l)"
      ],
      "execution_count": null,
      "outputs": [
        {
          "output_type": "stream",
          "text": [
            "[1, 2, 3, 4]\n"
          ],
          "name": "stdout"
        }
      ]
    },
    {
      "cell_type": "markdown",
      "metadata": {
        "id": "TMa1gbsO6-9O",
        "colab_type": "text"
      },
      "source": [
        "Variable -----> Fields \n",
        "\n",
        "Function -----> Method \n",
        "\n",
        "Both are called Attributes \n",
        "\n",
        "Object is an instance of the Class. \n",
        "\n",
        "Instance= Object \n",
        "\n",
        "You can create any number of objects of some class, but you have to define class first. "
      ]
    },
    {
      "cell_type": "markdown",
      "metadata": {
        "id": "aS7d2lEl6-9O",
        "colab_type": "text"
      },
      "source": [
        "### 5.3 Classes and Objects Part 2 "
      ]
    },
    {
      "cell_type": "code",
      "metadata": {
        "id": "B09fLtKt6-9O",
        "colab_type": "code",
        "colab": {},
        "outputId": "000b27fc-c830-47e1-b24b-ecd7214c7ade"
      },
      "source": [
        "class Test: \n",
        "    i=10\n",
        "    def f1():\n",
        "        print(\"Hello\")\n",
        "\n",
        "# This is class object \n",
        "print(Test.i)\n",
        "Test.f1()\n",
        "\n",
        "# Below is the reference variable t1 pointing to the object of class test \n",
        "t1= Test()\n",
        "\n",
        "# What happens during instantiation \n",
        "# We call the class object which creates the empty instance. \n"
      ],
      "execution_count": null,
      "outputs": [
        {
          "output_type": "stream",
          "text": [
            "10\n",
            "Hello\n"
          ],
          "name": "stdout"
        }
      ]
    },
    {
      "cell_type": "markdown",
      "metadata": {
        "id": "XU7GQrcf6-9P",
        "colab_type": "text"
      },
      "source": [
        "### 5.4 Classes and Objects Part 3 \n",
        "\n",
        "- We can write a special function in our class __init__() \n",
        "\n",
        "- t1=ClassName() As we create the object of the class and if we have defined the init function inside this class, then it is called. \n",
        "\n",
        "- If no init function is defined inside the class then upon object creation, no function is called. \n",
        "\n",
        "- When we create the object then by default init function is called and it takes the object as its argument. \n",
        "\n",
        "- init function must contain atleast 1 argument. \n"
      ]
    },
    {
      "cell_type": "code",
      "metadata": {
        "id": "dr1nrIXf6-9P",
        "colab_type": "code",
        "colab": {},
        "outputId": "b3ad9aaa-ff06-491a-a5ca-924dcc58aa90"
      },
      "source": [
        "class Test: \n",
        "    i=10\n",
        "    def __init__(self):\n",
        "        print(\"init\")\n",
        "    def f1():\n",
        "        print(\"hello\")\n",
        "        \n",
        "t1= Test()\n",
        "t2= Test()\n",
        "t3= Test()"
      ],
      "execution_count": null,
      "outputs": [
        {
          "output_type": "stream",
          "text": [
            "init\n",
            "init\n",
            "init\n"
          ],
          "name": "stdout"
        }
      ]
    },
    {
      "cell_type": "code",
      "metadata": {
        "id": "1AvEHELN6-9Q",
        "colab_type": "code",
        "colab": {},
        "outputId": "a4910823-afce-4e96-9386-3717660cc1c3"
      },
      "source": [
        "class Test:\n",
        "    def __init__(self):\n",
        "        # These are instance/object variables \n",
        "        self.a=10\n",
        "        self.b=20\n",
        "        \n",
        "t1= Test()\n",
        "t2= Test()\n",
        "t3= Test()\n",
        "\n",
        "print(t1.a, t1.b)\n",
        "print(t2.a, t2.b)\n",
        "print(t3.a, t3.b)"
      ],
      "execution_count": null,
      "outputs": [
        {
          "output_type": "stream",
          "text": [
            "10 20\n",
            "10 20\n",
            "10 20\n"
          ],
          "name": "stdout"
        }
      ]
    },
    {
      "cell_type": "markdown",
      "metadata": {
        "id": "aaj0wcrS6-9Q",
        "colab_type": "text"
      },
      "source": [
        "**Note**: Both t1 and self are pointing to the same object and when we write self.a and self.b then we create a and b variables\n",
        "inside the object at which t1 and self are pointing to. "
      ]
    },
    {
      "cell_type": "code",
      "metadata": {
        "id": "a8RCkvAm6-9R",
        "colab_type": "code",
        "colab": {},
        "outputId": "32f7b85e-4169-4bd5-c9fa-de58c76c9e39"
      },
      "source": [
        "class Test:\n",
        "    def __init__(self, x, y):\n",
        "        self.a= x\n",
        "        self.b= y\n",
        "        \n",
        "t1= Test(1,2)\n",
        "t2= Test(3,4)\n",
        "t3= Test(5,6)\n",
        "\n",
        "print(t1.a, t1.b)\n",
        "print(t2.a, t2.b)\n",
        "print(t3.a, t3.b)"
      ],
      "execution_count": null,
      "outputs": [
        {
          "output_type": "stream",
          "text": [
            "1 2\n",
            "3 4\n",
            "5 6\n"
          ],
          "name": "stdout"
        }
      ]
    },
    {
      "cell_type": "markdown",
      "metadata": {
        "id": "Jldmnzg16-9R",
        "colab_type": "text"
      },
      "source": [
        "### 5.5 Classes and Objects Part 4  "
      ]
    },
    {
      "cell_type": "code",
      "metadata": {
        "id": "w1_zRszG6-9S",
        "colab_type": "code",
        "colab": {},
        "outputId": "f48b280a-952b-4ae6-8337-cc354108d530"
      },
      "source": [
        "# Class is the description of the object \n",
        "# Object is an instance of Class \n",
        "# Objects are created dynamically in python\n",
        "# With dot operator we can access the members (variables and functions) of the class. \n",
        "\n",
        "\n",
        "class Student:\n",
        "    def __init__(self,name,age):\n",
        "        self.name=name\n",
        "        self.age=age\n",
        "        \n",
        "    # This function cannot access instance variables \n",
        "    def f1():\n",
        "        print(\"I cannot access instance variables\")\n",
        "    \n",
        "    # This function can access instance variables\n",
        "    def f2(self):\n",
        "        print(\"I can access the instance variables\")\n",
        "        print(self.name)\n",
        "        print(self.age)\n",
        "        \n",
        "# Creation of the objects of 2 students \n",
        "s1= Student(\"Sid\",23)\n",
        "s2= Student(\"Francis\",32)\n",
        "\n",
        "# Calling the f1 function \n",
        "Student.f1()\n",
        "Student.f1()\n",
        "print()\n",
        "\n",
        "# Calling the f2 function \n",
        "s1.f2()\n",
        "print()\n",
        "s2.f2()"
      ],
      "execution_count": null,
      "outputs": [
        {
          "output_type": "stream",
          "text": [
            "I cannot access instance variables\n",
            "I cannot access instance variables\n",
            "\n",
            "I can access the instance variables\n",
            "Sid\n",
            "23\n",
            "\n",
            "I can access the instance variables\n",
            "Francis\n",
            "32\n"
          ],
          "name": "stdout"
        }
      ]
    },
    {
      "cell_type": "markdown",
      "metadata": {
        "id": "Kwc3aDsP6-9S",
        "colab_type": "text"
      },
      "source": [
        "#### Difference between __init__() function and normal function \n",
        "\n",
        "    1) Implicit call                    Explicit Call \n",
        "    \n",
        "    2) One time call                    Any number of time \n",
        "    \n",
        "    3) To declare instance variable     For business logic \n",
        "    \n",
        "    4) One argument is must             No such rule \n",
        "    \n",
        "**Note** If we are making 2 objects of the same class then those 2 objects can have different number of instance variables. "
      ]
    },
    {
      "cell_type": "markdown",
      "metadata": {
        "id": "HMrlJpOi6-9T",
        "colab_type": "text"
      },
      "source": [
        "### 5.6 Types of Variables - Instance Variables \n",
        "\n",
        "There are 4 types of variables \n",
        "\n",
        "    1) Instance Variables \n",
        "    2) Static Variables \n",
        "    3) Local Variables \n",
        "    4) Global Variables \n",
        "    \n",
        "Instance variables store the information which is object specific "
      ]
    },
    {
      "cell_type": "markdown",
      "metadata": {
        "id": "O4nrQy2D6-9T",
        "colab_type": "text"
      },
      "source": [
        "#### How to create the instance variables ? \n",
        "\n",
        "    1) __init__() function -----> MOSTLY USED \n",
        "    2) methods \n",
        "    3) outside the class \n",
        "    \n",
        "    "
      ]
    },
    {
      "cell_type": "code",
      "metadata": {
        "id": "cszZUAIv6-9T",
        "colab_type": "code",
        "colab": {},
        "outputId": "2f5b1302-0fb5-466c-a6f1-b29fdf4e05c9"
      },
      "source": [
        "class Account:\n",
        "    def __init__(self, accno1, balance1):\n",
        "        # Creation of instance variables\n",
        "        self.accno1= accno1\n",
        "        self.balance1= balance1\n",
        "        \n",
        "    def f1(self, accno2, balance2):\n",
        "        # Creation of instance variables\n",
        "        self.accno2= accno2\n",
        "        self.balance2= balance2\n",
        "        \n",
        "# Creating an object of Account class \n",
        "a1=Account(100,5000)\n",
        "\n",
        "# How many instance variables \n",
        "print(a1.__dict__)\n",
        "\n",
        "# Calling the f1 function to add more instance variables \n",
        "a1.f1(200,7000)\n",
        "\n",
        "print(a1.__dict__)\n",
        "        \n",
        "# Creating the instance variables outside the class \n",
        "a1.accno3=300\n",
        "a1.balance3=1000\n",
        "\n",
        "print(a1.__dict__)"
      ],
      "execution_count": null,
      "outputs": [
        {
          "output_type": "stream",
          "text": [
            "{'accno1': 100, 'balance1': 5000}\n",
            "{'accno1': 100, 'balance1': 5000, 'accno2': 200, 'balance2': 7000}\n",
            "{'accno1': 100, 'balance1': 5000, 'accno2': 200, 'balance2': 7000, 'accno3': 300, 'balance3': 1000}\n"
          ],
          "name": "stdout"
        }
      ]
    },
    {
      "cell_type": "markdown",
      "metadata": {
        "id": "tnEGjcg16-9V",
        "colab_type": "text"
      },
      "source": [
        "### 5.7 Static Variables \n",
        "\n",
        "- There is no static keyword in python \n",
        "- It is only class specific not object specific \n",
        "- Shared variable among all the objects "
      ]
    },
    {
      "cell_type": "code",
      "metadata": {
        "id": "eDd-wRAc6-9W",
        "colab_type": "code",
        "colab": {},
        "outputId": "15c66fb3-ca44-402c-8c53-018ec83b85cd"
      },
      "source": [
        "class Test:\n",
        "    # Static Variable \n",
        "    var=300\n",
        "    \n",
        "    def __init__(self):\n",
        "        self.a=1 # Instance Variable \n",
        "        Test.b=2 # Static Variable \n",
        "        \n",
        "    def f1(self): # Instance Member function \n",
        "        self.c= 3 # Instance variable \n",
        "        Test.d= 4 # Static Variable \n",
        "        \n",
        "    @ staticmethod \n",
        "    def f2():\n",
        "        Test.e= 5 # Static variable \n",
        "        \n",
        "    def f3(m,n): # Can be static/instance method\n",
        "        print(m,n)\n",
        "        Test.f= 6 # Static Variable \n",
        "        \n",
        "    @ classmethod \n",
        "    def f4(cls):\n",
        "        cls.g= 7\n",
        "        Test.h=8\n",
        "        \n",
        "# Creating the object of the class Test \n",
        "t1= Test()\n",
        "\n",
        "# Calling the f1 function \n",
        "t1.f1()\n",
        "\n",
        "# Calling f2 \n",
        "t1.f2()\n",
        "\n",
        "# This behaves as instance method \n",
        "t1.f3(100)\n",
        "# This behaves as static method \n",
        "Test.f3(100,200)\n",
        "\n",
        "Test.f4()\n",
        "\n",
        "# We can also create the static variable outside the class body \n",
        "Test.i=9\n",
        "\n",
        "# Print the number of instance varibles in the object t1 \n",
        "print(t1.__dict__)\n",
        "\n",
        "# Print the number of static variables of the Test Class \n",
        "print(Test.__dict__)"
      ],
      "execution_count": null,
      "outputs": [
        {
          "output_type": "stream",
          "text": [
            "<__main__.Test object at 0x0000000E6AD3BFC8> 100\n",
            "100 200\n",
            "{'a': 1, 'c': 3}\n",
            "{'__module__': '__main__', 'var': 300, '__init__': <function Test.__init__ at 0x0000000E6AD2CDC8>, 'f1': <function Test.f1 at 0x0000000E6AD2C708>, 'f2': <staticmethod object at 0x0000000E6AD3BD88>, 'f3': <function Test.f3 at 0x0000000E6AD2C678>, 'f4': <classmethod object at 0x0000000E6AD383C8>, '__dict__': <attribute '__dict__' of 'Test' objects>, '__weakref__': <attribute '__weakref__' of 'Test' objects>, '__doc__': None, 'b': 2, 'd': 4, 'e': 5, 'f': 6, 'g': 7, 'h': 8, 'i': 9}\n"
          ],
          "name": "stdout"
        }
      ]
    },
    {
      "cell_type": "markdown",
      "metadata": {
        "id": "cDTa8p176-9W",
        "colab_type": "text"
      },
      "source": [
        "### 5.8 Local and Global Variables \n",
        "\n",
        "- Local Variables have its scope only in function body. "
      ]
    },
    {
      "cell_type": "code",
      "metadata": {
        "id": "OUweGYhd6-9X",
        "colab_type": "code",
        "colab": {},
        "outputId": "79612244-7136-4d68-9b59-b934faab4803"
      },
      "source": [
        "def f1():\n",
        "    # This is a local variable \n",
        "    x=5\n",
        "    print(\"Inside function\",x)\n",
        "    \n",
        "# Calling the function \n",
        "f1()\n",
        "\n",
        "# Cannot access the local variable outside the function body. \n",
        "# It will give error \n",
        "print(x)"
      ],
      "execution_count": null,
      "outputs": [
        {
          "output_type": "stream",
          "text": [
            "Inside function 5\n"
          ],
          "name": "stdout"
        },
        {
          "output_type": "error",
          "ename": "NameError",
          "evalue": "name 'x' is not defined",
          "traceback": [
            "\u001b[1;31m---------------------------------------------------------------------------\u001b[0m",
            "\u001b[1;31mNameError\u001b[0m                                 Traceback (most recent call last)",
            "\u001b[1;32m<ipython-input-24-75361ce7e089>\u001b[0m in \u001b[0;36m<module>\u001b[1;34m\u001b[0m\n\u001b[0;32m      9\u001b[0m \u001b[1;31m# Cannot access the local variable outside the function body.\u001b[0m\u001b[1;33m\u001b[0m\u001b[1;33m\u001b[0m\u001b[1;33m\u001b[0m\u001b[0m\n\u001b[0;32m     10\u001b[0m \u001b[1;31m# It will give error\u001b[0m\u001b[1;33m\u001b[0m\u001b[1;33m\u001b[0m\u001b[1;33m\u001b[0m\u001b[0m\n\u001b[1;32m---> 11\u001b[1;33m \u001b[0mprint\u001b[0m\u001b[1;33m(\u001b[0m\u001b[0mx\u001b[0m\u001b[1;33m)\u001b[0m\u001b[1;33m\u001b[0m\u001b[1;33m\u001b[0m\u001b[0m\n\u001b[0m",
            "\u001b[1;31mNameError\u001b[0m: name 'x' is not defined"
          ]
        }
      ]
    },
    {
      "cell_type": "markdown",
      "metadata": {
        "id": "TQQmWaoi6-9Y",
        "colab_type": "text"
      },
      "source": [
        "- **Global Variables** are defined outside the class as well as the function body. \n",
        "\n",
        "- These are accesible in any part of the program. "
      ]
    },
    {
      "cell_type": "code",
      "metadata": {
        "id": "yXbfb2wP6-9Y",
        "colab_type": "code",
        "colab": {},
        "outputId": "6410db9f-a789-4fdc-96df-cc7cffa3443a"
      },
      "source": [
        "y=10 # Global variable \n",
        "print(\"Outside function y=\",y)\n",
        "def f1():\n",
        "    x=5 # Local variable \n",
        "    print(\"Inside function y=\",y)\n",
        "    print(\"Inside function x=\",x)\n",
        "\n",
        "# Calling the function \n",
        "f1()\n",
        "\n",
        "print(\"Outside function x=\",x)"
      ],
      "execution_count": null,
      "outputs": [
        {
          "output_type": "stream",
          "text": [
            "Outside function y= 10\n",
            "Inside function y= 10\n",
            "Inside function x= 5\n"
          ],
          "name": "stdout"
        },
        {
          "output_type": "error",
          "ename": "NameError",
          "evalue": "name 'x' is not defined",
          "traceback": [
            "\u001b[1;31m---------------------------------------------------------------------------\u001b[0m",
            "\u001b[1;31mNameError\u001b[0m                                 Traceback (most recent call last)",
            "\u001b[1;32m<ipython-input-26-58307233c495>\u001b[0m in \u001b[0;36m<module>\u001b[1;34m\u001b[0m\n\u001b[0;32m      9\u001b[0m \u001b[0mf1\u001b[0m\u001b[1;33m(\u001b[0m\u001b[1;33m)\u001b[0m\u001b[1;33m\u001b[0m\u001b[1;33m\u001b[0m\u001b[0m\n\u001b[0;32m     10\u001b[0m \u001b[1;33m\u001b[0m\u001b[0m\n\u001b[1;32m---> 11\u001b[1;33m \u001b[0mprint\u001b[0m\u001b[1;33m(\u001b[0m\u001b[1;34m\"Outside function x=\"\u001b[0m\u001b[1;33m,\u001b[0m\u001b[0mx\u001b[0m\u001b[1;33m)\u001b[0m\u001b[1;33m\u001b[0m\u001b[1;33m\u001b[0m\u001b[0m\n\u001b[0m",
            "\u001b[1;31mNameError\u001b[0m: name 'x' is not defined"
          ]
        }
      ]
    },
    {
      "cell_type": "markdown",
      "metadata": {
        "id": "0kjy5Yh96-9Z",
        "colab_type": "text"
      },
      "source": [
        "**NOTE** - If there is name conflict between the local and global variable and we try to access that variable in function body, then that variable is by default local variable. "
      ]
    },
    {
      "cell_type": "code",
      "metadata": {
        "id": "dTDZHHym6-9Z",
        "colab_type": "code",
        "colab": {},
        "outputId": "d5c918a6-4005-4247-9731-66fcf2855f05"
      },
      "source": [
        "y=10 # Global variable \n",
        "\n",
        "def f1():\n",
        "    # Name conflict \n",
        "    y=5\n",
        "    print(\"Local y=\",y)\n",
        "    \n",
        "# Now local variable is printed through function call \n",
        "f1()\n",
        "    \n",
        "# Here global variable is printed\n",
        "print(\"Global y=\",y)"
      ],
      "execution_count": null,
      "outputs": [
        {
          "output_type": "stream",
          "text": [
            "Local y= 5\n",
            "Global y= 10\n"
          ],
          "name": "stdout"
        }
      ]
    },
    {
      "cell_type": "markdown",
      "metadata": {
        "id": "_-t4Pe956-9b",
        "colab_type": "text"
      },
      "source": [
        "#### Access global variable inside the function \n"
      ]
    },
    {
      "cell_type": "code",
      "metadata": {
        "id": "0V7Yf1yi6-9b",
        "colab_type": "code",
        "colab": {},
        "outputId": "e8045998-961d-46da-fc54-1e1d8bf27693"
      },
      "source": [
        "y=10 # Global variable \n",
        "print(\"Outside function y=\",y)\n",
        "\n",
        "def f1():\n",
        "    # Accessing global y through global keyword \n",
        "    global y\n",
        "    # There is no creation of any local variable\n",
        "    y=5 \n",
        "    print(\"Inside function y=\",y)\n",
        "    \n",
        "f1()\n",
        "print(\"New value of global y=\",y)"
      ],
      "execution_count": null,
      "outputs": [
        {
          "output_type": "stream",
          "text": [
            "Outside function y= 10\n",
            "Inside function y= 5\n",
            "New value of global y= 5\n"
          ],
          "name": "stdout"
        }
      ]
    },
    {
      "cell_type": "markdown",
      "metadata": {
        "id": "k68mLWWT6-9c",
        "colab_type": "text"
      },
      "source": [
        "#### Creation of global variable inside the function "
      ]
    },
    {
      "cell_type": "code",
      "metadata": {
        "id": "lAkEHqoN6-9c",
        "colab_type": "code",
        "colab": {},
        "outputId": "75727abe-d951-47a8-cbb5-2133cd906010"
      },
      "source": [
        "# No global variable outside the function \n",
        "\n",
        "def f1():\n",
        "    # It will create the global variable y \n",
        "    global y\n",
        "    y=5 \n",
        "    print(\"Inside function y=\",y)\n",
        "    \n",
        "f1()\n",
        "\n",
        "print(\"Outside function y=\",y)"
      ],
      "execution_count": null,
      "outputs": [
        {
          "output_type": "stream",
          "text": [
            "Inside function y= 5\n",
            "Outside function y= 5\n"
          ],
          "name": "stdout"
        }
      ]
    },
    {
      "cell_type": "markdown",
      "metadata": {
        "id": "fcEkgHSE6-9d",
        "colab_type": "text"
      },
      "source": [
        "#### Access local and global variables with same name inside the function body. "
      ]
    },
    {
      "cell_type": "code",
      "metadata": {
        "id": "lUlboGPt6-9d",
        "colab_type": "code",
        "colab": {},
        "outputId": "0b907cf3-85ce-4704-d0be-2a99f95e85ec"
      },
      "source": [
        "y=10 # Global variable \n",
        "print(\"Outside function y=\",y)\n",
        "\n",
        "def f1():\n",
        "    y=5 # Local variable \n",
        "    print(\"Inside function local y=\",y)\n",
        "    print(\"Inside function global y=\",globals()['y'])\n",
        "    \n",
        "f1()\n",
        "print(\"Outside function y=\",y)"
      ],
      "execution_count": null,
      "outputs": [
        {
          "output_type": "stream",
          "text": [
            "Outside function y= 10\n",
            "Inside function local y= 5\n",
            "Inside function global y= 10\n",
            "Outside function y= 10\n"
          ],
          "name": "stdout"
        }
      ]
    },
    {
      "cell_type": "markdown",
      "metadata": {
        "id": "zzj2y69U6-9e",
        "colab_type": "text"
      },
      "source": [
        "### 5.9 Inheritance Part 1 \n",
        "\n",
        "- **Encapsulation**- Single group of all properties and methods by forming a class.\n",
        "\n",
        "- OOPs concept tends to achieve **reusability**. \n",
        "\n",
        "- Defining a new class with the help of an old class is called **Inheritance**\n",
        "\n",
        "- **Person** is base class, super class, old class, parent class. \n",
        "\n",
        "- **Student** is derived class, sub class, new class, child class. "
      ]
    },
    {
      "cell_type": "markdown",
      "metadata": {
        "id": "YnO2Zs_A6-9e",
        "colab_type": "text"
      },
      "source": [
        "### 5.10 Inheritance Part 2 \n",
        "\n",
        "- In python if we write a code that creates the object of child class then init function of child class is implicitly called and no init function of parent class is invoked by default unless we write the code for it. \n",
        "\n",
        "- **Overriding**- If the parent class and child class have the function with same name and arguments. \n",
        "\n",
        "- **Data hiding**- If the parent class and child class have the function with the same name but different arguments. \n",
        "\n",
        "- In python, if we want child class constructor to call the parent class constructor then its explicitly possible by writing the code anywhere in the body of the init function of child class. \n",
        "\n",
        "           1. Parent class name to call the init function.\n",
        "           2. Super keyword. "
      ]
    },
    {
      "cell_type": "code",
      "metadata": {
        "id": "DWw6knuY6-9e",
        "colab_type": "code",
        "colab": {},
        "outputId": "108f6b8d-0411-494b-8cae-5ac7a5899f06"
      },
      "source": [
        "class Person:\n",
        "    def __init__(self, n, a):\n",
        "        self.name= n\n",
        "        self.age= a\n",
        "    def show_name(self):\n",
        "        print(\"Name={}\".format(self.name))\n",
        "    def show_age(self):\n",
        "        print(\"Age={}\".format(self.age))\n",
        "        \n",
        "class Student(Person):\n",
        "    def __init__(self, r):\n",
        "        self.rollno= r\n",
        "        # Code to call the init function of parent class \n",
        "        Person.__init__(self, \"Rahul\", 16)\n",
        "        # Alternative code for the above code \n",
        "        #super().__init__(\"Rahul\",16)\n",
        "    def show_rollno(self):\n",
        "        print(\"Rollno={}\".format(self.rollno))\n",
        "        \n",
        "# Creating the object \n",
        "# This will create the 3 instance variables rollno, name and age \n",
        "# Now s1 is pointing to the object which contains these 3 variables. \n",
        "# Therefore we can access these variables through the object of the child (student) class. \n",
        "\n",
        "s1= Student(100)\n",
        "s1.show_rollno()\n",
        "\n",
        "# Function will be searched first in student class and if not found then go in parent class\n",
        "s1.show_name()\n",
        "s1.show_age()\n",
        "        "
      ],
      "execution_count": null,
      "outputs": [
        {
          "output_type": "stream",
          "text": [
            "Rollno=100\n",
            "Name=Rahul\n",
            "Age=16\n"
          ],
          "name": "stdout"
        }
      ]
    },
    {
      "cell_type": "code",
      "metadata": {
        "id": "oT0SDqna6-9i",
        "colab_type": "code",
        "colab": {}
      },
      "source": [
        ""
      ],
      "execution_count": null,
      "outputs": []
    }
  ]
}